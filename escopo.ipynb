{
 "cells": [
  {
   "cell_type": "markdown",
   "id": "faa85558",
   "metadata": {},
   "source": [
    "# Escopo"
   ]
  },
  {
   "cell_type": "markdown",
   "id": "495eea60",
   "metadata": {},
   "source": []
  },
  {
   "cell_type": "markdown",
   "id": "b9ad0915",
   "metadata": {},
   "source": [
    "* namespaces e escopos\n",
    "    * exec e eval?\n",
    "* naming and binding\n",
    "    * contador de referencias e o comando del\n",
    "    * modificações ao deletar (ou a eficiência do comando del)\n",
    "    * singletons implícitos (chars e ints pequenos)\n",
    "    * garbage collection\n",
    "* Bonus: if name == main"
   ]
  },
  {
   "cell_type": "markdown",
   "id": "cf316d20",
   "metadata": {},
   "source": [
    "## Nomes e vínculos"
   ]
  },
  {
   "cell_type": "markdown",
   "id": "93756be3",
   "metadata": {},
   "source": [
    "### Mecanismo de nomeação em Python"
   ]
  },
  {
   "cell_type": "markdown",
   "id": "fa641b0a",
   "metadata": {},
   "source": [
    "Quando atribuímos algum objeto a um **nome** em Python, usando o operador de atribuição ```=```, não estamos propriamente pegando o conteúdo atribuído e copiando para um local da memória reservado àquele nome. Ocorre o inverso: o Python faz com que aquele nome aponte para o local da memória onde está o conteúdo atribuído. Em outras palavras, a atribuição por si só não copia dados. Outro termo usado na documentação oficial para designar o nome é **identificador**.\n",
    "\n",
    "Já o ponteiro que aponta para o objeto, ou seja, o valor que está  estocado na memória por trás deste nome, é chamado de **referência**.\n",
    "\n",
    "O ato de estabelecer essa conexão entre nomes e referências a objetos no contexto de um namespace é chamado de **vínculo** ou vinculação.\n",
    "\n",
    "(Obs.: em alguns textos pode-se encontrar uma diferença sutil entre identificador e nome, sendo o primeiro mais usado para se referir ao tipo de token na análise léxica, e o segundo empregado para o uso efetivo do identificador na memória, em tempo de execução.)\n",
    "\n",
    "Ao atribuirmos um nome a outro nome já existente, como no código abaixo, o Python vincula o novo nome à mesma referência por trás do nome original. Assim, se atribuirmos um novo objeto ao nome original, estabelecemos para aquele nome um novo vínculo, que abandona a primeira referência. Notar que a função ```print()``` não usa o valor do nome em si (```'x'```) - este é usado apenas para passar a referência ao objeto subjacente."
   ]
  },
  {
   "cell_type": "code",
   "execution_count": 184,
   "id": "f1f04607",
   "metadata": {},
   "outputs": [
    {
     "name": "stdout",
     "output_type": "stream",
     "text": [
      "Valor apontado por x: 2\n",
      "Valor apontado por y: 1\n"
     ]
    }
   ],
   "source": [
    "x = 1 # x aponta para um objeto int(1)\n",
    "y = x # y aponta para o mesmo objeto int(1)\n",
    "x += 1 # como int é imutável, é instanciado um novo objeto int(2)\n",
    "print(f'Valor apontado por x: {x}') # x passa a apontar para este novo objeto int(2)\n",
    "print(f'Valor apontado por y: {y}') # y preserva a referência ao objeto original int(1)"
   ]
  },
  {
   "cell_type": "markdown",
   "id": "7937b550",
   "metadata": {},
   "source": [
    " Notar, ainda, que o código acima funciona dessa forma porque um número inteiro é um imutável, levando o Python a criar uma nova instância de objeto ao realizarmos a atribuição ```+=```. O mesmo pode não ocorrer com objetos mutáveis. Vejamos a diferença no caso do código abaixo. Como estamos modificando o valor do objeto já atribuído, nenhuma nova instância é criada, preservando em ambos os identificadores a referência original."
   ]
  },
  {
   "cell_type": "code",
   "execution_count": null,
   "id": "a031dba0",
   "metadata": {},
   "outputs": [
    {
     "name": "stdout",
     "output_type": "stream",
     "text": [
      "Valor apontado por x: [1, 1]\n",
      "Valor apontado por y: [1, 1]\n"
     ]
    }
   ],
   "source": [
    "x = [1]\n",
    "y = x\n",
    "x += [1]\n",
    "print(f'Valor apontado por x: {x}')\n",
    "print(f'Valor apontado por y: {y}')"
   ]
  },
  {
   "cell_type": "markdown",
   "id": "f846693b",
   "metadata": {},
   "source": [
    "Dois nomes vinculados a um exato mesmo objeto na memória são por vezes chamados de **sinônimos**."
   ]
  },
  {
   "cell_type": "markdown",
   "id": "8c2286e8",
   "metadata": {},
   "source": [
    "### Criação de vínculos"
   ]
  },
  {
   "cell_type": "markdown",
   "id": "d6a4fbcc",
   "metadata": {},
   "source": []
  },
  {
   "cell_type": "markdown",
   "id": "04fc7347",
   "metadata": {},
   "source": [
    "### Contador de vínculos e o comando ```del```"
   ]
  },
  {
   "cell_type": "markdown",
   "id": "a1b09099",
   "metadata": {},
   "source": [
    "Todo valor em Python, quando é criado, recebe uma sequência de bits logo em seu começo que trata única e exclusivamente de contar o número de vínculos que atualmente levam àquele valor. Sempre que executamos a instrução ```del [nome]```, o contador de referências é decrescido em uma unidade. Sempre que adicionamos uma referência ou um vínculo, o contador é acrescido uma unidade.\n",
    "\n",
    "Quando o contador de referências de um objeto chega a ```0```, ele não é mais encontrável no programa, pois não há como saber onde ele se encontra na memória. Tal objeto estará então pronto para ser coletado pelo coletor de lixo automático do Python (*garbage collector*).\n",
    "\n",
    "** INTRODUZIR VICISSITUDES DO GARBAGE COLLECTOR **\n",
    "\n",
    "No código abaixo, usamos as bibliotecas ```sys``` e ```ctypes``` para obter acesso direto ao conteúdo do objeto ```obj1``` na memória. Não nos preocuparemos aqui com os detalhes dessas funcionalidades, que não são tema deste tópico. Tudo que precisamos saber é que este código imprime os bits do objeto. Notar que o primeiro byte do objeto estoca o número 1 em binários (```00000001```), justamente porque existe um único vínculo a este objeto, envolvendo o nome ```obj1```."
   ]
  },
  {
   "cell_type": "code",
   "execution_count": 165,
   "id": "9fc6ad0a",
   "metadata": {},
   "outputs": [
    {
     "name": "stdout",
     "output_type": "stream",
     "text": [
      "00000001 00000000 00000000 00000000 00000000 00000000 00000000 00000000\n",
      "01110000 10011111 10010101 11000111 11111001 01111111 00000000 00000000\n",
      "11110100 00000001 00000000 00000000 00000000 00000000 00000000 00000000\n",
      "01110110 01001001 00011001 11100000 00000010 10111000 10101101 10000001\n",
      "01100101 00011000 10011000 11000111 11111001 01111111 00000000 00000000\n",
      "01100010 01100010 01100010 01100010 01100010 01100010 01100010 01100010\n",
      "01100010 01100010 01100010 01100010 01100010 01100010 01100010 01100010\n",
      "01100010 01100010 01100010 01100010 01100010 01100010 01100010 01100010\n",
      "01100010 01100010 01100010 01100010 01100010 01100010 01100010 01100010\n",
      "01100010 01100010 01100010 01100010 01100010 01100010 01100010 01100010\n",
      "01100010 01100010 01100010 01100010 01100010 01100010 01100010 01100010\n",
      "01100010 01100010 01100010 01100010 01100010 01100010 01100010 01100010\n",
      "01100010 01100010 01100010 01100010 01100010 01100010 01100010 01100010\n",
      "01100010 01100010 01100010 01100010 01100010 01100010 01100010 01100010\n",
      "01100010 01100010 01100010 01100010 01100010 01100010 01100010 01100010\n",
      "01100010 01100010 01100010 01100010 01100010 01100010 01100010 01100010\n",
      "01100010 01100010 01100010 01100010 01100010 01100010 01100010 01100010\n",
      "01100010 01100010 01100010 01100010 01100010 01100010 01100010 01100010\n",
      "01100010 01100010 01100010 01100010 01100010 01100010 01100010 01100010\n",
      "01100010 01100010 01100010 01100010 01100010 01100010 01100010 01100010\n",
      "01100010 01100010 01100010 01100010 01100010 01100010 01100010 01100010\n",
      "01100010 01100010 01100010 01100010 01100010 01100010 01100010 01100010\n",
      "01100010 01100010 01100010 01100010 01100010 01100010 01100010 01100010\n",
      "01100010 01100010 01100010 01100010 01100010 01100010 01100010 01100010\n",
      "01100010 01100010 01100010 01100010 01100010 01100010 01100010 01100010\n",
      "01100010 01100010 01100010 01100010 01100010 01100010 01100010 01100010\n",
      "01100010 01100010 01100010 01100010 01100010 01100010 01100010 01100010\n",
      "01100010 01100010 01100010 01100010 01100010 01100010 01100010 01100010\n",
      "01100010 01100010 01100010 01100010 01100010 01100010 01100010 01100010\n",
      "01100010 01100010 01100010 01100010 01100010 01100010 01100010 01100010\n",
      "01100010 01100010 01100010 01100010 01100010 01100010 01100010 01100010\n",
      "01100010 01100010 01100010 01100010 01100010 01100010 01100010 01100010\n",
      "01100010 01100010 01100010 01100010 01100010 01100010 01100010 01100010\n",
      "01100010 01100010 01100010 01100010 01100010 01100010 01100010 01100010\n",
      "01100010 01100010 01100010 01100010 01100010 01100010 01100010 01100010\n",
      "01100010 01100010 01100010 01100010 01100010 01100010 01100010 01100010\n",
      "01100010 01100010 01100010 01100010 01100010 01100010 01100010 01100010\n",
      "01100010 01100010 01100010 01100010 01100010 01100010 01100010 01100010\n",
      "01100010 01100010 01100010 01100010 01100010 01100010 01100010 01100010\n",
      "01100010 01100010 01100010 01100010 01100010 01100010 01100010 01100010\n",
      "01100010 01100010 01100010 01100010 01100010 01100010 01100010 01100010\n",
      "01100010 01100010 01100010 01100010 01100010 01100010 01100010 01100010\n",
      "01100010 01100010 01100010 01100010 01100010 01100010 01100010 01100010\n",
      "01100010 01100010 01100010 01100010 01100010 01100010 01100010 01100010\n",
      "01100010 01100010 01100010 01100010 01100010 01100010 01100010 01100010\n",
      "01100010 01100010 01100010 01100010 01100010 01100010 01100010 01100010\n",
      "01100010 01100010 01100010 01100010 01100010 01100010 01100010 01100010\n",
      "01100010 01100010 01100010 01100010 01100010 01100010 01100010 01100010\n",
      "01100010 01100010 01100010 01100010 01100010 01100010 01100010 01100010\n",
      "01100010 01100010 01100010 01100010 01100010 01100010 01100010 01100010\n",
      "01100010 01100010 01100010 01100010 01100010 01100010 01100010 01100010\n",
      "01100010 01100010 01100010 01100010 01100010 01100010 01100010 01100010\n",
      "01100010 01100010 01100010 01100010 01100010 01100010 01100010 01100010\n",
      "01100010 01100010 01100010 01100010 01100010 01100010 01100010 01100010\n",
      "01100010 01100010 01100010 01100010 01100010 01100010 01100010 01100010\n",
      "01100010 01100010 01100010 01100010 01100010 01100010 01100010 01100010\n",
      "01100010 01100010 01100010 01100010 01100010 01100010 01100010 01100010\n",
      "01100010 01100010 01100010 01100010 01100010 01100010 01100010 01100010\n",
      "01100010 01100010 01100010 01100010 01100010 01100010 01100010 01100010\n",
      "01100010 01100010 01100010 01100010 01100010 01100010 01100010 01100010\n",
      "01100010 01100010 01100010 01100010 01100010 01100010 01100010 01100010\n",
      "01100010 01100010 01100010 01100010 01100010 01100010 01100010 01100010\n",
      "01100010 01100010 01100010 01100010 01100010 01100010 01100010 01100010\n",
      "01100010 01100010 01100010 01100010 01100010 01100010 01100010 01100010\n",
      "01100010 01100010 01100010 01100010 01100010 01100010 01100010 01100010\n",
      "01100010 01100010 01100010 01100010 01100010 01100010 01100010 01100010\n",
      "01100010 01100010 01100010 01100010 01100010 01100010 01100010 01100010\n",
      "01100010 01100010 01100010 01100010 00000000 \n"
     ]
    }
   ],
   "source": [
    "import ctypes\n",
    "import sys\n",
    "\n",
    "obj1 = 'b' * 500 # cria o objeto (uma string grande)\n",
    "addr = id(obj1) # pega o endereço do objeto na memória\n",
    "n_bytes = sys.getsizeof(obj1) # pega o número de bytes ocupado pelo objeto\n",
    "ptr = ctypes.cast(addr, ctypes.POINTER(ctypes.c_uint8)) # cria um pointer de C para o endereço do objeto\n",
    "lista_bits = ''.join(f'{ptr[i]:08b} ' for i in range(n_bytes))[:-1].split(' ') # lê cada byte do objeto e estoca em uma lista de strings\n",
    "\n",
    "# loop para visualizar n bytes em uma linha\n",
    "n = 8\n",
    "visualizacao = ''\n",
    "espaco = '\\n '\n",
    "for i, byte in enumerate(lista_bits):\n",
    "    tipo_de_espaco = bool((i+1) % n)\n",
    "    visualizacao += (byte + espaco[tipo_de_espaco])\n",
    "\n",
    "print(visualizacao)"
   ]
  },
  {
   "cell_type": "markdown",
   "id": "6ca100cd",
   "metadata": {},
   "source": [
    "Agora vamos encapsular uma parte deste código na função ```bits()```, que retorna os bits do objeto. Criamos também uma função de comparação para imprimir verticalmente o conteúdo de dois objetos de mesmo tamanho. O número de bytes impresso é customizável por meio do atributo ```bytes_mostrados```."
   ]
  },
  {
   "cell_type": "code",
   "execution_count": 260,
   "id": "9257a227",
   "metadata": {},
   "outputs": [],
   "source": [
    "def bits(x):\n",
    "    addr = id(x)\n",
    "    n_bytes = sys.getsizeof(x)\n",
    "    ptr = ctypes.cast(addr, ctypes.POINTER(ctypes.c_uint8))\n",
    "    bits = ''.join(f'{ptr[i]:08b} ' for i in range(n_bytes))[:-1].split(' ')\n",
    "    return bits\n",
    "\n",
    "def comparar(x_bits, y_bits, bytes_mostrados=1):\n",
    "    n = len(x_bits)\n",
    "    if bytes_mostrados < n:\n",
    "        n = bytes_mostrados\n",
    "    print('   1        2       iguais?')\n",
    "    for i in range(n):\n",
    "        print(x_bits[i], y_bits[i], ' ', x_bits[i] == y_bits[i])"
   ]
  },
  {
   "cell_type": "markdown",
   "id": "308dfd09",
   "metadata": {},
   "source": [
    "Em seguida, geramos alguns objetos e observamos seu conteúdo. No exemplo abaixo, o objeto ```obj2``` é nomeado e salvamos seu conteúdo em bits usando a função acima. Posteriormente, vinculamos o nome ```obj3``` ao mesmo objeto referenciado pelo nome ```obj2```, e de novo salvamos seu conteúdo em bits. Ao final, imprimimos apenas o primeiro byte de cada objeto (contador de referências)."
   ]
  },
  {
   "cell_type": "code",
   "execution_count": 261,
   "id": "c2166995",
   "metadata": {},
   "outputs": [
    {
     "ename": "TypeError",
     "evalue": "'str' object is not callable",
     "output_type": "error",
     "traceback": [
      "\u001b[1;31m---------------------------------------------------------------------------\u001b[0m",
      "\u001b[1;31mTypeError\u001b[0m                                 Traceback (most recent call last)",
      "Cell \u001b[1;32mIn[261], line 2\u001b[0m\n\u001b[0;32m      1\u001b[0m obj2 \u001b[38;5;241m=\u001b[39m \u001b[38;5;124m'\u001b[39m\u001b[38;5;124me\u001b[39m\u001b[38;5;124m'\u001b[39m \u001b[38;5;241m*\u001b[39m \u001b[38;5;241m500\u001b[39m\n\u001b[1;32m----> 2\u001b[0m antes \u001b[38;5;241m=\u001b[39m \u001b[43mbits\u001b[49m\u001b[43m(\u001b[49m\u001b[43mobj2\u001b[49m\u001b[43m)\u001b[49m\n\u001b[0;32m      3\u001b[0m obj3 \u001b[38;5;241m=\u001b[39m obj2\n\u001b[0;32m      4\u001b[0m depois \u001b[38;5;241m=\u001b[39m bits(obj3)\n",
      "Cell \u001b[1;32mIn[260], line 2\u001b[0m, in \u001b[0;36mbits\u001b[1;34m(x)\u001b[0m\n\u001b[0;32m      1\u001b[0m \u001b[38;5;28;01mdef\u001b[39;00m \u001b[38;5;21mbits\u001b[39m(x):\n\u001b[1;32m----> 2\u001b[0m     addr \u001b[38;5;241m=\u001b[39m \u001b[38;5;28;43mid\u001b[39;49m\u001b[43m(\u001b[49m\u001b[43mx\u001b[49m\u001b[43m)\u001b[49m\n\u001b[0;32m      3\u001b[0m     n_bytes \u001b[38;5;241m=\u001b[39m sys\u001b[38;5;241m.\u001b[39mgetsizeof(x)\n\u001b[0;32m      4\u001b[0m     ptr \u001b[38;5;241m=\u001b[39m ctypes\u001b[38;5;241m.\u001b[39mcast(addr, ctypes\u001b[38;5;241m.\u001b[39mPOINTER(ctypes\u001b[38;5;241m.\u001b[39mc_uint8))\n",
      "\u001b[1;31mTypeError\u001b[0m: 'str' object is not callable"
     ]
    }
   ],
   "source": [
    "obj2 = 'e' * 500\n",
    "antes = bits(obj2)\n",
    "obj3 = obj2\n",
    "depois = bits(obj3)\n",
    "comparar(antes, depois)"
   ]
  },
  {
   "cell_type": "markdown",
   "id": "72d27136",
   "metadata": {},
   "source": [
    "Observa-se que o contador após o primeiro vínculo conta 2 (```00000010```) em vez de 1 (```00000001```)! Por que isso acontece? Porque, como explicado acima, passar um objeto como argumento de uma função também cria um vínculo a ele. Como agora temos nosso código encapsulado na função ```bits()```, o mesmo objeto que havia sido vinculado a ```obj2``` também passa a ser vinculado ao argumento ```x``` e sua contagem de vínculos passa a ser 2. Em seguida, ao definirmos o nome sinônimo ```obj3```, o contador de vínculos passa a contar 3 (```00000011```)."
   ]
  },
  {
   "cell_type": "code",
   "execution_count": 258,
   "id": "ac071bf6",
   "metadata": {},
   "outputs": [
    {
     "name": "stdout",
     "output_type": "stream",
     "text": [
      "['a', 'b', 'c', 'd', 'e', 'f', 'g', 'h', 'i', 'j', 'k', 'l', 'm', 'n', 'o', 'p', 'q']\n"
     ]
    },
    {
     "ename": "TypeError",
     "evalue": "'str' object is not callable",
     "output_type": "error",
     "traceback": [
      "\u001b[1;31m---------------------------------------------------------------------------\u001b[0m",
      "\u001b[1;31mTypeError\u001b[0m                                 Traceback (most recent call last)",
      "Cell \u001b[1;32mIn[258], line 8\u001b[0m\n\u001b[0;32m      5\u001b[0m \u001b[38;5;28mprint\u001b[39m(letras)\n\u001b[0;32m      7\u001b[0m obj4 \u001b[38;5;241m=\u001b[39m \u001b[38;5;241m1000\u001b[39m\n\u001b[1;32m----> 8\u001b[0m \u001b[43mbits\u001b[49m\u001b[43m(\u001b[49m\u001b[43mobj4\u001b[49m\u001b[43m)\u001b[49m\n\u001b[0;32m      9\u001b[0m \u001b[38;5;66;03m#for permutacao in permutations(letras, 2):\u001b[39;00m\n\u001b[0;32m     10\u001b[0m \u001b[38;5;66;03m#    print(permutacao)\u001b[39;00m\n\u001b[0;32m     11\u001b[0m \u001b[38;5;66;03m#    nome = permutacao[0] + permutacao[1]\u001b[39;00m\n\u001b[0;32m     12\u001b[0m \u001b[38;5;66;03m#    print(nome)\u001b[39;00m\n\u001b[0;32m     13\u001b[0m \u001b[38;5;66;03m#    exec(f'{nome} = obj4')\u001b[39;00m\n",
      "Cell \u001b[1;32mIn[253], line 2\u001b[0m, in \u001b[0;36mbits\u001b[1;34m(x)\u001b[0m\n\u001b[0;32m      1\u001b[0m \u001b[38;5;28;01mdef\u001b[39;00m \u001b[38;5;21mbits\u001b[39m(x):\n\u001b[1;32m----> 2\u001b[0m     addr \u001b[38;5;241m=\u001b[39m \u001b[38;5;28;43mid\u001b[39;49m\u001b[43m(\u001b[49m\u001b[43mx\u001b[49m\u001b[43m)\u001b[49m\n\u001b[0;32m      3\u001b[0m     n_bytes \u001b[38;5;241m=\u001b[39m sys\u001b[38;5;241m.\u001b[39mgetsizeof(x)\n\u001b[0;32m      4\u001b[0m     ptr \u001b[38;5;241m=\u001b[39m ctypes\u001b[38;5;241m.\u001b[39mcast(addr, ctypes\u001b[38;5;241m.\u001b[39mPOINTER(ctypes\u001b[38;5;241m.\u001b[39mc_uint8))\n",
      "\u001b[1;31mTypeError\u001b[0m: 'str' object is not callable"
     ]
    }
   ],
   "source": [
    "from itertools import permutations\n",
    "from string import ascii_lowercase\n",
    "\n",
    "letras = [letra for letra in ascii_lowercase[:17]]\n",
    "print(letras)\n",
    "\n",
    "obj4 = 1000\n",
    "bits(obj4)\n",
    "#for permutacao in permutations(letras, 2):\n",
    "#    print(permutacao)\n",
    "#    nome = permutacao[0] + permutacao[1]\n",
    "#    print(nome)\n",
    "#    exec(f'{nome} = obj4')"
   ]
  },
  {
   "cell_type": "code",
   "execution_count": 256,
   "id": "0e234597",
   "metadata": {},
   "outputs": [
    {
     "ename": "TypeError",
     "evalue": "'str' object is not callable",
     "output_type": "error",
     "traceback": [
      "\u001b[1;31m---------------------------------------------------------------------------\u001b[0m",
      "\u001b[1;31mTypeError\u001b[0m                                 Traceback (most recent call last)",
      "Cell \u001b[1;32mIn[256], line 2\u001b[0m\n\u001b[0;32m      1\u001b[0m sys\u001b[38;5;241m.\u001b[39mgetrefcount(obj4)\n\u001b[1;32m----> 2\u001b[0m \u001b[38;5;28;43mid\u001b[39;49m\u001b[43m(\u001b[49m\u001b[43mobj4\u001b[49m\u001b[43m)\u001b[49m\n",
      "\u001b[1;31mTypeError\u001b[0m: 'str' object is not callable"
     ]
    }
   ],
   "source": [
    "sys.getrefcount(obj4)\n",
    "id(obj4)"
   ]
  },
  {
   "cell_type": "markdown",
   "id": "918ae8d7",
   "metadata": {},
   "source": [
    "## "
   ]
  },
  {
   "cell_type": "markdown",
   "id": "7f4fc654",
   "metadata": {},
   "source": [
    "## Bônus"
   ]
  },
  {
   "cell_type": "markdown",
   "id": "207d5487",
   "metadata": {},
   "source": [
    "### Operadores ```is``` vs. ```==```"
   ]
  },
  {
   "cell_type": "markdown",
   "id": "b5c30f12",
   "metadata": {},
   "source": [
    "Uma confusão comum entre iniciantes em Python é quando usar ```is``` e quando usar ```==``` para comparar objetos. A dúvida se resolve quando compreendemos o mecanismo de nomeação em Python: ```==``` compara se dois objetos potencilamente diferentes têm o mesmo valor, enquanto ```is``` compara se duas expressões resultam no exato mesmo objeto (ou seja, se as referências por trás de cada lado são as mesmas). Assim, ```x is y``` é equivalente a ```id(x) == id(y)```."
   ]
  },
  {
   "cell_type": "code",
   "execution_count": 26,
   "id": "dd8a931c",
   "metadata": {},
   "outputs": [
    {
     "name": "stdout",
     "output_type": "stream",
     "text": [
      "x e y são o mesmo objeto? False\n",
      "x e y têm o mesmo valor? True\n"
     ]
    }
   ],
   "source": [
    "x = [1]\n",
    "y = [1]\n",
    "print(f'x e y são o mesmo objeto? {x is y}')\n",
    "print(f'x e y têm o mesmo valor? {x == y}')\n"
   ]
  },
  {
   "cell_type": "markdown",
   "id": "649e97ec",
   "metadata": {},
   "source": [
    "É claro que é mais eficiente comparar apenas referências em vez de comparar o objeto inteiro. Porém, vale atentar para algumas nuances no uso deste operador. Quando ambas as expressões retornam o mesmo objeto único (*singletons*) ou imortal, a comparação ```is``` sempre retorna ```True```. Isso pode parecer óbvio, mas às vezes não é fácil de reconhecer para iniciantes na linguagem. Por exemplo, você já se deparou com os casos abaixo?"
   ]
  },
  {
   "cell_type": "code",
   "execution_count": 226,
   "id": "eddc7d7b",
   "metadata": {},
   "outputs": [
    {
     "name": "stdout",
     "output_type": "stream",
     "text": [
      "caso 1: True\n",
      "caso 2: True\n",
      "caso 3: True\n",
      "caso 4: True\n",
      "caso 5: False\n",
      "caso 6: True\n"
     ]
    },
    {
     "name": "stderr",
     "output_type": "stream",
     "text": [
      "<>:26: SyntaxWarning: \"is\" with 'int' literal. Did you mean \"==\"?\n",
      "<>:26: SyntaxWarning: \"is\" with 'int' literal. Did you mean \"==\"?\n",
      "C:\\Users\\henri\\AppData\\Local\\Temp\\ipykernel_76124\\2384360586.py:26: SyntaxWarning: \"is\" with 'int' literal. Did you mean \"==\"?\n",
      "  print('caso 6:', 10**9 is 10**9) # numeros grandes nao deveriam ser objetos identicos\n"
     ]
    }
   ],
   "source": [
    "# caso 1\n",
    "x = 5\n",
    "print('caso 1:', type(x) is int)\n",
    "\n",
    "# caso 2\n",
    "u = 1\n",
    "v = 1\n",
    "print('caso 2:', u is v)\n",
    "\n",
    "# caso 3\n",
    "y = 'a'\n",
    "z = 'a'\n",
    "print('caso 3:', y is z)\n",
    "\n",
    "# caso 4\n",
    "t500 = 'g' * 500\n",
    "w500 = 'g' * 500\n",
    "print('caso 4:', t500 is w500)\n",
    "\n",
    "# caso 5\n",
    "t5000 = 'h' * 5000\n",
    "w5000 = 'h' * 5000\n",
    "print('caso 5:', t5000 is w5000)\n",
    "\n",
    "# caso 6\n",
    "print('caso 6:', 10**9 is 10**9) # numeros grandes nao deveriam ser objetos identicos"
   ]
  },
  {
   "cell_type": "markdown",
   "id": "5b7f5d37",
   "metadata": {},
   "source": [
    "O primeiro caso ocorre porque objetos do tipo ```type``` só admitem uma instância, logo o ```int``` retornado por ```type(int)``` é exatamente o mesmo objeto, na memória, do objeto único ```int```. Isso é possível porque, em Python, todo objeto sabe qual é seu tipo. Em CPython, isso é implementado por meio de um ponteiro ao singleton do tipo correspondente (informação que faz parte do conteúdo do objeto).\n",
    "\n",
    "Já o segundo e o terceiro casos ocorrem porque, em CPython, números inteiros pequenos e expressões reduzidas recebem apenas um endereço de memória, que é apontado por todos os vínculos que usam tal valor (objetos imortais).\n",
    "\n",
    "Por fim, o quarto caso ocorre porque, de novo na implementação CPython, podem ocorrer otimizações por parte do interpretador ao encontrar expressões que usam sucessivamente valores idênticos, principalmente dentro de uma mesma linha lógica, igualando duas referências. Notar que o Python avisa da inadequação de usar ```is``` para comparar literais.\n",
    "\n",
    "A partir de Python 3.12, objetos imortais têm uma contagem de referências gigantesca (na implementação do meu computador e da minha versão, $2^{32} - 1$), que não pode ser diminuída, de modo que esses objetos jamais podem ser coletados pelo garbage collector. O mesmo ocorre com alguns singletons essenciais, tais como ```None```, ```True``` e ```False```, ou os tipos fundamentais da linguagem, como os objetos ```int``` e ```str```.\n",
    "\n",
    "**ESCREVER SOBRE O QUINTO CASO E READEQUAR TEXTO E SUA POSIÇÃO**"
   ]
  },
  {
   "cell_type": "code",
   "execution_count": 205,
   "id": "27fba1c9",
   "metadata": {},
   "outputs": [
    {
     "data": {
      "text/plain": [
       "4294967295"
      ]
     },
     "execution_count": 205,
     "metadata": {},
     "output_type": "execute_result"
    }
   ],
   "source": [
    "class Uou:\n",
    "    pass\n",
    "\n",
    "sys.getrefcount(str)"
   ]
  },
  {
   "cell_type": "code",
   "execution_count": null,
   "id": "d2e49bc6",
   "metadata": {},
   "outputs": [],
   "source": []
  },
  {
   "cell_type": "code",
   "execution_count": null,
   "id": "d168a86b",
   "metadata": {},
   "outputs": [],
   "source": []
  },
  {
   "cell_type": "code",
   "execution_count": null,
   "id": "5c2ce34a",
   "metadata": {},
   "outputs": [],
   "source": []
  },
  {
   "cell_type": "code",
   "execution_count": null,
   "id": "e99e684d",
   "metadata": {},
   "outputs": [],
   "source": []
  },
  {
   "cell_type": "code",
   "execution_count": 92,
   "id": "177f4be4",
   "metadata": {},
   "outputs": [
    {
     "name": "stdout",
     "output_type": "stream",
     "text": [
      "  obj 1    obj 2    iguais?\n",
      "11111111 11111111   True\n",
      "11111111 11111111   True\n",
      "11111111 11111111   True\n",
      "11111111 11111111   True\n",
      "00000000 00000000   True\n",
      "00000000 00000000   True\n",
      "00000000 00000000   True\n",
      "00000000 00000000   True\n",
      "00010000 00010000   True\n",
      "01101000 01101000   True\n",
      "10010101 10010101   True\n",
      "11000111 11000111   True\n",
      "11111001 11111001   True\n",
      "01111111 01111111   True\n",
      "00000000 00000000   True\n",
      "00000000 00000000   True\n",
      "00001000 00001000   True\n",
      "00000000 00000000   True\n",
      "00000000 00000000   True\n",
      "00000000 00000000   True\n",
      "00000000 00000000   True\n",
      "00000000 00000000   True\n",
      "00000000 00000000   True\n",
      "00000000 00000000   True\n",
      "00000001 00000001   True\n",
      "00000000 00000000   True\n",
      "00000000 00000000   True\n",
      "00000000 00000000   True\n"
     ]
    }
   ],
   "source": [
    "antes = bits(1)\n",
    "x = 1\n",
    "depois = bits(x)\n",
    "comparar(antes, depois)"
   ]
  },
  {
   "cell_type": "markdown",
   "id": "8ade4dc4",
   "metadata": {},
   "source": [
    "### Exceção à imutabilidade\n",
    "\n",
    "listas dentro de tuplas"
   ]
  },
  {
   "cell_type": "markdown",
   "id": "730be305",
   "metadata": {},
   "source": [
    "### Criando cópias de listas"
   ]
  },
  {
   "cell_type": "code",
   "execution_count": null,
   "id": "03546971",
   "metadata": {},
   "outputs": [],
   "source": []
  }
 ],
 "metadata": {
  "kernelspec": {
   "display_name": "Python 3",
   "language": "python",
   "name": "python3"
  },
  "language_info": {
   "codemirror_mode": {
    "name": "ipython",
    "version": 3
   },
   "file_extension": ".py",
   "mimetype": "text/x-python",
   "name": "python",
   "nbconvert_exporter": "python",
   "pygments_lexer": "ipython3",
   "version": "3.12.10"
  }
 },
 "nbformat": 4,
 "nbformat_minor": 5
}
