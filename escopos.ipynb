{
 "cells": [
  {
   "cell_type": "markdown",
   "id": "58cc67dd",
   "metadata": {},
   "source": [
    "# Escopos"
   ]
  },
  {
   "cell_type": "markdown",
   "id": "4924574d",
   "metadata": {},
   "source": [
    "intro"
   ]
  },
  {
   "cell_type": "markdown",
   "id": "f3ee2c4c",
   "metadata": {},
   "source": [
    "## Conteúdo"
   ]
  },
  {
   "cell_type": "markdown",
   "id": "1ff7d384",
   "metadata": {},
   "source": [
    "..."
   ]
  },
  {
   "cell_type": "markdown",
   "id": "9a28bea7",
   "metadata": {},
   "source": [
    "* namespaces e escopos\n",
    "    * exec e eval?"
   ]
  },
  {
   "cell_type": "markdown",
   "id": "275d0264",
   "metadata": {},
   "source": []
  }
 ],
 "metadata": {
  "language_info": {
   "name": "python"
  }
 },
 "nbformat": 4,
 "nbformat_minor": 5
}
