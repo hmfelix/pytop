{
 "cells": [
  {
   "cell_type": "markdown",
   "id": "9a28bea7",
   "metadata": {},
   "source": [
    "* namespaces e escopos\n",
    "    * exec e eval?"
   ]
  },
  {
   "cell_type": "markdown",
   "id": "275d0264",
   "metadata": {},
   "source": []
  }
 ],
 "metadata": {
  "language_info": {
   "name": "python"
  }
 },
 "nbformat": 4,
 "nbformat_minor": 5
}
