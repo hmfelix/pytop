{
 "cells": [
  {
   "cell_type": "markdown",
   "id": "faa85558",
   "metadata": {},
   "source": [
    "# Nomes"
   ]
  },
  {
   "cell_type": "markdown",
   "id": "495eea60",
   "metadata": {},
   "source": []
  },
  {
   "cell_type": "markdown",
   "id": "b9ad0915",
   "metadata": {},
   "source": [
    "* namespaces e escopos\n",
    "    * exec e eval?\n",
    "* naming and binding\n",
    "    * contador de referencias e o comando del\n",
    "    * modificações ao deletar (ou a eficiência do comando del)\n",
    "    * singletons implícitos (chars e ints pequenos)\n",
    "    * garbage collection\n",
    "* Bonus: if name == main"
   ]
  },
  {
   "cell_type": "markdown",
   "id": "cf316d20",
   "metadata": {},
   "source": [
    "## Nomes e vínculos"
   ]
  },
  {
   "cell_type": "markdown",
   "id": "93756be3",
   "metadata": {},
   "source": [
    "### Mecanismo de nomeação em Python"
   ]
  },
  {
   "cell_type": "markdown",
   "id": "fa641b0a",
   "metadata": {},
   "source": [
    "Quando atribuímos algum objeto a um **nome** em Python, usando o operador de atribuição ```=```, não estamos propriamente pegando o conteúdo atribuído e copiando para um local da memória reservado àquele nome. Ocorre o inverso: o Python faz com que aquele nome aponte para o local da memória onde está o conteúdo atribuído. Em outras palavras, a atribuição por si só não copia dados. Outro termo usado na documentação oficial para designar o nome é **identificador**.\n",
    "\n",
    "Já o ponteiro que aponta para o objeto, ou seja, o valor que está  estocado na memória por trás deste nome, é chamado de **referência**.\n",
    "\n",
    "O ato de estabelecer essa conexão entre nomes e referências a objetos no contexto de um namespace é chamado de **vínculo** ou vinculação.\n",
    "\n",
    "(Obs.: em alguns textos pode-se encontrar uma diferença sutil entre identificador e nome, sendo o primeiro mais usado para se referir ao tipo de token na análise léxica, e o segundo empregado para o uso efetivo do identificador na memória, em tempo de execução.)\n",
    "\n",
    "Esse sistema de referência sem cópia é um elemento importante para dar maior eficiência da linguagem Python. Nessa linha, algo parecido ocorre quando passamos um nome no argumento da função: não é o objeto em si que é copiado e passado, mas apenas uma referência àquele objeto."
   ]
  },
  {
   "cell_type": "markdown",
   "id": "c448b280",
   "metadata": {},
   "source": [
    "### Criação e destruição de vínculos"
   ]
  },
  {
   "cell_type": "markdown",
   "id": "3b0f4e89",
   "metadata": {},
   "source": [
    "Há vários constructos da linguagem que constróem vínculos, ora de maneira mais maneira explícita pelo usuário (epressões de atribuição, definições de funções e classes), ora de maneira implícita pelo próprio Python. Apresentamos abaixo uma lista dos comandos que criam vínculos. (No presente material, pretendemos abordar todos esses itens, exceto o loop ```for```, que é amplamente coberto em materiais introdutórios.)\n",
    "* expressões de atribuição tais como ```x = 1```, que vimos acima;\n",
    "* quando funções são chamadas, os valores passados a cada argumento são vinculados ao nome do argumento, como se fosse uma atribuição (*pass-by-assignment*);\n",
    "* a definição de uma classe vincula seu nome a uma instância do tipo ```type``` (que é única);\n",
    "* a definição de uma função vincula seu nome a uma instância do tipo ```function```;\n",
    "* no comando ```import```, que vincula os nomes do módulo importado, ou ```from [modulo] import```, que vincula todos os nomes exceto aqueles começando em ```_```;\n",
    "* instruções de tipagem e listas de parâmetros de tipo\n",
    "* identificadores usados em:\n",
    "  - um loop ```for```;\n",
    "  - depois de ```as``` com as instruções ```with```, ```except```, ```except*```, e em um ```case``` de ```match```; e\n",
    "  - numa captura em um ```case``` de ```match```.\n",
    "\n",
    "Para desfazer o vínculo entre um objeto e um nome no escopo local, usa-se a instrução ```del [nome]``` (Notar: para fazer isso, o comando ```del``` também cria temporariamente um vínculo). O fechamento do escopo local onde o nome foi vinculado também destrói o vínculo. Veremos o que isso significa mais adiante neste tópico. Quando usada com a instrução ```global```, ```del``` em vez disso remove o vínculo feito ao mesmo nome no escopo global. Por fim, a interrupção do funcionamento do interpretador de Python destrói todos os vínculos remanescentes, encerrando a execução do Python.\n",
    "\n",
    "Tentar usar um nome que não está vinculado a nenhum objeto levanta o erro ```NameError```:"
   ]
  },
  {
   "cell_type": "code",
   "execution_count": 21,
   "id": "e649cd08",
   "metadata": {},
   "outputs": [
    {
     "ename": "NameError",
     "evalue": "name 'x' is not defined",
     "output_type": "error",
     "traceback": [
      "\u001b[1;31m---------------------------------------------------------------------------\u001b[0m",
      "\u001b[1;31mNameError\u001b[0m                                 Traceback (most recent call last)",
      "Cell \u001b[1;32mIn[21], line 3\u001b[0m\n\u001b[0;32m      1\u001b[0m x \u001b[38;5;241m=\u001b[39m \u001b[38;5;241m1\u001b[39m\n\u001b[0;32m      2\u001b[0m \u001b[38;5;28;01mdel\u001b[39;00m x\n\u001b[1;32m----> 3\u001b[0m \u001b[38;5;28mprint\u001b[39m(\u001b[43mx\u001b[49m)\n",
      "\u001b[1;31mNameError\u001b[0m: name 'x' is not defined"
     ]
    }
   ],
   "source": [
    "x = 1\n",
    "del x\n",
    "print(x)"
   ]
  },
  {
   "cell_type": "markdown",
   "id": "e0f3bb45",
   "metadata": {},
   "source": [
    "Ao atuar primariamente na remoção do vínculo, o comando ```del``` pode herdar as eficiências da forma como Python lida com a nomeação, pois não é necessário limpar ou sobrescrever a representação binária do objeto na memória, apenas esquecer seu endereço - ou seja, tornar impossível ao interpretador do Python encontrar o objeto. Uma vez liberado, aquele trecho de memória pode ser livremente usado para outra tarefa.\n",
    "\n",
    "(Obs.: implementações específicas do Python podem sobrescrever parte do conteúdo do objeto por motivos de segurança, contagem de referências, flags do coletor de lixo, reaproveitamento para o alocador de memória, entre outras - ver seção sobre CPython adiante para algumas dessas especificidades.)"
   ]
  },
  {
   "cell_type": "markdown",
   "id": "4111dc04",
   "metadata": {},
   "source": [
    "### Sinônimos"
   ]
  },
  {
   "cell_type": "markdown",
   "id": "a5fde913",
   "metadata": {},
   "source": [
    "Ao atribuirmos um nome a outro nome já existente, como no código abaixo, o Python vincula o novo nome à mesma referência por trás do nome original. Dois nomes vinculados a um exato mesmo objeto na memória são por vezes chamados de **sinônimos**.\n",
    "\n",
    "O operador ```is``` verifica se dois nomes são sinônimos. Isto é, verifica se o endereço na memória (objeto) para o qual dois nomes apontam é o mesmo. ```x is y``` é equivalente a ```id(x) == id(y)```. Isso é diferente do operador ```==```, que compara se o valor de dois objetos é igual. Vejamos um exemplo que ilustra essa diferença:"
   ]
  },
  {
   "cell_type": "code",
   "execution_count": 10,
   "id": "26739c18",
   "metadata": {},
   "outputs": [
    {
     "name": "stdout",
     "output_type": "stream",
     "text": [
      "x e y têm mesmo valor? True\n",
      "x e y são sinônimos? True\n",
      "w e z têm mesmo valor? True\n",
      "w e z são sinônimos? False\n"
     ]
    }
   ],
   "source": [
    "# exemplo 1: objetos sinônimos\n",
    "x = list('zzz') # criamos uma instância do tipo list\n",
    "y = x # criamos um sinônimo para x: y\n",
    "print(f'x e y têm mesmo valor? {x == y}')\n",
    "print(f'x e y são sinônimos? {x is y}')\n",
    "\n",
    "# exemplo 2: objetos de mesmo valor\n",
    "w = list('nno') # criamos outra instância do tipo list\n",
    "z = list('nno') # uma terceira instância (outro objeto), de mesmo valor\n",
    "print(f'w e z têm mesmo valor? {w == z}')\n",
    "print(f'w e z são sinônimos? {w is z}')"
   ]
  },
  {
   "cell_type": "markdown",
   "id": "b09b697a",
   "metadata": {},
   "source": [
    "\n",
    "O operador ```is``` pode permitir grandes ganhos de eficiência, mas é necessário atentar para o fato de que ele pode apresentar uma série de nuances quanto a algumas categorias de objetos (singletons, comparações de tipo) e comportamentos que dependem da implementação (internamentos, imortais).\n",
    "\n",
    "Além de meros nomes, é também possível que haja expressões de cada lado de ```is```, que continua funcionando da mesma forma (i.e., compara se as duas expressões resultam exatamente no mesmo objeto). No entanto, isso pode levar a comportamentos inesperados, pelos mesmos motivos, de modo que é recomendável comparar apenas nomes até que o usuário adquira mais conhecimento deste operador e das possíveis implicações específicas à implementação.\n",
    "\n",
    "Uma exceção a este conselho que é comumemente introduzida em nível iniciante é a comparação de tipo. Trata-se de expressões da seguinte forma:"
   ]
  },
  {
   "cell_type": "code",
   "execution_count": 20,
   "id": "d03ae6bc",
   "metadata": {},
   "outputs": [
    {
     "name": "stdout",
     "output_type": "stream",
     "text": [
      "True\n"
     ]
    }
   ],
   "source": [
    "t = type(1)\n",
    "print(t is int)"
   ]
  },
  {
   "cell_type": "markdown",
   "id": "9bb1b604",
   "metadata": {},
   "source": [
    "Bem, por que isso acontece? Sabemos que ```type(1)``` retorna ```int```, mas como eu sei que *este* ```int```, vinculado ao nome ```t```, é *o mesmo* ```int``` da definição da classe ```int```? Isso ocorre porque, em Python, todo objeto do tipo ```type``` só admite uma única instância. Ou seja, todo nome que apontar para um dado objeto do tipo ```type```, de um dado valor, sempre apontará para este mesmo objeto. Algo semelhante ocorre, por exemplo, com ```None```, embora este último seja tecnicamente um singleton:"
   ]
  },
  {
   "cell_type": "code",
   "execution_count": null,
   "id": "9b2778f0",
   "metadata": {},
   "outputs": [
    {
     "name": "stdout",
     "output_type": "stream",
     "text": [
      "False\n",
      "True\n"
     ]
    }
   ],
   "source": [
    "# duas instanciações: criam objetos diferentes\n",
    "a = []\n",
    "b = []\n",
    "print(a is b)\n",
    "\n",
    "# singleton: é sempre o mesmo objeto\n",
    "c = None\n",
    "d = None\n",
    "print(c is d)"
   ]
  },
  {
   "cell_type": "markdown",
   "id": "6ea702dc",
   "metadata": {},
   "source": [
    "Outro jeito de definir sinônimos é a chamada atribuição encadeada (*chained assignment*), que é feita com a seguinte sintaxe: ```nome1 = nome 2 [= nome3...] = objeto```.\n",
    "\n",
    "Se, depois de criarmos um sinônimo por meio de um segundo nome, atribuirmos um novo objeto ao nome original, estabelecemos para o nome original um novo vínculo, abandonando a primeira referência e substituindo por uma nova. No exemplo abaixo, criamos sinônimos por atribuição encadeada e depois vinculamos um dos nomes a outro objeto:"
   ]
  },
  {
   "cell_type": "code",
   "execution_count": 17,
   "id": "ff1a8032",
   "metadata": {},
   "outputs": [
    {
     "name": "stdout",
     "output_type": "stream",
     "text": [
      "Antes da segunda atribuição\n",
      "Valor apontado por y: ['+', '-', '+']\n",
      "Valor apontado por x: ['+', '-', '+']\n",
      "Depois da segunda atribuição\n",
      "Valor apontado por y: ['+', '-', '+']\n",
      "Valor apontado por x: ['-', '+', '-']\n"
     ]
    }
   ],
   "source": [
    "# antes\n",
    "x = y = list('+-+')\n",
    "print('Antes da segunda atribuição')\n",
    "print(f'Valor apontado por y: {y}') \n",
    "print(f'Valor apontado por x: {x}')\n",
    "\n",
    "# depois\n",
    "x = list('-+-')\n",
    "print('Depois da segunda atribuição')\n",
    "print(f'Valor apontado por y: {y}') # y preserva a referência ao objeto original\n",
    "print(f'Valor apontado por x: {x}') # x passa a apontar para este novo objeto"
   ]
  },
  {
   "cell_type": "markdown",
   "id": "f28de1ee",
   "metadata": {},
   "source": [
    "Notar que checagens semelhantes podem ser feitas usando os operadores ```is``` e ```==```, ou ainda a função ```id()```."
   ]
  },
  {
   "cell_type": "markdown",
   "id": "f6d5d36a",
   "metadata": {},
   "source": [
    "## Mutabilidade"
   ]
  },
  {
   "cell_type": "markdown",
   "id": "eac44ddf",
   "metadata": {},
   "source": [
    "### O conceito"
   ]
  },
  {
   "cell_type": "markdown",
   "id": "df5ebb95",
   "metadata": {},
   "source": [
    "**REDIGIR**"
   ]
  },
  {
   "cell_type": "code",
   "execution_count": 4,
   "id": "f1f04607",
   "metadata": {},
   "outputs": [
    {
     "name": "stdout",
     "output_type": "stream",
     "text": [
      "Valor apontado por x: 2\n",
      "Valor apontado por y: 1\n"
     ]
    }
   ],
   "source": [
    "x = 1 # x aponta para um objeto int(1)\n",
    "y = x # y aponta para o mesmo objeto int(1)\n",
    "x += 1 # como int é imutável, é instanciado um novo objeto int(2)\n",
    "print(f'Valor apontado por x: {x}') # x passa a apontar para este novo objeto int(2)\n",
    "print(f'Valor apontado por y: {y}') # y preserva a referência ao objeto original int(1)"
   ]
  },
  {
   "cell_type": "markdown",
   "id": "7937b550",
   "metadata": {},
   "source": [
    " Notar, ainda, que o código acima funciona dessa forma porque um número inteiro é um imutável, levando o Python a criar uma nova instância de objeto ao realizarmos a atribuição ```+=```. O mesmo pode não ocorrer com objetos mutáveis. Vejamos a diferença no caso do código abaixo. Como estamos modificando o valor do objeto já atribuído, nenhuma nova instância é criada, preservando em ambos os identificadores a referência original."
   ]
  },
  {
   "cell_type": "code",
   "execution_count": 5,
   "id": "a031dba0",
   "metadata": {},
   "outputs": [
    {
     "name": "stdout",
     "output_type": "stream",
     "text": [
      "Valor apontado por x: [1, 1]\n",
      "Valor apontado por y: [1, 1]\n"
     ]
    }
   ],
   "source": [
    "x = [1]\n",
    "y = x\n",
    "x += [1]\n",
    "print(f'Valor apontado por x: {x}')\n",
    "print(f'Valor apontado por y: {y}')"
   ]
  },
  {
   "cell_type": "markdown",
   "id": "c68ed2b1",
   "metadata": {},
   "source": [
    "### Exceção à mutabilidade"
   ]
  },
  {
   "cell_type": "markdown",
   "id": "04130845",
   "metadata": {},
   "source": [
    "tuplas com listas"
   ]
  },
  {
   "cell_type": "markdown",
   "id": "0f2c7b93",
   "metadata": {},
   "source": [
    "### Erros frequentes na manipulação de objetos mutáveis"
   ]
  },
  {
   "cell_type": "markdown",
   "id": "50694815",
   "metadata": {},
   "source": []
  },
  {
   "cell_type": "markdown",
   "id": "07f63f2b",
   "metadata": {},
   "source": [
    "### Copiando mutáveis"
   ]
  },
  {
   "cell_type": "markdown",
   "id": "265cfc17",
   "metadata": {},
   "source": []
  },
  {
   "cell_type": "markdown",
   "id": "04fc7347",
   "metadata": {},
   "source": [
    "## Alguns detalhes da implementação CPython"
   ]
  },
  {
   "cell_type": "markdown",
   "id": "2d257f9d",
   "metadata": {},
   "source": [
    "### Contador de referências"
   ]
  },
  {
   "cell_type": "markdown",
   "id": "a1b09099",
   "metadata": {},
   "source": [
    "Todo valor em CPython, quando é criado, recebe uma sequência de bits logo em seu começo que trata única e exclusivamente de contar o número de vínculos que atualmente levam àquele objeto. Sempre que adicionamos uma referência ou um vínculo ao mesmo objeto, o contador é acrescido uma unidade. Sempre que executamos a instrução ```del [nome]```, o contador de referências é decrementado em uma unidade. Sempre que um escopo é fechado, as vinculações correspondentes àqueles nomes são subtraídas.\n",
    "\n",
    "Quando o contador de referências de um objeto chega a ```0```, ele não é mais encontrável no programa, pois não há como saber onde ele se encontra na memória. Tal objeto estará então pronto para ser coletado pelo coletor de lixo automático do CPython (*garbage collector*), para fins de liberação de memória.\n",
    "\n",
    "No código abaixo, usamos as bibliotecas ```sys``` e ```ctypes``` para obter acesso direto ao conteúdo do objeto ```obj1``` na memória. Não nos preocuparemos aqui com os detalhes dessas funcionalidades, que não são tema deste tópico. Tudo que precisamos saber é que este código imprime os bits do objeto. Notar que o primeiro byte do objeto estoca o número $1$ em binários (```00000001```), justamente porque existe um único vínculo a este objeto, envolvendo o nome ```obj1```."
   ]
  },
  {
   "cell_type": "code",
   "execution_count": null,
   "id": "9fc6ad0a",
   "metadata": {},
   "outputs": [
    {
     "name": "stdout",
     "output_type": "stream",
     "text": [
      "00000001 00000000 00000000 00000000 00000000 00000000 00000000 00000000\n",
      "01110000 10011111 10010101 11000111 11111001 01111111 00000000 00000000\n",
      "11110100 00000001 00000000 00000000 00000000 00000000 00000000 00000000\n",
      "01100101 00001010 01011000 10101101 00010100 00100011 10011000 10100011\n",
      "01100101 00000000 00000000 00000000 00000000 00000000 00000000 00000000\n",
      "01100001 01100001 01100001 01100001 01100001 01100001 01100001 01100001\n",
      "01100001 01100001 01100001 01100001 01100001 01100001 01100001 01100001\n",
      "01100001 01100001 01100001 01100001 01100001 01100001 01100001 01100001\n",
      "01100001 01100001 01100001 01100001 01100001 01100001 01100001 01100001\n",
      "01100001 01100001 01100001 01100001 01100001 01100001 01100001 01100001\n",
      "01100001 01100001 01100001 01100001 01100001 01100001 01100001 01100001\n",
      "01100001 01100001 01100001 01100001 01100001 01100001 01100001 01100001\n",
      "01100001 01100001 01100001 01100001 01100001 01100001 01100001 01100001\n",
      "01100001 01100001 01100001 01100001 01100001 01100001 01100001 01100001\n",
      "01100001 01100001 01100001 01100001 01100001 01100001 01100001 01100001\n",
      "01100001 01100001 01100001 01100001 01100001 01100001 01100001 01100001\n",
      "01100001 01100001 01100001 01100001 01100001 01100001 01100001 01100001\n",
      "01100001 01100001 01100001 01100001 01100001 01100001 01100001 01100001\n",
      "01100001 01100001 01100001 01100001 01100001 01100001 01100001 01100001\n",
      "01100001 01100001 01100001 01100001 01100001 01100001 01100001 01100001\n",
      "01100001 01100001 01100001 01100001 01100001 01100001 01100001 01100001\n",
      "01100001 01100001 01100001 01100001 01100001 01100001 01100001 01100001\n",
      "01100001 01100001 01100001 01100001 01100001 01100001 01100001 01100001\n",
      "01100001 01100001 01100001 01100001 01100001 01100001 01100001 01100001\n",
      "01100001 01100001 01100001 01100001 01100001 01100001 01100001 01100001\n",
      "01100001 01100001 01100001 01100001 01100001 01100001 01100001 01100001\n",
      "01100001 01100001 01100001 01100001 01100001 01100001 01100001 01100001\n",
      "01100001 01100001 01100001 01100001 01100001 01100001 01100001 01100001\n",
      "01100001 01100001 01100001 01100001 01100001 01100001 01100001 01100001\n",
      "01100001 01100001 01100001 01100001 01100001 01100001 01100001 01100001\n",
      "01100001 01100001 01100001 01100001 01100001 01100001 01100001 01100001\n",
      "01100001 01100001 01100001 01100001 01100001 01100001 01100001 01100001\n",
      "01100001 01100001 01100001 01100001 01100001 01100001 01100001 01100001\n",
      "01100001 01100001 01100001 01100001 01100001 01100001 01100001 01100001\n",
      "01100001 01100001 01100001 01100001 01100001 01100001 01100001 01100001\n",
      "01100001 01100001 01100001 01100001 01100001 01100001 01100001 01100001\n",
      "01100001 01100001 01100001 01100001 01100001 01100001 01100001 01100001\n",
      "01100001 01100001 01100001 01100001 01100001 01100001 01100001 01100001\n",
      "01100001 01100001 01100001 01100001 01100001 01100001 01100001 01100001\n",
      "01100001 01100001 01100001 01100001 01100001 01100001 01100001 01100001\n",
      "01100001 01100001 01100001 01100001 01100001 01100001 01100001 01100001\n",
      "01100001 01100001 01100001 01100001 01100001 01100001 01100001 01100001\n",
      "01100001 01100001 01100001 01100001 01100001 01100001 01100001 01100001\n",
      "01100001 01100001 01100001 01100001 01100001 01100001 01100001 01100001\n",
      "01100001 01100001 01100001 01100001 01100001 01100001 01100001 01100001\n",
      "01100001 01100001 01100001 01100001 01100001 01100001 01100001 01100001\n",
      "01100001 01100001 01100001 01100001 01100001 01100001 01100001 01100001\n",
      "01100001 01100001 01100001 01100001 01100001 01100001 01100001 01100001\n",
      "01100001 01100001 01100001 01100001 01100001 01100001 01100001 01100001\n",
      "01100001 01100001 01100001 01100001 01100001 01100001 01100001 01100001\n",
      "01100001 01100001 01100001 01100001 01100001 01100001 01100001 01100001\n",
      "01100001 01100001 01100001 01100001 01100001 01100001 01100001 01100001\n",
      "01100001 01100001 01100001 01100001 01100001 01100001 01100001 01100001\n",
      "01100001 01100001 01100001 01100001 01100001 01100001 01100001 01100001\n",
      "01100001 01100001 01100001 01100001 01100001 01100001 01100001 01100001\n",
      "01100001 01100001 01100001 01100001 01100001 01100001 01100001 01100001\n",
      "01100001 01100001 01100001 01100001 01100001 01100001 01100001 01100001\n",
      "01100001 01100001 01100001 01100001 01100001 01100001 01100001 01100001\n",
      "01100001 01100001 01100001 01100001 01100001 01100001 01100001 01100001\n",
      "01100001 01100001 01100001 01100001 01100001 01100001 01100001 01100001\n",
      "01100001 01100001 01100001 01100001 01100001 01100001 01100001 01100001\n",
      "01100001 01100001 01100001 01100001 01100001 01100001 01100001 01100001\n",
      "01100001 01100001 01100001 01100001 01100001 01100001 01100001 01100001\n",
      "01100001 01100001 01100001 01100001 01100001 01100001 01100001 01100001\n",
      "01100001 01100001 01100001 01100001 01100001 01100001 01100001 01100001\n",
      "01100001 01100001 01100001 01100001 01100001 01100001 01100001 01100001\n",
      "01100001 01100001 01100001 01100001 01100001 01100001 01100001 01100001\n",
      "01100001 01100001 01100001 01100001 00000000 \n"
     ]
    }
   ],
   "source": [
    "import ctypes\n",
    "import sys\n",
    "\n",
    "obj1 = 'a' * 500 # cria o objeto (uma string grande)\n",
    "addr = id(obj1) # pega o endereço do objeto na memória\n",
    "n_bytes = sys.getsizeof(obj1) # pega o número de bytes ocupado pelo objeto\n",
    "ptr = ctypes.cast(addr, ctypes.POINTER(ctypes.c_uint8)) # cria um pointer de C para o endereço do objeto\n",
    "lista_bits = ''.join(f'{ptr[i]:08b} ' for i in range(n_bytes))[:-1].split(' ') # lê cada byte do objeto e estoca em uma lista de strings\n",
    "\n",
    "# loop para visualizar n bytes em uma linha\n",
    "n = 8\n",
    "visualizacao = ''\n",
    "espaco = '\\n '\n",
    "for i, byte in enumerate(lista_bits):\n",
    "    tipo_de_espaco = bool((i+1) % n)\n",
    "    visualizacao += (byte + espaco[tipo_de_espaco])\n",
    "print(visualizacao)"
   ]
  },
  {
   "cell_type": "markdown",
   "id": "6ca100cd",
   "metadata": {},
   "source": [
    "Agora vamos encapsular uma parte deste código na função ```bits()```, que retorna os bits do objeto. Criamos também uma função de comparação para imprimir verticalmente o conteúdo de dois objetos de mesmo tamanho. O número de bytes impresso é customizável por meio do atributo ```bytes_mostrados```."
   ]
  },
  {
   "cell_type": "code",
   "execution_count": null,
   "id": "9257a227",
   "metadata": {},
   "outputs": [],
   "source": [
    "def bits(x):\n",
    "    addr = id(x)\n",
    "    n_bytes = sys.getsizeof(x)\n",
    "    ptr = ctypes.cast(addr, ctypes.POINTER(ctypes.c_uint8))\n",
    "    bits = ''.join(f'{ptr[i]:08b} ' for i in range(n_bytes))[:-1].split(' ')\n",
    "    return bits\n",
    "\n",
    "def comparar(x_bits, y_bits, bytes_mostrados=1):\n",
    "    n = len(x_bits)\n",
    "    if bytes_mostrados < n:\n",
    "        n = bytes_mostrados\n",
    "    print('   1        2       iguais?')\n",
    "    for i in range(n):\n",
    "        print(x_bits[i], y_bits[i], ' ', x_bits[i] == y_bits[i])"
   ]
  },
  {
   "cell_type": "markdown",
   "id": "308dfd09",
   "metadata": {},
   "source": [
    "Em seguida, geramos alguns objetos e observamos seu conteúdo. No exemplo abaixo, o objeto ```obj2``` é nomeado e salvamos seu conteúdo em bits usando a função acima. Posteriormente, vinculamos o nome ```obj3``` ao mesmo objeto referenciado pelo nome ```obj2```, e de novo salvamos seu conteúdo em bits. Ao final, imprimimos apenas o primeiro byte de cada objeto (contador de referências)."
   ]
  },
  {
   "cell_type": "code",
   "execution_count": null,
   "id": "c2166995",
   "metadata": {},
   "outputs": [
    {
     "name": "stdout",
     "output_type": "stream",
     "text": [
      "   1        2       iguais?\n",
      "00000010 00000011   False\n"
     ]
    }
   ],
   "source": [
    "obj2 = 'b' * 500\n",
    "antes = bits(obj2)\n",
    "obj3 = obj2\n",
    "depois = bits(obj3)\n",
    "comparar(antes, depois)"
   ]
  },
  {
   "cell_type": "markdown",
   "id": "72d27136",
   "metadata": {},
   "source": [
    "Observa-se que o contador após o primeiro vínculo conta $2$ (```00000010```) em vez de $1$ (```00000001```)! Por que isso acontece? Porque, como explicado acima, passar um objeto como argumento de uma função também cria um vínculo a ele. Como agora temos nosso código encapsulado na função ```bits()```, o mesmo objeto que havia sido vinculado a ```obj2``` também passa a ser vinculado ao argumento ```x``` e sua contagem de vínculos passa a ser $2$. Em seguida, ao definirmos o nome sinônimo ```obj3```, o contador de vínculos passa a contar $3$ (```00000011```).\n",
    "\n",
    "Lembremos que $8$ bits permitem contar de $0$ até $256$ em binários. Vamos tentar então dar mais de 256 nomes a um mesmo objeto. Para isso, fazemos abaixo todas as combinações de palavras de duas letras possíveis de se formar com as $17$ primeiras letras do alfabeto (pois $17^2 = 289 > 256$). Vamos dessa vez imprimir os dois primeiros bytes do objeto. Usamos a função ```product``` da biblioteca ```itertools``` para gerar as combinações e entre tais letras, dadas pelo objeto ```string.ascii_uppercase``` (usamos maiúsculas para não correr o risco de sobreescrever comandos ou nomes já definidos)."
   ]
  },
  {
   "cell_type": "code",
   "execution_count": null,
   "id": "ac071bf6",
   "metadata": {},
   "outputs": [
    {
     "name": "stdout",
     "output_type": "stream",
     "text": [
      "Contador antes: ['00100001', '00000001']\n",
      "Contador depois: ['00100011', '00000001']\n"
     ]
    }
   ],
   "source": [
    "from itertools import product\n",
    "from string import ascii_uppercase\n",
    "\n",
    "letras = [letra for letra in ascii_uppercase[:17]]\n",
    "obj4 = 'c' * 500\n",
    "print('Contador antes:', bits(obj4)[:2])\n",
    "for permutacao in product(letras, letras):\n",
    "    nome = permutacao[0] + permutacao[1]\n",
    "    exec(f'{nome} = obj4')\n",
    "print('Contador depois:', bits(obj4)[:2])"
   ]
  },
  {
   "cell_type": "markdown",
   "id": "c7c0256d",
   "metadata": {},
   "source": [
    "Vê-se que a primeira contagem foi de $2$, quando tínhamos apenas os vínculos do primeiro nome e do argumento da função ```bits```. Já na segunda contagem, temos o número $35$ no primeiro byte (```00100011```) e o número $2$ no segundo. Ocorre que, na minha arquitetura, o sistema é *little endian*, de modo que o byte mais significativo é o da direita. Por isso, o número todo deve ser lido como $35 + 256 = 291$, que é o que esperaríamos.\n",
    "\n",
    "O procedimento de lidar com binários é trabalhoso e pode depender da arquitetura do sistema. Por isso, é mais vantajoso usar a função ```sys.getrefcount()```, que nos fornece o número de vínculos de maneira direta. Abaixo damos mais exemplos de contagem, agora testando os mecanismos de desvinculação."
   ]
  },
  {
   "cell_type": "code",
   "execution_count": null,
   "id": "a46c2e63",
   "metadata": {},
   "outputs": [
    {
     "name": "stdout",
     "output_type": "stream",
     "text": [
      "Contagem atual de obj4: 291\n",
      "Contagem após duas deleções: 289\n",
      "Contagem dentro de um novo escopo: 290\n",
      "Contagem após fechamento do escopo: 289\n"
     ]
    }
   ],
   "source": [
    "# contagem de obj4 via método sys.getrefcount()\n",
    "print('Contagem atual de obj4:', sys.getrefcount(obj4))\n",
    "\n",
    "# nova contagem após deletar nomes vinculados ao mesmo objeto\n",
    "del AA\n",
    "del AB\n",
    "print('Contagem após duas deleções:', sys.getrefcount(obj4))\n",
    "\n",
    "# nova contagem após passar o objeto como argumento de uma função\n",
    "def novo_escopo(obj):\n",
    "    print('Contagem dentro de um novo escopo:', sys.getrefcount(obj))\n",
    "novo_escopo(obj4)\n",
    "\n",
    "# última contagem: após o fechamento do escopo\n",
    "print('Contagem após fechamento do escopo:', sys.getrefcount(obj4))\n"
   ]
  },
  {
   "cell_type": "markdown",
   "id": "91a4e535",
   "metadata": {},
   "source": [
    "### Imortalidade e internamento"
   ]
  },
  {
   "cell_type": "markdown",
   "id": "8ba247c6",
   "metadata": {},
   "source": [
    "Você pode ter notado que os objetos criados na seção anterior parecem desnecessariamente grandes: strings com a mesma letra repetida $500$ vezes. Isso foi proposital, na tentativa de evitar objetos imortais ou internados.\n",
    "\n",
    "Objetos são **imortais** quando seu contador de vínculos não pode mudar, portanto nunca podem ser desalocados nem coletados pelo coletor de lixo enquanto o interpretador estiver rodando. Esses objetos já nascem criados na memória. Em CPython, alguns singletons ou imutáveis fundamentais são imortais, tais como ```None```, ```True```, ```False```, tipos fundamentais, ```str```s curtas ou comuns, e ```int```s pequenos (geralmente entre $-5$ e $256$).\n",
    "\n",
    "Um objeto imortal já nasce com um número de vínculos extremamente grande, embora seu valor específico dependa da arquitetura. Para descobrir esse número na arquitetura que você está usando - logo, para saber se um objeto é imortal -, basta chamar a função de contagem de vínculos mencionada acima:"
   ]
  },
  {
   "cell_type": "code",
   "execution_count": null,
   "id": "3fabce82",
   "metadata": {},
   "outputs": [
    {
     "name": "stdout",
     "output_type": "stream",
     "text": [
      "Contagem de referências de...\n",
      "  None: 4294967295\n",
      "  True: 4294967295\n",
      "  dict: 4294967295\n",
      "  'a': 4294967295\n",
      "  1: 4294967295\n"
     ]
    }
   ],
   "source": [
    "print('Contagem de vínculos de...')\n",
    "print('  None:', sys.getrefcount(None))\n",
    "print('  True:', sys.getrefcount(True))\n",
    "print('  dict:', sys.getrefcount(dict))\n",
    "print(\"  'a':\", sys.getrefcount('a'))\n",
    "print('  1:', sys.getrefcount(1))"
   ]
  },
  {
   "cell_type": "markdown",
   "id": "385d818b",
   "metadata": {},
   "source": [
    "Antes, era possível contar o número de vínculos de tais objetos. Porém, desde Python 3.12, isso parou de ser possível devido ao custo de processamento da mudança que era necessário fazer no contador de vínculos do objeto toda vez que uma nova vinculação fosse feita. Se você tiver interesse, a motivação completa para esta mudança e suas consequências podem ser consultadas na página da [PEP 683](https://peps.python.org/pep-0683/). Mas não é preciso ir tão longe para entender um aspecto mais básico: a partir da função ```bits()``` introduzida anteriormente, você pode perceber as repetidas sobrescrições de memória que acontecem a cada nova vinculação. Via de regra, isso ocorre mesmo para objetos imutáveis, o que é uma certa contradição, pois tais objetos efetivamente possuem uma parte de sua memória que é mutável em CPython. Para os imortais, esse já não é mais o caso, permitindo a existência de objetos verdadeiramente imortais em CPython.\n",
    "\n",
    "Por sua vez, o **internamento** é a criação de um vínculo paralelo ao do nome declarado pelo usuário para objetos não tão grandes. A partir da criação de um vínculo paralelo, o CPython passa a usar preferencialmente este vínculo ao se referir ao objeto. Alguns objetos são automaticamente internados no mesmo momento em que são criados, a exemplo de strings um pouco grandes ou incomuns demais para serem imortais, mas ainda não gigantescas."
   ]
  },
  {
   "cell_type": "code",
   "execution_count": null,
   "id": "86056dfe",
   "metadata": {},
   "outputs": [
    {
     "name": "stdout",
     "output_type": "stream",
     "text": [
      "1\n",
      "2\n",
      "3\n"
     ]
    },
    {
     "data": {
      "text/plain": [
       "False"
      ]
     },
     "execution_count": 88,
     "metadata": {},
     "output_type": "execute_result"
    }
   ],
   "source": [
    "# string enorme: não internada automaticamente\n",
    "print(sys.getrefcount('0' * 5000))\n",
    "\n",
    "# string menor: internada automaticamente\n",
    "print(sys.getrefcount('0' * 3))\n",
    "\n",
    "# string pequena que parece nome válido: internada automaticamente\n",
    "print(sys.getrefcount('a1'))\n",
    "\n",
    "\n",
    "('0' * 5000) is ('0' * 5000)\n",
    "#\n"
   ]
  },
  {
   "cell_type": "markdown",
   "id": "e40ac8e6",
   "metadata": {},
   "source": [
    "\n",
    "\n",
    "\n",
    "\n"
   ]
  },
  {
   "cell_type": "code",
   "execution_count": null,
   "id": "0b80f502",
   "metadata": {},
   "outputs": [
    {
     "data": {
      "text/plain": [
       "6"
      ]
     },
     "execution_count": 52,
     "metadata": {},
     "output_type": "execute_result"
    }
   ],
   "source": []
  },
  {
   "cell_type": "markdown",
   "id": "f52bf5f3",
   "metadata": {},
   "source": [
    "O motivo pelo qual internamentos e imortais dependem da implementação é que se tratam de mecanismos de otimização. Vamos supor que você usa várias vezes um mesmo objeto imutável e extremamente recorrente. Está claro que é vantajoso guardar apenas uma referência a esse objeto, em vez de usar diversas referências para algo que sequer pode ser alterado. As razões para o "
   ]
  },
  {
   "cell_type": "code",
   "execution_count": null,
   "id": "dd4c70e2",
   "metadata": {},
   "outputs": [
    {
     "data": {
      "text/plain": [
       "False"
      ]
     },
     "execution_count": 40,
     "metadata": {},
     "output_type": "execute_result"
    }
   ],
   "source": [
    "a = 'a' * 5000\n",
    "b = 'a' * 5000\n",
    "a is b"
   ]
  },
  {
   "cell_type": "code",
   "execution_count": null,
   "id": "046fb200",
   "metadata": {},
   "outputs": [
    {
     "data": {
      "text/plain": [
       "1"
      ]
     },
     "execution_count": 38,
     "metadata": {},
     "output_type": "execute_result"
    }
   ],
   "source": [
    "sys.getrefcount('h' * 5000)"
   ]
  },
  {
   "cell_type": "markdown",
   "id": "207d5487",
   "metadata": {},
   "source": [
    "### Para além de sinônimos: o operador ```is``` em CPython"
   ]
  },
  {
   "cell_type": "markdown",
   "id": "649e97ec",
   "metadata": {},
   "source": [
    "Conforme adiantamos acima, o operador ```is``` pode ter ainda mais nuances a depender da implementação.\n",
    "\n",
    "Quando ambas as expressões retornam o mesmo objeto único (*singletons*) ou imortal, a comparação ```is``` sempre retorna ```True```. Isso pode parecer óbvio, mas às vezes não é fácil de reconhecer para iniciantes na linguagem. Por exemplo, você já se deparou com os casos abaixo?"
   ]
  },
  {
   "cell_type": "code",
   "execution_count": null,
   "id": "eddc7d7b",
   "metadata": {},
   "outputs": [
    {
     "name": "stdout",
     "output_type": "stream",
     "text": [
      "caso 1: True\n",
      "caso 2: True\n",
      "caso 3: True\n",
      "caso 4: True\n",
      "caso 5: False\n",
      "caso 6: True\n"
     ]
    },
    {
     "name": "stderr",
     "output_type": "stream",
     "text": [
      "<>:26: SyntaxWarning: \"is\" with 'int' literal. Did you mean \"==\"?\n",
      "<>:26: SyntaxWarning: \"is\" with 'int' literal. Did you mean \"==\"?\n",
      "C:\\Users\\henri\\AppData\\Local\\Temp\\ipykernel_76124\\2384360586.py:26: SyntaxWarning: \"is\" with 'int' literal. Did you mean \"==\"?\n",
      "  print('caso 6:', 10**9 is 10**9) # numeros grandes nao deveriam ser objetos identicos\n"
     ]
    }
   ],
   "source": [
    "# caso 1\n",
    "x = 5\n",
    "print('caso 1:', type(x) is int)\n",
    "\n",
    "# caso 2\n",
    "u = 1\n",
    "v = 1\n",
    "print('caso 2:', u is v)\n",
    "\n",
    "# caso 3\n",
    "y = 'a'\n",
    "z = 'a'\n",
    "print('caso 3:', y is z)\n",
    "\n",
    "# caso 4\n",
    "t500 = 'g' * 500\n",
    "w500 = 'g' * 500\n",
    "print('caso 4:', t500 is w500)\n",
    "\n",
    "# caso 5\n",
    "t5000 = 'h' * 5000\n",
    "w5000 = 'h' * 5000\n",
    "print('caso 5:', t5000 is w5000)\n",
    "\n",
    "# caso 6\n",
    "print('caso 6:', 10**9 is 10**9) # numeros grandes nao deveriam ser objetos identicos"
   ]
  },
  {
   "cell_type": "markdown",
   "id": "5b7f5d37",
   "metadata": {},
   "source": [
    "O primeiro caso ocorre porque objetos do tipo ```type``` só admitem uma instância, logo o ```int``` retornado por ```type(int)``` é exatamente o mesmo objeto, na memória, do objeto único ```int```. Isso é possível porque, em Python, todo objeto sabe qual é seu tipo. Em CPython, isso é implementado por meio de um ponteiro ao singleton do tipo correspondente (informação que faz parte do conteúdo do objeto).\n",
    "\n",
    "Já o segundo e o terceiro casos ocorrem porque, em CPython, números inteiros pequenos e expressões reduzidas recebem apenas um endereço de memória, que é apontado por todos os vínculos que usam tal valor (objetos imortais).\n",
    "\n",
    "Por fim, o quarto caso ocorre porque, de novo na implementação CPython, podem ocorrer otimizações por parte do interpretador ao encontrar expressões que usam sucessivamente valores idênticos, principalmente dentro de uma mesma linha lógica, igualando duas referências. Notar que o Python avisa da inadequação de usar ```is``` para comparar literais.\n",
    "\n",
    "A partir de Python 3.12, objetos imortais têm uma contagem de referências gigantesca (na implementação do meu computador e da minha versão, $2^{32} - 1$), que não pode ser diminuída, de modo que esses objetos jamais podem ser coletados pelo garbage collector. O mesmo ocorre com alguns singletons essenciais, tais como ```None```, ```True``` e ```False```, ou os tipos fundamentais da linguagem, como os objetos ```int``` e ```str```.\n",
    "\n",
    "**ESCREVER SOBRE O QUINTO CASO E READEQUAR TEXTO E SUA POSIÇÃO**"
   ]
  },
  {
   "cell_type": "code",
   "execution_count": null,
   "id": "27fba1c9",
   "metadata": {},
   "outputs": [
    {
     "data": {
      "text/plain": [
       "1"
      ]
     },
     "execution_count": 49,
     "metadata": {},
     "output_type": "execute_result"
    }
   ],
   "source": [
    "sys.getrefcount([1])\n",
    "\n"
   ]
  },
  {
   "cell_type": "markdown",
   "id": "0941f617",
   "metadata": {},
   "source": [
    "## Escopo"
   ]
  }
 ],
 "metadata": {
  "kernelspec": {
   "display_name": "Python 3",
   "language": "python",
   "name": "python3"
  },
  "language_info": {
   "codemirror_mode": {
    "name": "ipython",
    "version": 3
   },
   "file_extension": ".py",
   "mimetype": "text/x-python",
   "name": "python",
   "nbconvert_exporter": "python",
   "pygments_lexer": "ipython3",
   "version": "3.12.10"
  }
 },
 "nbformat": 4,
 "nbformat_minor": 5
}
