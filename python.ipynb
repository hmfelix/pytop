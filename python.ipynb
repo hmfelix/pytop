{
 "cells": [
  {
   "cell_type": "markdown",
   "id": "5da0114d",
   "metadata": {},
   "source": [
    "# Python"
   ]
  },
  {
   "cell_type": "markdown",
   "id": "684d1787",
   "metadata": {},
   "source": [
    "## O duplo significado de uma linguagem interpretada"
   ]
  },
  {
   "cell_type": "markdown",
   "id": "dfa42f98",
   "metadata": {},
   "source": [
    "Que Python é uma linguagem de programação, já sabemos. Enquanto linguagem, Python possui um conjunto bem-definido de regras: léxicas, sintáticas, semânticas e de lógica abstrata.\n",
    "\n",
    "Porém, algo que em cursos introdutórios por vezes é dito, mas nem sempre explorado, é que Python é uma linguagem interpretada. Isso significa que Python é mais que apenas uma linguagem: ele é também um programa. Inclusive, usaremos aqui a palavra Python com esse duplo significado. Quando clicamos no executável chamado ```python3``` no computador, ou o executamos do terminal, ou ainda deixamos uma IDE ou interface executá-lo por nós, estamos rodando tal programa. E o nome desse programa é **interpretador**. Aqui, estamos por enquanto usando a palavra interpretador em sentido amplo, como todo o ciclo deste robusto programa que permite executar código na linguagem Python.\n",
    "\n",
    "Há dois jeitos primordiais de iniciar o interpretador: por meio do modo interativo, que nos dá um prompt onde podemos digitar comandos em Python, apertar ```Enter```, e vê-los sendo executados (ou receber um erro); e por meio de scripts, onde especificamos um arquivo ```.py```, usando o comando ```python3 [arquivo].py```, e o interpretador executa a totalidade daquele arquivo de uma vez. Há diversas opções que podem ser configuradas ao invocar o interpretador pelo terminal para customizar seu comportamento, tal como consultar a versão instalada, obter ajuda, passar argumentos ao código a ser executado, entre outros. Não os abordaremos aqui, mas eles podem ser consultados [na documentação oficial](https://docs.python.org/3/using/cmdline.html#using-on-general).\n",
    "\n",
    "Ocorre que não existe apenas um único programa que é capaz de executar Python. Existem vários. A cada um desses damos o nome de **implementação**. A primeira e mais importante implementação de Python, usada como principal referência e cujo funcionamento é, por vezes, até mesmo mencionado na documentação oficial da própria linguagem, é escrita em C - ou seja, seu interpretador é um programa compilado a partir de instruções escritas em C. É chamada de **CPython**. Existem outras implementações em outras linguagens, como Jython em Java e PyPy em próprio Python(!), ou apenas para permitir a execução da linguagem em outros ambientes ou com outras arquiteturas. Ao percorrer os deste material, você perceberá que algumas vezes o comportamento da linguagem depende da implementação. Vamos nos basear principalmente em CPython, embora eu tente deixar explícito sempre que algum assunto dependa desta implementação em particular.\n",
    "\n",
    "No restante do presente tópico, vamos pincelar um pouco do funcionamento interno do interpretador, tentando manter a discussão abstrata o suficiente para se aplicar a qualquer implementação."
   ]
  },
  {
   "cell_type": "markdown",
   "id": "d98e514d",
   "metadata": {},
   "source": [
    "## O ciclo REPL"
   ]
  },
  {
   "cell_type": "markdown",
   "id": "73318a76",
   "metadata": {},
   "source": [
    "O que chamamos acima de interpretador executa uma série de tarefas necessárias para a linguagem chegar do nível de texto compreendido por seres humanos até o resultado ou efeito de um cálculo computacional no nível da máquina. Ao alimentarmos um trecho de código ao interpretador no modo interativo, ele dispara o próximo passo de um ciclo abstrato chamado de REPL, em inglês: *read*, *eval*, *print*, *loop*. Essa abstração é muito útil para entender o funcionamento do interpretador.\n",
    "\n",
    "Em resumo, podemos dizer que a etapa *read* traduz o texto para algo que a máquina entende, a etapa *eval* então executa de fato essas instruções, a etapa *print* imprime na tela o resultado da computação (se houver), e a etapa *loop* faz o programa continuar executando."
   ]
  },
  {
   "cell_type": "markdown",
   "id": "18e0c731",
   "metadata": {},
   "source": [
    "### *Read*: o tempo de compilação"
   ]
  },
  {
   "cell_type": "markdown",
   "id": "f81e652b",
   "metadata": {},
   "source": [
    "Quando fornecemos ao Python um trecho de código, a primeira coisa que ele faz, na etapa *read*, é chamar um *parser* para transformar o texto em uma estrutura lógica.\n",
    "\n",
    "Como parte do *parser*, o código primeiramente passa por uma tokenização feita pelo analisador léxico, processo que quebra o código-fonte em unidades mínimas de significado chamadas de tokens, enquadrando-as em categorias simbólicas."
   ]
  },
  {
   "cell_type": "code",
   "execution_count": 4,
   "id": "c94adc8e",
   "metadata": {},
   "outputs": [],
   "source": [
    "abc = 1"
   ]
  },
  {
   "cell_type": "markdown",
   "id": "727d195f",
   "metadata": {},
   "source": [
    "No código acima, o analisador léxico reconhece que há três tipos de tokens: um nome, de conteúdo ```abc```; um operador, de conteúdo ```=``` (atribuição); e um valor numérico, de conteúdo $1$.\n",
    "\n",
    "É o analisador léxico que nos diz como podemos, por exemplo, introduzir espaços, quebrar linhas ou indentar o código. Afinal, esses componentes delimitam elementos mínimos de significado. É ele que reconhece as palavras reservadas (*keywords*), os caracteres de escape, as f-strings, os espaços inúteis ou linhas em branco, e o descarte de comentários, e é também ele quem sabe que ```3.``` é um ```float``` enquanto ```3``` é um ```int```.\n",
    "\n",
    "Posteriormente, a sequência de tokens é passada ao analisador sintático, que é a parte do *parser* capaz de dizer se aquela sequência de tokens, classificados por tipo, obedece ou não à estrutura gramatical da linguagem. Por exemplo, após o comando ```del```, a linguagem espera uma referência a um objeto, mas no caso do operador ```+```, ela espera um objeto não somente depois, mas também antes. Depois de ```def```, espera-se um nome de função, parênteses contendo eventuais argumentos, dois pontos, e um bloco de código, que caso contenha várias linhas lógicas deve ser indentado ou separado por ```;```."
   ]
  },
  {
   "cell_type": "code",
   "execution_count": null,
   "id": "47048463",
   "metadata": {},
   "outputs": [],
   "source": [
    "a = 1 + 2"
   ]
  },
  {
   "cell_type": "markdown",
   "id": "ed7c1a30",
   "metadata": {},
   "source": [
    "A expressão acima já é um pouco mais complexa, envolvendo três nomes e dois operadores. Na verdade, na maioria das vezes, o código é muito mais complexo que isso, envolvendo enormes estruturas aninhadas e blocos de controle. A análise sintática dispõe de uma série de técnicas para verificar a corretude de uma sequência de tokens e transformá-la em uma estrutura lógica de onde se pode rastrear a correta ordem de execução do código por parte da máquina. Em CPython especificamente, usa-se a técnica de estruturar o resultado da análise sintática em uma estrutura chamada Árvore Sintática Abstrata (AST), que no caso do exemplo acima seria mais ou menos assim:"
   ]
  },
  {
   "cell_type": "code",
   "execution_count": null,
   "id": "d0db89ec",
   "metadata": {},
   "outputs": [],
   "source": [
    "#    =\n",
    "#   / \\\n",
    "#  a   +\n",
    "#     / \\\n",
    "#    1   2"
   ]
  },
  {
   "cell_type": "markdown",
   "id": "95d0e14c",
   "metadata": {},
   "source": [
    "Notar que, como pessoas usuárias da linguagem, nós podemos cometer erros tanto léxicos quanto sintáticos. Mas o Python trata todos esses tipos de erro como sintáticos. Nos dois exemplos abaixo, o primeiro erro é léxico (pois não existe token para o caractere ```$``` em Python), enquanto o segundo é sintático (faltando um dois-pontos ```:```), mas o interpretador sempre levanta a exceção ```SyntaxError```:"
   ]
  },
  {
   "cell_type": "code",
   "execution_count": 2,
   "id": "9315b26e",
   "metadata": {},
   "outputs": [
    {
     "ename": "SyntaxError",
     "evalue": "invalid syntax (1334801704.py, line 1)",
     "output_type": "error",
     "traceback": [
      "  \u001b[36mCell\u001b[39m\u001b[36m \u001b[39m\u001b[32mIn[2]\u001b[39m\u001b[32m, line 1\u001b[39m\n\u001b[31m    \u001b[39m\u001b[31m$\u001b[39m\n    ^\n\u001b[31mSyntaxError\u001b[39m\u001b[31m:\u001b[39m invalid syntax\n"
     ]
    }
   ],
   "source": [
    "$"
   ]
  },
  {
   "cell_type": "code",
   "execution_count": 3,
   "id": "6a8785a6",
   "metadata": {},
   "outputs": [
    {
     "ename": "SyntaxError",
     "evalue": "expected ':' (1297360230.py, line 1)",
     "output_type": "error",
     "traceback": [
      "  \u001b[36mCell\u001b[39m\u001b[36m \u001b[39m\u001b[32mIn[3]\u001b[39m\u001b[32m, line 1\u001b[39m\n\u001b[31m    \u001b[39m\u001b[31mif True\u001b[39m\n           ^\n\u001b[31mSyntaxError\u001b[39m\u001b[31m:\u001b[39m expected ':'\n"
     ]
    }
   ],
   "source": [
    "if True\n",
    "    print()"
   ]
  },
  {
   "cell_type": "code",
   "execution_count": null,
   "id": "65587fd9",
   "metadata": {},
   "outputs": [],
   "source": [
    "# exemplo indentação zuada"
   ]
  },
  {
   "cell_type": "markdown",
   "id": "8aa28dbe",
   "metadata": {},
   "source": [
    "\n",
    "\n",
    "\n",
    "TEMPO DE COMPILAÇÃO\n",
    "\n",
    "Parsing\n",
    "    |_ analisador léxico -> tokens\n",
    "    |_ analisador sintático -> parse tree\n",
    "    |_ conversão em árvore sintática (AST) - CPython\n",
    "Compilador - AST -> objeto de código compilado"
   ]
  },
  {
   "cell_type": "markdown",
   "id": "1ee4cf77",
   "metadata": {},
   "source": [
    "### *Eval*: o tempo de execução"
   ]
  },
  {
   "cell_type": "markdown",
   "id": "e4ec28e8",
   "metadata": {},
   "source": [
    "TEMPO DE EXECUÇÃO\n",
    "\n",
    "VM - aglomerado de estruturas de dados que descreve o estado da execução\n",
    "    |_ pilha de frames\n",
    "        |_ ponteiro para o objeto de código compilado (bytecode, tabelas de constantes, nomes e variáveis locais)\n",
    "        |_ pilha de operandos (resultados intermediários)\n",
    "        |_ estado da execução (em qual frame está, em qual execução esté, pilha de chamadas)\n",
    "Interpretador de bytecode - laço que consome a estrutura de dados da VM. gerencia a execução, acionando o runtime para pedir coisas ao sistema operacional conforme as regras de manipulação das pilhas. atua sobre a VM, modificando seu estado interno\n",
    "Runtime - faz toda a ponte entre a VM/intepretador e o sistema operacional. compreende o runtime environment ou o runtime system, contendo os seguintes elementos:\n",
    "    |_ heap: objetos criados dinamicamente durante a execução (espaço de armazenamento do runtime)\n",
    "    |_ gerenciador de memória: mantém tabelas e listas de objetos alocados, faz referência contagem (refcounting), coordena o garbage collector para objetos cíclicos, administra o heap\n",
    "    |_ garbage collector\n",
    "    |_ sistema de exceções: rastrear exceções ativas e suas pilhas de traceback\n",
    "    |_ sistema de namespaces, módulos e importação: gerencia dicionários globais (sys.modules), busca e carrega módulos, compila arquivos .py em bytecode"
   ]
  },
  {
   "cell_type": "markdown",
   "id": "77ab0991",
   "metadata": {},
   "source": [
    "### *Print* e *loop*: a continuação do *runtime*"
   ]
  },
  {
   "cell_type": "markdown",
   "id": "35fb61a4",
   "metadata": {},
   "source": [
    "\n",
    "\n",
    "\n",
    "\n",
    "\n",
    "Print (imprimir resultado)\n",
    "\n",
    "O valor retornado da execução é retornado pelo interpretador e exibido na tela.\n",
    "\n",
    "Não altera a execução em si, mas permite interação dinâmica.\n",
    "\n",
    "Loop (repetir)\n",
    "\n",
    "O REPL mantém o mesmo runtime, o mesmo heap e mesmo estado de módulos importados entre linhas.\n",
    "\n",
    "Variáveis definidas em uma linha permanecem acessíveis na próxima, porque os frames e bindings do módulo principal persistem."
   ]
  },
  {
   "cell_type": "markdown",
   "id": "442bc4d0",
   "metadata": {},
   "source": [
    "## Desagregando o *bytecode*"
   ]
  },
  {
   "cell_type": "markdown",
   "id": "5c418a86",
   "metadata": {},
   "source": [
    "## Bônus"
   ]
  },
  {
   "cell_type": "markdown",
   "id": "0cfa5059",
   "metadata": {},
   "source": [
    "Uma curiosidade pouco conhecida sobre as regras de indentação de Python é que ela é implementada usando tokens de ```IDENT``` e ```DEDENT``` pelo analisador léxico e depois analisada pelo analisador sintático.\n",
    "\n",
    "..."
   ]
  },
  {
   "cell_type": "markdown",
   "id": "900a89a7",
   "metadata": {},
   "source": [
    "\n",
    "\n",
    "\n",
    "\n",
    "\n",
    "\n",
    "modelo de execução: é apenas a explicação abstrata do que deve fazer o runtime\n",
    "interpretador CPython: é o executável python3.exe, que dispara tudo isso"
   ]
  }
 ],
 "metadata": {
  "kernelspec": {
   "display_name": "Python 3",
   "language": "python",
   "name": "python3"
  },
  "language_info": {
   "codemirror_mode": {
    "name": "ipython",
    "version": 3
   },
   "file_extension": ".py",
   "mimetype": "text/x-python",
   "name": "python",
   "nbconvert_exporter": "python",
   "pygments_lexer": "ipython3",
   "version": "3.13.7"
  }
 },
 "nbformat": 4,
 "nbformat_minor": 5
}
