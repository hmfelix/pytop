{
 "cells": [
  {
   "cell_type": "markdown",
   "id": "f404fb6b",
   "metadata": {},
   "source": [
    "# Objetos"
   ]
  },
  {
   "cell_type": "markdown",
   "id": "20e6628a",
   "metadata": {},
   "source": [
    "Você talvez já tenha ouvido falar que tudo em Python é um objeto. Mas o que isso significa exatamente? E como é implementado na prática?\n",
    "\n",
    "A primeira seção deste tópico explica a ideia de programação orientada a objetos enquanto paradigma central no desenho de uma linguagem. A explicação já é iniciada contando um pouco da implementação específica de Python a nível mais geral.\n",
    "\n",
    "Como, justamente, tudo em Python é um objeto, o presente tópico tem o potencial de cobrir toda a linguagem, o que seria impossível! O que faremos abaixo é apresentar os temas que se aplicam a objetos em geral, deixando temas específicos para outros tópicos.\n",
    "\n",
    "..."
   ]
  },
  {
   "cell_type": "markdown",
   "id": "2bee5105",
   "metadata": {},
   "source": [
    "## Conteúdo\n",
    "\n",
    "..."
   ]
  },
  {
   "cell_type": "markdown",
   "id": "021c4e12",
   "metadata": {},
   "source": [
    "## Programação orientada a objetos"
   ]
  },
  {
   "cell_type": "markdown",
   "id": "31c7e6ac",
   "metadata": {},
   "source": [
    "### Paradigmas de programação"
   ]
  },
  {
   "cell_type": "markdown",
   "id": "9f47c01b",
   "metadata": {},
   "source": [
    "A simplificação de que computadores são apenas zeros e uns é bastante conhecida. No início da programação de computadores, era só isso que as pessoas desenvolvedoras tinham à sua disposição: sequências de zeros e uns para estocar dados e instruções ao computador, embora algumas técnicas auxiliassem nesse processo (ex.: representação hexadecimal). A invenção das linguagens permitiu agrupar imensos comandos de zeros e uns em texto, aumentando enormemente a legibilidade e a capacidade de abstração.\n",
    "\n",
    "As linguagens de programação são uma ferramenta riquíssima, permitindo programar usando diversas abordagens diferentes. O jeito ou, se preferir, o estilo, de programar usando linguagens é tipicamente chamado de **paradigma de programação**. No início, a programação em linguagem ainda era feita com pouquíssimos recursos computacionais, se limitando a instruções passo-a-passo, o que hoje é referido como o **paradigma imperativo**. Nas primeiras décadas das linguagens, logo surgiram novos estilos que hoje são canônicos. Controlar o fluxo de execução dessas instruções por meio de loops, sequências e condicionais deu origem à **programação estruturada**. Reunir um grupo de instruções envolvidas em uma mesma funcionalidade para fins de reutilização deu origem à **programação procedural**, que inclui empacotar pedaços de código em funções passíveis de serem invocadas sempre que necessário. A tentativa de se aproximar de funções da matemática, sem estados, deu origem à **programação funcional**. Esses estilos se desenvolveram mais ou menos em paralelo e com motivações distintas.\n",
    "\n",
    "É possível misturar vários jeitos de programar em um único programa ou uma única linguagem. Os estilos mencionados acima são todos implementáveis em Python, que é uma **linguagem multiparadigma**, e certos tópicos deste material mostram alguns aspectos deles (**PROMESSAS DE CADA PARADIGMA**). De fato, é quase impossível programar em Python sem usar eventualmente alguma característica fundamental introduzida pelos estilos acima."
   ]
  },
  {
   "cell_type": "markdown",
   "id": "4a317a26",
   "metadata": {},
   "source": [
    "### Limitações dos paradigmas canônicos e a ideia de objetos"
   ]
  },
  {
   "cell_type": "markdown",
   "id": "c52f2b41",
   "metadata": {},
   "source": [
    "Com o aumento do tamanho e da complexidade dos programas, cada vez mais foi necessário dividi-los em partes diferentes, até mesmo arquivos diferentes, técnica que chamamos de **modularização**. Note que os estilos procedural e funcional já permitem modularizar programas, através do empacotamento de funcionalidades dentro de funções. No entanto, esse tipo de modularização apresentava limitações:\n",
    "\n",
    "* *(Limitação 1)* Todo o código modularizado ainda compartilha de tudo que está em um ambiente comum. Mesmo que haja funções dentro de funções, no limite alguma função está na raiz, definida no contexto global do programa, e tudo que está no contexto global é acessível a qualquer função. Assim, por um lado, os paradigmas mencionados acima ainda não permitem uma separação, ou isolamento, das variáveis globais. Como todas as funcionalidades do programa acessam variáveis globais, pode haver conflito entre diferentes funcionalidades.\n",
    "\n",
    "* *(Limitação 2)* Por outro lado, quando definimos duas funções de modo independente (isto é, nenhuma está definida dentro da outra), cada uma não consegue acessar o ambiente interno da outra, havendo uma certa ausência de interface. Para fazê-las conversar, é preciso que uma retorne dados para a outra utilizar. É difícil, por exemplo, executar apenas uma parte de uma função, manter esse estado interno de execução, depois executar parte da outra função, alterar seu estado interno, em seguida voltar à primeira função, fazer algumas mudanças e acessar certos estados internos, e assim por diante.\n",
    "\n",
    "* *(Limitação 3)* Existem funções que representam um conceito, uma ideia mais abstrata, e que poderiam em tese ser aplicadas a vários trechos de código, estruturas de dados ou tipos de variáveis diferentes, eventualmente com modificações. Por exemplo, você pode ter interesse em imprimir na tela tanto um número inteiro quanto uma letra usando uma única função (digamos, ```imprimir()```). Porém, para fazer as modificações necessárias, devia-se ou definir duas funções (ex.: ```imprimir_int()``` vs. ```imprimir_str()```) ou então separar vários casos dentro da função. Se uma nova estrutura fosse definida (digamos, uma lista de compras), de novo seria necessário voltar à função e realizar modificações.\n",
    "\n",
    "A programação orientada a objetos (POO) é um paradigma que surgiu para endereçar limitações dessa natureza, organizando o código de outra forma. A ideia geral é que o código seja estruturado em objetos, que delimitam as fronteiras do que é acessível ao resto do programa e como o programa vai se comportar com relação ao objeto. Para acessar o que está dentro do objeto, existem interfaces. Cada objeto define de um jeito as interfaces que disponibiliza. É como se, agora, existissem vários ambientes, separados, de modo que podemos acessar dados e funcionalidades desses ambientes a partir de fora, mas sujeito a certas regras bem definidas. Ainda, é possível definir certas funcionalidades gerais que sejam aplicáveis a vários tipos de objetos, desde que o objeto permita. Vamos ver de maneira detalhada como a POO propõe resolver os problemas acima e como isso é implementado em Python."
   ]
  },
  {
   "cell_type": "markdown",
   "id": "4235a4ea",
   "metadata": {},
   "source": [
    "### Características fundamentais da POO"
   ]
  },
  {
   "cell_type": "markdown",
   "id": "7d8acfbc",
   "metadata": {},
   "source": [
    "Limitação 1. Classes ...escrever"
   ]
  },
  {
   "cell_type": "code",
   "execution_count": null,
   "id": "ba224269",
   "metadata": {},
   "outputs": [
    {
     "name": "stdout",
     "output_type": "stream",
     "text": [
      "Estado de execução do Bloco 1: 5\n",
      "Estado de execução do Bloco 2: 3\n"
     ]
    }
   ],
   "source": [
    "# definição de uma classe: modelos de um certo tipo de objetos\n",
    "class BlocoUrgente:\n",
    "    prioridade = 0 # urgente!\n",
    "    def __init__(bloco, estado_inicial = 5):\n",
    "        bloco.estado_de_execucao = estado_inicial\n",
    "\n",
    "# criação de dois objetos seguindo o modelo acima\n",
    "bloco1 = BlocoUrgente()\n",
    "bloco2 = BlocoUrgente(3)\n",
    "\n",
    "# acessando um estado interno de cada objeto\n",
    "print(f'Estado de execução do Bloco 1: {bloco1.estado_de_execucao}')\n",
    "print(f'Estado de execução do Bloco 2: {bloco2.estado_de_execucao}')"
   ]
  },
  {
   "cell_type": "markdown",
   "id": "eaf1071e",
   "metadata": {},
   "source": [
    "Limitação 2. Encapsulamento ...escrever"
   ]
  },
  {
   "cell_type": "code",
   "execution_count": null,
   "id": "8017388a",
   "metadata": {},
   "outputs": [],
   "source": [
    "# exemplo ingenuo para chamar a ideia de interface:\n",
    "bloco1.estado_de_execucao = 2"
   ]
  },
  {
   "cell_type": "markdown",
   "id": "c6e9b21a",
   "metadata": {},
   "source": []
  },
  {
   "cell_type": "code",
   "execution_count": null,
   "id": "50c2ede1",
   "metadata": {},
   "outputs": [],
   "source": []
  },
  {
   "cell_type": "markdown",
   "id": "2913de6a",
   "metadata": {},
   "source": [
    "Limitação 3. Polimorfismo ...escrever"
   ]
  },
  {
   "cell_type": "code",
   "execution_count": null,
   "id": "50dfed67",
   "metadata": {},
   "outputs": [],
   "source": []
  },
  {
   "cell_type": "markdown",
   "id": "5b8f9739",
   "metadata": {},
   "source": [
    "## Objetos em Python"
   ]
  },
  {
   "cell_type": "markdown",
   "id": "50e9e202",
   "metadata": {},
   "source": [
    "..."
   ]
  },
  {
   "cell_type": "markdown",
   "id": "14334c6d",
   "metadata": {},
   "source": []
  },
  {
   "cell_type": "markdown",
   "id": "d4238544",
   "metadata": {},
   "source": [
    "3 conceitos: id, tipo, valor\n",
    "\n",
    "métodos básicos: construtora\n",
    "\n",
    "herança\n",
    "\n",
    "hierarquia das classes em python"
   ]
  },
  {
   "cell_type": "code",
   "execution_count": 1,
   "id": "d6aea37f",
   "metadata": {},
   "outputs": [
    {
     "data": {
      "text/plain": [
       "6"
      ]
     },
     "execution_count": 1,
     "metadata": {},
     "output_type": "execute_result"
    }
   ],
   "source": [
    "class teste:\n",
    "    def __init__(self):\n",
    "        self.info = [1,2,3]\n",
    "    \n",
    "    def somar(self):\n",
    "        return sum(self.info)\n",
    "\n",
    "class teste_filho(teste):\n",
    "    pass\n",
    "\n",
    "teste_filho().somar()"
   ]
  },
  {
   "cell_type": "code",
   "execution_count": null,
   "id": "e3c5d8af",
   "metadata": {},
   "outputs": [],
   "source": []
  }
 ],
 "metadata": {
  "kernelspec": {
   "display_name": "Python 3",
   "language": "python",
   "name": "python3"
  },
  "language_info": {
   "codemirror_mode": {
    "name": "ipython",
    "version": 3
   },
   "file_extension": ".py",
   "mimetype": "text/x-python",
   "name": "python",
   "nbconvert_exporter": "python",
   "pygments_lexer": "ipython3",
   "version": "3.13.7"
  }
 },
 "nbformat": 4,
 "nbformat_minor": 5
}
