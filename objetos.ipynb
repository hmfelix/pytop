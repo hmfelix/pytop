{
 "cells": [
  {
   "cell_type": "markdown",
   "id": "f404fb6b",
   "metadata": {},
   "source": [
    "# Objetos"
   ]
  },
  {
   "cell_type": "markdown",
   "id": "20e6628a",
   "metadata": {},
   "source": [
    "Você talvez já tenha ouvido falar que tudo em Python é um objeto. Mas o que isso significa exatamente? E como é implementado na prática?\n",
    "\n",
    "A primeira seção deste tópico explica a ideia de programação orientada a objetos enquanto paradigma central no desenho de uma linguagem. A explicação já é iniciada contando um pouco da implementação específica de Python a nível mais geral.\n",
    "\n",
    "Como, justamente, tudo em Python é um objeto, o presente tópico tem o potencial de cobrir toda a linguagem, o que seria impossível! O que faremos abaixo é apresentar os temas que se aplicam a objetos em geral, deixando temas específicos para outros tópicos.\n",
    "\n",
    "..."
   ]
  },
  {
   "cell_type": "markdown",
   "id": "2bee5105",
   "metadata": {},
   "source": [
    "## Conteúdo\n",
    "\n",
    "..."
   ]
  },
  {
   "cell_type": "markdown",
   "id": "021c4e12",
   "metadata": {},
   "source": [
    "## Programação orientada a objetos"
   ]
  },
  {
   "cell_type": "markdown",
   "id": "9f47c01b",
   "metadata": {},
   "source": []
  },
  {
   "cell_type": "markdown",
   "id": "5b8f9739",
   "metadata": {},
   "source": [
    "## Objetos em Python"
   ]
  },
  {
   "cell_type": "markdown",
   "id": "50e9e202",
   "metadata": {},
   "source": [
    "..."
   ]
  },
  {
   "cell_type": "markdown",
   "id": "14334c6d",
   "metadata": {},
   "source": []
  },
  {
   "cell_type": "markdown",
   "id": "d4238544",
   "metadata": {},
   "source": [
    "3 conceitos: id, tipo, valor\n",
    "\n",
    "métodos básicos: construtora\n",
    "\n",
    "herança\n",
    "\n",
    "hierarquia das classes em python"
   ]
  },
  {
   "cell_type": "code",
   "execution_count": 1,
   "id": "d6aea37f",
   "metadata": {},
   "outputs": [
    {
     "data": {
      "text/plain": [
       "6"
      ]
     },
     "execution_count": 1,
     "metadata": {},
     "output_type": "execute_result"
    }
   ],
   "source": [
    "class teste:\n",
    "    def __init__(self):\n",
    "        self.info = [1,2,3]\n",
    "    \n",
    "    def somar(self):\n",
    "        return sum(self.info)\n",
    "\n",
    "class teste_filho(teste):\n",
    "    pass\n",
    "\n",
    "teste_filho().somar()"
   ]
  },
  {
   "cell_type": "code",
   "execution_count": null,
   "id": "e3c5d8af",
   "metadata": {},
   "outputs": [],
   "source": []
  }
 ],
 "metadata": {
  "kernelspec": {
   "display_name": "Python 3",
   "language": "python",
   "name": "python3"
  },
  "language_info": {
   "codemirror_mode": {
    "name": "ipython",
    "version": 3
   },
   "file_extension": ".py",
   "mimetype": "text/x-python",
   "name": "python",
   "nbconvert_exporter": "python",
   "pygments_lexer": "ipython3",
   "version": "3.12.10"
  }
 },
 "nbformat": 4,
 "nbformat_minor": 5
}
