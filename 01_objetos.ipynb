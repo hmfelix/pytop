{
 "cells": [
  {
   "cell_type": "markdown",
   "id": "f404fb6b",
   "metadata": {},
   "source": [
    "# Objetos"
   ]
  },
  {
   "cell_type": "markdown",
   "id": "20e6628a",
   "metadata": {},
   "source": [
    "Você talvez já tenha ouvido falar que tudo em Python é um objeto. Mas o que isso significa exatamente? E como é implementado na prática?\n",
    "\n",
    "A primeira seção deste tópico explica a ideia de programação orientada a objetos enquanto paradigma central no desenho de uma linguagem. A explicação já é iniciada contando um pouco da implementação específica de Python a nível mais geral.\n",
    "\n",
    "Como, justamente, tudo em Python é um objeto, o presente tópico tem o potencial de cobrir toda a linguagem, o que seria impossível! O que faremos abaixo é apresentar os temas que se aplicam a objetos em geral, deixando temas específicos para outros tópicos.\n",
    "\n",
    "..."
   ]
  },
  {
   "cell_type": "markdown",
   "id": "2bee5105",
   "metadata": {},
   "source": [
    "## Conteúdo\n",
    "\n",
    "..."
   ]
  },
  {
   "cell_type": "markdown",
   "id": "021c4e12",
   "metadata": {},
   "source": [
    "## Programação orientada a objetos (POO)"
   ]
  },
  {
   "cell_type": "markdown",
   "id": "31c7e6ac",
   "metadata": {},
   "source": [
    "### Paradigmas de programação"
   ]
  },
  {
   "cell_type": "markdown",
   "id": "9f47c01b",
   "metadata": {},
   "source": [
    "A simplificação de que computadores são apenas zeros e uns é bastante conhecida. No início da programação de computadores, era só isso que as pessoas desenvolvedoras tinham à sua disposição: sequências de zeros e uns para estocar dados e instruções ao computador, embora algumas técnicas auxiliassem nesse processo (ex.: representação hexadecimal). A invenção das linguagens permitiu agrupar imensos comandos de zeros e uns em texto, aumentando enormemente a legibilidade e a capacidade de abstração.\n",
    "\n",
    "As linguagens de programação são uma ferramenta riquíssima, permitindo programar usando diversas abordagens diferentes. O jeito ou, se preferir, o estilo, de programar usando linguagens é tipicamente chamado de **paradigma de programação**. No início, a programação em linguagem ainda era feita com pouquíssimos recursos computacionais, se limitando a instruções passo-a-passo, o que hoje é referido como o **paradigma imperativo**. Nas primeiras décadas das linguagens, logo surgiram novos estilos que hoje são canônicos. Controlar o fluxo de execução dessas instruções por meio de loops, sequências e condicionais deu origem à **programação estruturada**. Reunir um grupo de instruções envolvidas em uma mesma funcionalidade para fins de reutilização deu origem à **programação procedural**, que inclui empacotar pedaços de código em funções passíveis de serem invocadas sempre que necessário. A tentativa de se aproximar de funções da matemática, sem estados, deu origem à **programação funcional**. Esses estilos se desenvolveram mais ou menos em paralelo e com motivações distintas.\n",
    "\n",
    "É possível misturar vários jeitos de programar em um único programa ou uma única linguagem. Os estilos mencionados acima são todos implementáveis em Python, que é uma **linguagem multiparadigma**, e certos tópicos deste material mostram alguns aspectos deles (**PROMESSAS DE CADA PARADIGMA**). De fato, é quase impossível programar em Python sem usar eventualmente alguma característica fundamental introduzida pelos estilos acima."
   ]
  },
  {
   "cell_type": "markdown",
   "id": "4a317a26",
   "metadata": {},
   "source": [
    "### Limitações dos paradigmas canônicos e a ideia de objetos"
   ]
  },
  {
   "cell_type": "markdown",
   "id": "c52f2b41",
   "metadata": {},
   "source": [
    "Com o aumento do tamanho e da complexidade dos programas, cada vez mais foi necessário dividi-los em partes diferentes, até mesmo arquivos diferentes, técnica que chamamos de **modularização**. Note que os estilos procedural e funcional já permitem modularizar programas, através do empacotamento de funcionalidades dentro de funções. No entanto, esse tipo de modularização apresentava limitações:\n",
    "\n",
    "* *(Limitação 1)* Todo o código modularizado ainda compartilha de tudo que está em um ambiente comum. Mesmo que haja funções dentro de funções, no limite alguma função está na raiz, definida no contexto global do programa, e tudo que está no contexto global é acessível a qualquer função. Assim, por um lado, os paradigmas mencionados acima ainda não permitem uma separação, ou isolamento, das variáveis globais. Como todas as funcionalidades do programa acessam variáveis globais, pode haver conflito entre diferentes funcionalidades.\n",
    "\n",
    "* *(Limitação 2)* Por outro lado, quando definimos duas funções de modo independente (isto é, nenhuma está definida dentro da outra), cada uma não consegue acessar o ambiente interno da outra, havendo uma certa ausência de interface. Para fazê-las conversar, é preciso que uma retorne dados para a outra utilizar. É difícil, por exemplo, executar apenas uma parte de uma função, manter esse estado interno de execução, depois executar parte da outra função, alterar seu estado interno, em seguida voltar à primeira função, fazer algumas mudanças e acessar certos estados internos, e assim por diante.\n",
    "\n",
    "* *(Limitação 3)* Existem funções que representam um conceito, uma ideia mais abstrata, e que poderiam em tese ser aplicadas a vários trechos de código, estruturas de dados ou tipos de variáveis diferentes, eventualmente com modificações. Por exemplo, você pode ter interesse em imprimir na tela tanto um número inteiro quanto uma letra usando uma única função (digamos, ```imprimir()```). Porém, para fazer as modificações necessárias, devia-se ou definir duas funções (ex.: ```imprimir_int()``` vs. ```imprimir_str()```) ou então separar vários casos dentro da função. Se uma nova estrutura fosse definida (digamos, uma lista de compras), de novo seria necessário voltar à função e realizar modificações.\n",
    "\n",
    "A programação orientada a objetos (POO) é um paradigma que surgiu para endereçar limitações dessa natureza, organizando o código de outra forma. A ideia geral é que o código seja estruturado em objetos, que delimitam as fronteiras do que é acessível ao resto do programa e como o programa vai se comportar com relação ao objeto. Para acessar o que está dentro do objeto, existem interfaces. Cada objeto define de um jeito as interfaces que disponibiliza. É como se, agora, existissem vários ambientes, separados, de modo que podemos acessar dados e funcionalidades desses ambientes a partir de fora, mas sujeito a certas regras bem definidas. Ainda, é possível definir certas funcionalidades gerais que sejam aplicáveis a vários tipos de objetos, desde que o objeto permita."
   ]
  },
  {
   "cell_type": "markdown",
   "id": "4235a4ea",
   "metadata": {},
   "source": [
    "### Características fundamentais da POO"
   ]
  },
  {
   "cell_type": "markdown",
   "id": "7d8acfbc",
   "metadata": {},
   "source": [
    "Em linhas gerais, as limitações mencionadas acima são endereçadas por meio de duas características fundamentais que marcam a POO: encapsulamento e\n",
    "polimorfismo.\n",
    "\n",
    "O **encapsulamento** consiste em envolver dados e comportamentos em um espaço próprio (o objeto) e definir regras de interação entre esse espaço e o resto do programa.\n",
    "\n",
    "Por exemplo, quando usamos a função ```list()``` para criar uma lista, estamos de certa forma delimitando uma fronteira entre o que está sendo guardado pela lista e o que está fora do código. Agora que há valores dentro da lista, podemos usar uma interface - i.e., todo um conjunto de protocolos e funcionalidades - para interagir com ela: acessar algum subconjunto específico de elementos, inserir e remover elementos, reverter a ordem etc."
   ]
  },
  {
   "cell_type": "code",
   "execution_count": 1,
   "id": "6f0b9317",
   "metadata": {},
   "outputs": [
    {
     "name": "stdout",
     "output_type": "stream",
     "text": [
      "[0, 1, 2]\n",
      "[0, 1, 2, 4]\n",
      "[0, 5, 1, 2, 4]\n",
      "[0, 1, 2, 4, 5]\n",
      "[5, 4, 2, 1, 0]\n",
      "[]\n"
     ]
    }
   ],
   "source": [
    "# separa os valores do resto do código\n",
    "a = list([0,1,2,3])\n",
    "\n",
    "# retira o elemento do topo\n",
    "a.pop()\n",
    "print(a)\n",
    "\n",
    "# adiciona elemento ao topo\n",
    "a.append(4) \n",
    "print(a)\n",
    "\n",
    "# adiciona elemento no meio\n",
    "a.insert(1, 5) \n",
    "print(a)\n",
    "\n",
    "# coloca em ordem crescente\n",
    "a.sort() \n",
    "print(a)\n",
    "\n",
    "# reverte a ordem\n",
    "a.reverse()\n",
    "print(a)\n",
    "\n",
    "# apaga todos os elementos\n",
    "a.clear()\n",
    "print(a)"
   ]
  },
  {
   "cell_type": "markdown",
   "id": "c79ad0b8",
   "metadata": {},
   "source": [
    "Já o polimorfismo é a possibilidade de fazer vários tipos diferentes de objeto operarem sob uma estrutura lógica comum. Da nossa discussão anterior, você já pôde pescar a função ```print()```, que em Python serve para imprimir vários objetos diferentes. Há várias outras formas de polimorfismo que usamos cotidianamente na linguagem: loops como ```for``` aceitam qualquer objeto que seja iterável; a instrução ```in``` funciona com qualquer objeto que sirva de contâiner para outros objetos; a função ```len``` funciona com qualquer objeto que seja uma sequência; vários operadores funcionam tanto com números quanto com strings, às vezes até com ambos ao mesmo tempo, a exemplo de ```+```, ```*``` e comparações."
   ]
  },
  {
   "cell_type": "code",
   "execution_count": 7,
   "id": "016256f6",
   "metadata": {},
   "outputs": [
    {
     "name": "stdout",
     "output_type": "stream",
     "text": [
      "for com dict: a\n",
      "for com dict: b\n",
      "for com range: 0\n",
      "for com range: 1\n",
      "len com lista: 2\n",
      "len com tupla: 2\n",
      "in com set: True\n",
      "in com lista: True\n",
      "+ com numeros: 2\n",
      "+ com strings: aa\n",
      "+ com listas: [1, 1]\n"
     ]
    }
   ],
   "source": [
    "# for funcionando com dicts e ranges\n",
    "for key in {'a': 1, 'b': 2}:\n",
    "    print(f'for com dict: {key}')\n",
    "for i in range(2):\n",
    "    print(f'for com range: {i}')\n",
    "\n",
    "# len() funcionando com listas e tuplas\n",
    "print(f'len com lista: {len([1,2])}')\n",
    "print(f'len com tupla: {len((1,2))}')\n",
    "\n",
    "# in funcionando com sets e listas\n",
    "print(f'in com set: {5 in {0,5,10}}')\n",
    "print(f'in com lista: {5 in [0,5,10]}')\n",
    "\n",
    "# operador funcionando com números, listas e strings\n",
    "print(f'+ com numeros: {1 + 1}')\n",
    "print(f'+ com strings: {'a' + 'a'}')\n",
    "print(f'+ com listas: {[1] + [1]}')"
   ]
  },
  {
   "cell_type": "markdown",
   "id": "10b731ba",
   "metadata": {},
   "source": [
    "Há outras duas características que são frequentemente associadas à POO: as abstrações de tipos, isto é, a possibilidade de formular características comuns a todo um conjunto de objetos, tais como os tipos abstratos de dados (ADT), e a existência de uma hierarquia de tipos, esquema no qual tipos-filho podem herdar características de tipos-mãe. Podemos pensar nessas duas características com extensões do encapsulamento e do polimorfismo. Em Python elas são implementadas por meio dos conceitos classes e herança, respectivamente, algo que veremos à frente."
   ]
  },
  {
   "cell_type": "markdown",
   "id": "29fefb8f",
   "metadata": {},
   "source": [
    "## Objetos em Python"
   ]
  },
  {
   "cell_type": "markdown",
   "id": "78aee6b1",
   "metadata": {},
   "source": [
    "### O que todo objeto tem"
   ]
  },
  {
   "cell_type": "markdown",
   "id": "6fd07ded",
   "metadata": {},
   "source": [
    "Todo objeto em Python compartilha as seguintes características:\n",
    "* identificação;\n",
    "* valor;\n",
    "* tipo; e\n",
    "* atributos.\n",
    "\n",
    "A **identificação** é apenas um valor que o Python associa unicamente a cada objeto que é criado. Este valor é atribuído em tempo de execução, pois depende da interação dinâmica do programa com máquina (em CPython, corresponde ao endereço de memória do objeto), e pode ser acessado por meio da função ```id(objeto)```. O valor de identificação do objeto nunca é alterado durante todo o tempo de execução. Veremos no tópico sobre Nomes que esta identificação tem uma série de nuances devido ao modelo de POO de Python e também à implementação específica em que o Python está rodando. No mesmo tópico, veremos que esse valor é o que o nome de um objeto realmente estoca. No exemplo abaixo, mostramos apenas simplificadamente a identificação de dois objetos diferentes."
   ]
  },
  {
   "cell_type": "code",
   "execution_count": 3,
   "id": "18e02ecd",
   "metadata": {},
   "outputs": [
    {
     "name": "stdout",
     "output_type": "stream",
     "text": [
      "Identificação do objeto 1: 140711580627880\n",
      "Identificação do objeto 2: 140711580692448\n"
     ]
    }
   ],
   "source": [
    "obj1 = 1\n",
    "obj2 = 'a'\n",
    "print(f'Identificação do objeto 1: {id(obj1)}')\n",
    "print(f'Identificação do objeto 2: {id(obj2)}')"
   ]
  },
  {
   "cell_type": "markdown",
   "id": "45af1b74",
   "metadata": {},
   "source": [
    "O **valor** de um objeto é o seu conteúdo semântico, ou seja, o que de fato se deseja representar por meio dele. Por exemplo, o valor de ```obj1``` no código acima é o número $1$. Já o valor de objetos mais complexos tem mais detalhes e pode não ser intuitivo: o valor de uma lista é o conjunto de referências para os objetos que ela contém, enquanto o valor de um dicionário é um conjunto de pares de referências para chaves e valores, e assim por diante. Objetos cujo valor pode ser alterado são chamados de mutáveis e, caso contrário, imutáveis. O tema da mutabilidade é espinhoso e importante em Python, sendo a causa de muitos potenciais erros, mas também uma das maiores fontes de eficiência da linguagem. Este tema será abordado no tópico sobre Nomes.\n",
    "\n",
    "O **tipo** do objeto é o que define como ele pode interagir com o programa (operações permitidas) e os possíveis valores que ele pode assumir. O ideal é que o tipo não seja mudado durante todo o tempo de execução, tal como a identificação. (Na verdade, é possível fazer essa mudança em alguns casos, mas a documentação oficial de Python não recomenda.) O tipo também pode ser definido como a classe à qual o objeto pertence, conceito que veremos a seguir.\n",
    "\n",
    "Por fim, os **atributos** de um objeto são, de maneira geral, o código que se quer encapsular dentro do objeto. Podem ser desde variáveis que monitoram o estado interno do objeto, dados que ele contém (incluindo seu valor, ou potencialmente outros objetos), e operações que podem ser realizadas sobre ele. Notar que, por conta dessas características, os atributos são fundamentais à implementação dos tipos em Python.\n",
    "\n",
    "Todo atribuito de qualquer objeto em Python pode ser acessado usando a sintaxe do ponto ```.```, como segue:\n",
    "\n",
    "```\n",
    "[nome do objeto].[nome do atributo]\n",
    "```\n",
    "\n",
    "Esta é uma forma geral que recebe várias complicações a depender do atributo e do tipo de manipulação, algo que veremos com mais profundidade a seguir."
   ]
  },
  {
   "cell_type": "markdown",
   "id": "d4848611",
   "metadata": {},
   "source": [
    "### Classes"
   ]
  },
  {
   "cell_type": "markdown",
   "id": "2e365cdf",
   "metadata": {},
   "source": [
    "#### Definições iniciais"
   ]
  },
  {
   "cell_type": "markdown",
   "id": "ad8807db",
   "metadata": {},
   "source": [
    "Uma **classe** é um modelo geral de como criar um objeto de um certo tipo. Um novo objeto que é criado seguindo o modelo geral de uma classe é chamado de **instância**, e o ato de criar uma nova instância também é chamado de instanciação. Por exemplo, quando fazemos ```n = 300```, estamos criando uma instância da classe ```int``` com o valor de $300$. Agora, podemos fazer todas as operações que esse tipo suporta, por exemplo, somar com outros números, obter seu valor absoluto, etc."
   ]
  },
  {
   "cell_type": "markdown",
   "id": "59e1b97a",
   "metadata": {},
   "source": [
    "A função ```type(objeto)``` nos permite saber de que classe é o objeto. Até Python 2, existia uma diferenciação entre tipo e classe. Alguns textos trazem pequenas diferenças de uso, tal como acabamos de fazer ao abordar classes como uma ideia mais geral, mas para fins práticos já não existe nenhuma diferenciação entre esses dois conceitos em Python 3.\n",
    "\n",
    "No código abaixo, realizamos três procedimentos. Primeiro, instanciamos uma nova lista e a atribuímos ao nome ```a```. Depois, estocamos o retorno da função ```type(a)``` na variável ```b```, imprimindo-a. Como esperado, a impressão do resultado nos revela que ```a``` é uma instância da classe ```list```. Mas lembre-se: em Python, tudo é um objeto! Logo, ```b``` (a classe de ```a```) também é um objeto. Podemos nos perguntar então: de que classe é um objeto \"classe\"? Bem, vamos aplicar a função ```type()``` sobre ```b```, estocando o resultado em ```c```:"
   ]
  },
  {
   "cell_type": "code",
   "execution_count": null,
   "id": "9fa1d7a7",
   "metadata": {},
   "outputs": [
    {
     "name": "stdout",
     "output_type": "stream",
     "text": [
      "<class 'list'>\n",
      "<class 'type'>\n"
     ]
    }
   ],
   "source": [
    "# instanciando uma lista\n",
    "a = []\n",
    "\n",
    "# conferindo a classe da lista\n",
    "b = type(a)\n",
    "print(b)\n",
    "\n",
    "# conferindo a classe da classe\n",
    "c = type(b)\n",
    "print(c)"
   ]
  },
  {
   "cell_type": "markdown",
   "id": "e0d84b9c",
   "metadata": {},
   "source": [
    "O resultado nos mostra que ```c``` é um objeto da classe ```type```. \n",
    "\n",
    "..."
   ]
  },
  {
   "cell_type": "markdown",
   "id": "b6fcc54b",
   "metadata": {},
   "source": [
    "#### Visão geral das classes pré-definidas"
   ]
  },
  {
   "cell_type": "markdown",
   "id": "75a64b75",
   "metadata": {},
   "source": [
    "Existem várias classes já prédefinidas em Python. Em textos introdutórios, é comum mencionar apenas os tipos básicos mais usados em projetos simples. Como este é um material de nível intermediário, abordaremos de maneira mais abrangente os tipos disponíveis no Python base. E, como tudo em Python é um objeto, você já pode imaginar que existem muito mais tipos de objetos que esses textos introdutórios apresentam!\n",
    "\n",
    "De fato, esse é o caso. Na lista abaixo, apresentamos as categorias gerais de tipos pré-definidos em Python:\n",
    "\n",
    "* **Singletons** \n",
    "    - ```None```: objeto cujo valor é vazio, significando a ausência de valor\n",
    "    - ```NotImplemented```: objeto retornado quando se tenta executar uma operação sobre um tipo de objeto para o qual esta operação não está definida\n",
    "    - ```Ellipsis```: usado com a sintaxe ```...```, representa um substituto para outro conjunto de valores que é operado por detrás dos panos\n",
    "* **Números**\n",
    "    - ```int```\n",
    "    - ```float```\n",
    "    - ```complex```\n",
    "* **Sequências**\n",
    "    - ```str```\n",
    "    - ```list```\n",
    "    - ```tuple```\n",
    "    - ```bytes```\n",
    "    - ```bytearray```\n",
    "* **Conjuntos**\n",
    "    - ```set```\n",
    "    - ```frozenset```\n",
    "* **Mapeamentos**: ```dict```\n",
    "* **Classes**: ```type```\n",
    "* **Módulos**: ```module```\n",
    "* **Tipos de input/output**\n",
    "* **Tipos chamáveis**\n",
    "    - ...\n",
    "* **Tipos internos**\n",
    "    - ...\n",
    "\n",
    "\n",
    "..."
   ]
  },
  {
   "cell_type": "markdown",
   "id": "2db6a03c",
   "metadata": {},
   "source": [
    "#### Atributos e classes customizadas"
   ]
  },
  {
   "cell_type": "markdown",
   "id": "015575ec",
   "metadata": {},
   "source": [
    "Podemos criar classes livremente em Python para organizar nosso código e começar a desenvolver nossa própria expressão no estilo POO. Basta usar a instrução ```class```, seguida do nome que queremos dar a esta classe, um dois-pontos, e o código que queremos manter dentro dessa classe, indentado tal como na definição de uma função. Depois de criada a classe, para criar uma nova instância basta usar seu nome junto com parênteses ```()```, e eventuais argumentos, se for o caso, de novo como se fosse uma função. Para acessar nomes definidos dentro de um objeto, usa-se o nome do objeto grudado a um ponto, assim: ```objeto.nome```. Pronto, agora podemos começar a delimitar nosso código usando esse novo artifício."
   ]
  },
  {
   "cell_type": "code",
   "execution_count": 11,
   "id": "b298d16a",
   "metadata": {},
   "outputs": [
    {
     "name": "stdout",
     "output_type": "stream",
     "text": [
      "['Abacate', 'Cebola', 'Laranja', 'Mamão']\n"
     ]
    }
   ],
   "source": [
    "class ListaDeCompras:\n",
    "    itens = ['Abacate', 'Cebola', 'Laranja', 'Mamão']\n",
    "\n",
    "instancia = ListaDeCompras()\n",
    "print(instancia.itens)"
   ]
  },
  {
   "cell_type": "markdown",
   "id": "6ca7a1ba",
   "metadata": {},
   "source": [
    "O código acima é muito simples e possui uma limitação severa: toda nova instância da classe ```ListaDeCompras``` conterá os mesmos itens. Se quisermos que cada instância diferente tenha dados únicos a si própria, podemos usar a função interna ```__init__()```. O que essa função faz é delimitar o estado interno da instância assim que ela é criada. ```__init()``` recebe pelo menos um argumento: a instância atual. Veremos que o nome do argumento referente à instância atual é arbitrário, sendo comum usar ```self```.  Podemos definir outros argumentos para ```__init__()```, sem restrições, a serem usados na criação da instância. Para passar esses argumentos à nova instância, basta inseri-los entre os parênteses ao criá-la."
   ]
  },
  {
   "cell_type": "code",
   "execution_count": 15,
   "id": "22f1cd4e",
   "metadata": {},
   "outputs": [
    {
     "name": "stdout",
     "output_type": "stream",
     "text": [
      "Lista da instância 1: ['Morango', 'Pera', 'Uva']\n",
      "Lista da instância 2: ['Alho', 'Caju', 'Jabuticaba', 'Tomate']\n"
     ]
    }
   ],
   "source": [
    "class ListaDeCompras:\n",
    "    def __init__(self, itens):\n",
    "        self.itens_faltantes = itens\n",
    "\n",
    "instancia1 = ListaDeCompras(['Morango', 'Pera', 'Uva'])\n",
    "instancia2 = ListaDeCompras(['Alho', 'Caju', 'Jabuticaba', 'Tomate'])\n",
    "\n",
    "print(f'Lista da instância 1: {instancia1.itens_faltantes}')\n",
    "print(f'Lista da instância 2: {instancia2.itens_faltantes}')"
   ]
  },
  {
   "cell_type": "markdown",
   "id": "db409a50",
   "metadata": {},
   "source": [
    "No caso acima, definimos um argumento para a lista de itens a ser atribuída à instância. Com esse código, temos uma lista nova toda vez que instanciamos um objeto da classe ```ListaDeCompras```.\n",
    "\n",
    "Suponha agora que precisamos fazer compras para duas residências. São compras longas, que nos exigem ir a várias lojas diferentes, e que queremos ir fazendo juntas. Como poderíamos monitorar o andamento de cada lista? Você pode pensar inicialmente que, acessando os nomes dentro do objeto por ```.```, podemos simplesmente mudá-los à vontade. Teríamos o seguinte formato:"
   ]
  },
  {
   "cell_type": "code",
   "execution_count": null,
   "id": "d3b9b6eb",
   "metadata": {},
   "outputs": [],
   "source": [
    "# implementação rudimentar do encapsulamento\n",
    "lista1 = ['Alface', 'Martelo', 'Prego', 'Remédio', 'Tomate']\n",
    "lista2 = ['Açaí', 'Ração de Cachorro', 'Roupas']\n",
    "\n",
    "compras_casa1 = ListaDeCompras(lista1)\n",
    "compras_casa2 = ListaDeCompras(lista2)\n",
    "\n",
    "# passamos na farmácia\n",
    "del compras_casa1.itens_faltantes[3]\n",
    "\n",
    "# passamos no pet shop\n",
    "del compras_casa2.itens_faltantes[1]\n",
    "\n",
    "# passamos no armazém\n",
    "del compras_casa1.itens_faltantes[2]\n",
    "del compras_casa1.itens_faltantes[1]\n",
    "\n",
    "# ..."
   ]
  },
  {
   "cell_type": "markdown",
   "id": "ab1140df",
   "metadata": {},
   "source": [
    "De fato, isso é possível, mas note que é um formato um tanto precário. Se tivermos listas enormes, temos que contar a posição de cada elemento a ser deletado, e atualizar essa conta a cada nova deleção? Ou inserir instruções mais complexas dentro da indexação, para fazer isso por nós, repetindo esse procedimento toda vez?\n",
    "\n",
    "..."
   ]
  },
  {
   "cell_type": "code",
   "execution_count": null,
   "id": "57f0375c",
   "metadata": {},
   "outputs": [],
   "source": [
    "### ... ###"
   ]
  },
  {
   "cell_type": "markdown",
   "id": "36edbbce",
   "metadata": {},
   "source": [
    "Suponha agora que queremos monitorar o andamento da execução de alguns blocos de código diferentes. Podemos ter um modelo geral para esses blocos e uma variável"
   ]
  },
  {
   "cell_type": "code",
   "execution_count": null,
   "id": "8efa987b",
   "metadata": {},
   "outputs": [],
   "source": [
    "# definição de uma classe: modelo de um certo tipo de objetos\n",
    "class Bloco:\n",
    "    def __init__(bloco, estado_inicial=5):\n",
    "        bloco.estado_de_execucao = estado_inicial\n",
    "\n",
    "# criação de dois objetos seguindo o modelo acima\n",
    "bloco1 = Bloco()\n",
    "bloco2 = Bloco(3)\n",
    "\n",
    "# acessando um estado interno de cada objeto\n",
    "print(f'Estado de execução do Bloco 1: {bloco1.estado_de_execucao}')\n",
    "print(f'Estado de execução do Bloco 2: {bloco2.estado_de_execucao}')"
   ]
  },
  {
   "cell_type": "markdown",
   "id": "842c139f",
   "metadata": {},
   "source": [
    "#### Métodos: um tipo especial de atributo"
   ]
  },
  {
   "cell_type": "markdown",
   "id": "391d06ef",
   "metadata": {},
   "source": [
    "Apresentar métodos como um tipo de objeto em Python"
   ]
  },
  {
   "cell_type": "markdown",
   "id": "d1ca7b08",
   "metadata": {},
   "source": [
    "### Modos de polimorfismo"
   ]
  },
  {
   "cell_type": "markdown",
   "id": "c6e9b21a",
   "metadata": {},
   "source": [
    "Apresentar os tipos de polimorfismo em Python\n",
    "\n",
    "* Paramétrico / genérico → funções que aceitam qualquer tipo (identidade(x)), TypeVar.\n",
    "* Ad-hoc / sobrecarga de operador → +, len(), in, etc.\n",
    "* Subtipagem / herança → classes derivadas aceitas no lugar da base.\n",
    "* Estrutural / duck typing → basta implementar os métodos esperados\n",
    "\n",
    "Nessa parte abordar também métodos especiais"
   ]
  },
  {
   "cell_type": "markdown",
   "id": "0fbdd816",
   "metadata": {},
   "source": []
  },
  {
   "cell_type": "markdown",
   "id": "02bdd1e5",
   "metadata": {},
   "source": [
    "Abordar a diferença de valor vs atributo ao abordar os métodos especiais eq, hash e repr"
   ]
  },
  {
   "cell_type": "markdown",
   "id": "2913de6a",
   "metadata": {},
   "source": []
  },
  {
   "cell_type": "markdown",
   "id": "14334c6d",
   "metadata": {},
   "source": []
  },
  {
   "cell_type": "markdown",
   "id": "d4238544",
   "metadata": {},
   "source": [
    "\n",
    "\n",
    "métodos básicos: construtora\n",
    "\n",
    "herança\n",
    "\n",
    "hierarquia das classes em python"
   ]
  },
  {
   "cell_type": "code",
   "execution_count": 1,
   "id": "d6aea37f",
   "metadata": {},
   "outputs": [
    {
     "data": {
      "text/plain": [
       "6"
      ]
     },
     "execution_count": 1,
     "metadata": {},
     "output_type": "execute_result"
    }
   ],
   "source": [
    "class teste:\n",
    "    def __init__(self):\n",
    "        self.info = [1,2,3]\n",
    "    \n",
    "    def somar(self):\n",
    "        return sum(self.info)\n",
    "\n",
    "class teste_filho(teste):\n",
    "    pass\n",
    "\n",
    "teste_filho().somar()"
   ]
  },
  {
   "cell_type": "code",
   "execution_count": null,
   "id": "e3c5d8af",
   "metadata": {},
   "outputs": [],
   "source": []
  }
 ],
 "metadata": {
  "kernelspec": {
   "display_name": "Python 3",
   "language": "python",
   "name": "python3"
  },
  "language_info": {
   "codemirror_mode": {
    "name": "ipython",
    "version": 3
   },
   "file_extension": ".py",
   "mimetype": "text/x-python",
   "name": "python",
   "nbconvert_exporter": "python",
   "pygments_lexer": "ipython3",
   "version": "3.13.7"
  }
 },
 "nbformat": 4,
 "nbformat_minor": 5
}
