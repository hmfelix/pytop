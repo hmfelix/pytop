{
 "cells": [
  {
   "cell_type": "markdown",
   "id": "f404fb6b",
   "metadata": {},
   "source": [
    "# Objetos"
   ]
  },
  {
   "cell_type": "markdown",
   "id": "20e6628a",
   "metadata": {},
   "source": [
    "Você talvez já tenha ouvido falar que tudo em Python é um objeto. Mas o que isso significa exatamente? E como é implementado na prática?\n",
    "\n",
    "A primeira seção deste tópico explica a ideia de programação orientada a objetos enquanto paradigma central no desenho de uma linguagem. A explicação já é iniciada contando um pouco da implementação específica de Python a nível mais geral.\n",
    "\n",
    "Como, justamente, tudo em Python é um objeto, o presente tópico tem o potencial de cobrir toda a linguagem, o que seria impossível! O que faremos abaixo é apresentar os temas que se aplicam a objetos em geral, deixando temas específicos para outros tópicos.\n",
    "\n",
    "..."
   ]
  },
  {
   "cell_type": "markdown",
   "id": "2bee5105",
   "metadata": {},
   "source": [
    "## Conteúdo\n",
    "\n",
    "..."
   ]
  },
  {
   "cell_type": "markdown",
   "id": "021c4e12",
   "metadata": {},
   "source": [
    "## Programação orientada a objetos (POO)"
   ]
  },
  {
   "cell_type": "markdown",
   "id": "31c7e6ac",
   "metadata": {},
   "source": [
    "### Paradigmas de programação"
   ]
  },
  {
   "cell_type": "markdown",
   "id": "9f47c01b",
   "metadata": {},
   "source": [
    "A simplificação de que computadores são apenas zeros e uns é bastante conhecida. No início da programação de computadores, era só isso que as pessoas desenvolvedoras tinham à sua disposição: sequências de zeros e uns para estocar dados e instruções ao computador, embora algumas técnicas auxiliassem nesse processo (ex.: representação hexadecimal). A invenção das linguagens permitiu agrupar imensos comandos de zeros e uns em texto, aumentando enormemente a legibilidade e a capacidade de abstração.\n",
    "\n",
    "As linguagens de programação são uma ferramenta riquíssima, permitindo programar usando diversas abordagens diferentes. O jeito ou, se preferir, o estilo, de programar usando linguagens é tipicamente chamado de **paradigma de programação**. No início, a programação em linguagem ainda era feita com pouquíssimos recursos computacionais, se limitando a instruções passo-a-passo, o que hoje é referido como o **paradigma imperativo**. Nas primeiras décadas das linguagens, logo surgiram novos estilos que hoje são canônicos. Controlar o fluxo de execução dessas instruções por meio de loops, sequências e condicionais deu origem à **programação estruturada**. Reunir um grupo de instruções envolvidas em uma mesma funcionalidade para fins de reutilização deu origem à **programação procedural**, que inclui empacotar pedaços de código em funções passíveis de serem invocadas sempre que necessário. A tentativa de se aproximar de funções da matemática, sem estados, deu origem à **programação funcional**. Esses estilos se desenvolveram mais ou menos em paralelo e com motivações distintas.\n",
    "\n",
    "É possível misturar vários jeitos de programar em um único programa ou uma única linguagem. Os estilos mencionados acima são todos implementáveis em Python, que é uma **linguagem multiparadigma**, e certos tópicos deste material mostram alguns aspectos deles (**PROMESSAS DE CADA PARADIGMA**). De fato, é quase impossível programar em Python sem usar eventualmente alguma característica fundamental introduzida pelos estilos acima."
   ]
  },
  {
   "cell_type": "markdown",
   "id": "4a317a26",
   "metadata": {},
   "source": [
    "### Limitações dos paradigmas canônicos e a ideia de objetos"
   ]
  },
  {
   "cell_type": "markdown",
   "id": "c52f2b41",
   "metadata": {},
   "source": [
    "Com o aumento do tamanho e da complexidade dos programas, cada vez mais foi necessário dividi-los em partes diferentes, até mesmo arquivos diferentes, técnica que chamamos de **modularização**. Note que os estilos procedural e funcional já permitem modularizar programas, através do empacotamento de funcionalidades dentro de funções. No entanto, esse tipo de modularização apresentava limitações:\n",
    "\n",
    "* *(Limitação 1)* Todo o código modularizado ainda compartilha de tudo que está em um ambiente comum. Mesmo que haja funções dentro de funções, no limite alguma função está na raiz, definida no contexto global do programa, e tudo que está no contexto global é acessível a qualquer função. Assim, por um lado, os paradigmas mencionados acima ainda não permitem uma separação, ou isolamento, das variáveis globais. Como todas as funcionalidades do programa acessam variáveis globais, pode haver conflito entre diferentes funcionalidades.\n",
    "\n",
    "* *(Limitação 2)* Por outro lado, quando definimos duas funções de modo independente (isto é, nenhuma está definida dentro da outra), cada uma não consegue acessar o ambiente interno da outra, havendo uma certa ausência de interface. Para fazê-las conversar, é preciso que uma retorne dados para a outra utilizar. É difícil, por exemplo, executar apenas uma parte de uma função, manter esse estado interno de execução, depois executar parte da outra função, alterar seu estado interno, em seguida voltar à primeira função, fazer algumas mudanças e acessar certos estados internos, e assim por diante.\n",
    "\n",
    "* *(Limitação 3)* Existem funções que representam um conceito, uma ideia mais abstrata, e que poderiam em tese ser aplicadas a vários trechos de código, estruturas de dados ou tipos de variáveis diferentes, eventualmente com modificações. Por exemplo, você pode ter interesse em imprimir na tela tanto um número inteiro quanto uma letra usando uma única função (digamos, `imprimir()`). Porém, para fazer as modificações necessárias, devia-se ou definir duas funções (ex.: `imprimir_int()` vs. `imprimir_str()`) ou então separar vários casos dentro da função. Se uma nova estrutura fosse definida (digamos, uma lista de compras), de novo seria necessário voltar à função e realizar modificações. Para projetos maiores, em que há várias funções a serem aplicadas a vários tipos de variáveis diferentes, essa abordagem causa uma enorme expansão da complexidade via combinatória e contraria os princípios fundamentais modularização.\n",
    "\n",
    "A programação orientada a objetos (POO) é um paradigma que surgiu para endereçar limitações dessa natureza, organizando o código de outra forma. A ideia geral é que o código seja estruturado em objetos, que delimitam as fronteiras do que é acessível ao resto do programa e como o programa vai se comportar com relação ao objeto. Para acessar o que está dentro do objeto, existem interfaces. Cada objeto define de um jeito as interfaces que disponibiliza. É como se, agora, existissem vários ambientes, separados, de modo que podemos acessar dados e funcionalidades desses ambientes a partir de fora, mas sujeito a certas regras bem definidas. Ainda, é possível definir certas funcionalidades gerais que sejam aplicáveis a vários tipos de objetos, desde que o objeto permita."
   ]
  },
  {
   "cell_type": "markdown",
   "id": "4235a4ea",
   "metadata": {},
   "source": [
    "### Características fundamentais da POO"
   ]
  },
  {
   "cell_type": "markdown",
   "id": "7d8acfbc",
   "metadata": {},
   "source": [
    "Em linhas gerais, as limitações mencionadas acima são endereçadas por meio de duas características fundamentais que marcam a POO: encapsulamento e\n",
    "polimorfismo.\n",
    "\n",
    "O **encapsulamento** consiste em envolver dados e comportamentos em um espaço próprio (o objeto) e definir regras de interação entre esse espaço e o resto do programa.\n",
    "\n",
    "Por exemplo, quando usamos a função `list()` para criar uma lista, estamos de certa forma delimitando uma fronteira entre o que está sendo guardado pela lista e o que está fora do código. Agora que há valores dentro da lista, podemos usar uma interface - i.e., todo um conjunto de protocolos e funcionalidades - para interagir com ela: acessar algum subconjunto específico de elementos, inserir e remover elementos, reverter a ordem etc."
   ]
  },
  {
   "cell_type": "code",
   "execution_count": 1,
   "id": "6f0b9317",
   "metadata": {},
   "outputs": [
    {
     "name": "stdout",
     "output_type": "stream",
     "text": [
      "[0, 1, 2]\n",
      "[0, 1, 2, 4]\n",
      "[0, 5, 1, 2, 4]\n",
      "[0, 1, 2, 4, 5]\n",
      "[5, 4, 2, 1, 0]\n",
      "[]\n"
     ]
    }
   ],
   "source": [
    "# separa os valores do resto do código\n",
    "a = list([0,1,2,3])\n",
    "\n",
    "# retira o elemento do topo\n",
    "a.pop()\n",
    "print(a)\n",
    "\n",
    "# adiciona elemento ao topo\n",
    "a.append(4) \n",
    "print(a)\n",
    "\n",
    "# adiciona elemento no meio\n",
    "a.insert(1, 5) \n",
    "print(a)\n",
    "\n",
    "# coloca em ordem crescente\n",
    "a.sort() \n",
    "print(a)\n",
    "\n",
    "# reverte a ordem\n",
    "a.reverse()\n",
    "print(a)\n",
    "\n",
    "# apaga todos os elementos\n",
    "a.clear()\n",
    "print(a)"
   ]
  },
  {
   "cell_type": "markdown",
   "id": "c79ad0b8",
   "metadata": {},
   "source": [
    "Já o `polimorfismo` é a possibilidade de fazer vários tipos diferentes de objeto operarem sob uma estrutura lógica comum. Da nossa discussão anterior, você já pôde pescar a função `print()`, que em Python serve para imprimir vários objetos diferentes. Há várias outras formas de polimorfismo que usamos cotidianamente na linguagem: loops como `for` aceitam qualquer objeto que seja iterável; a instrução `in` funciona com qualquer objeto que sirva de contâiner para outros objetos; a função `len` funciona com qualquer objeto que seja uma sequência; vários operadores funcionam tanto com números quanto com strings, às vezes até com ambos ao mesmo tempo, a exemplo de `+`, `*` e comparações."
   ]
  },
  {
   "cell_type": "code",
   "execution_count": 7,
   "id": "016256f6",
   "metadata": {},
   "outputs": [
    {
     "name": "stdout",
     "output_type": "stream",
     "text": [
      "for com dict: a\n",
      "for com dict: b\n",
      "for com range: 0\n",
      "for com range: 1\n",
      "len com lista: 2\n",
      "len com tupla: 2\n",
      "in com set: True\n",
      "in com lista: True\n",
      "+ com numeros: 2\n",
      "+ com strings: aa\n",
      "+ com listas: [1, 1]\n"
     ]
    }
   ],
   "source": [
    "# for funcionando com dicts e ranges\n",
    "for key in {'a': 1, 'b': 2}:\n",
    "    print(f'for com dict: {key}')\n",
    "for i in range(2):\n",
    "    print(f'for com range: {i}')\n",
    "\n",
    "# len() funcionando com listas e tuplas\n",
    "print(f'len com lista: {len([1,2])}')\n",
    "print(f'len com tupla: {len((1,2))}')\n",
    "\n",
    "# in funcionando com sets e listas\n",
    "print(f'in com set: {5 in {0,5,10}}')\n",
    "print(f'in com lista: {5 in [0,5,10]}')\n",
    "\n",
    "# operador funcionando com números, listas e strings\n",
    "print(f'+ com numeros: {1 + 1}')\n",
    "print(f'+ com strings: {'a' + 'a'}')\n",
    "print(f'+ com listas: {[1] + [1]}')"
   ]
  },
  {
   "cell_type": "markdown",
   "id": "10b731ba",
   "metadata": {},
   "source": [
    "Há outras duas características que são frequentemente associadas à POO: as abstrações de tipos, isto é, a possibilidade de formular características comuns a todo um conjunto de objetos, tais como os tipos abstratos de dados (ADT), e a existência de uma hierarquia de tipos, esquema no qual tipos-filho podem herdar características de tipos-mãe. Podemos pensar nessas duas características com extensões do encapsulamento e do polimorfismo. Em Python elas são implementadas por meio dos conceitos classes e herança, respectivamente, algo que veremos à frente."
   ]
  },
  {
   "cell_type": "markdown",
   "id": "29fefb8f",
   "metadata": {},
   "source": [
    "### Características gerais dos objetos em Python"
   ]
  },
  {
   "cell_type": "markdown",
   "id": "6fd07ded",
   "metadata": {},
   "source": [
    "Todo objeto em Python compartilha as seguintes características:\n",
    "* identificação;\n",
    "* valor;\n",
    "* tipo; e\n",
    "* atributos.\n",
    "\n",
    "A **identificação** é apenas um valor que o Python associa unicamente a cada objeto que é criado. Este valor é atribuído em tempo de execução, pois depende da interação dinâmica do programa com máquina (em CPython, corresponde ao endereço de memória do objeto), e pode ser acessado por meio da função `id(objeto)`. O valor de identificação do objeto nunca é alterado durante todo o tempo de execução. Veremos no tópico sobre Nomes que esta identificação tem uma série de nuances devido ao modelo de POO de Python e também à implementação específica em que o Python está rodando. No mesmo tópico, veremos que esse valor é o que o nome de um objeto realmente estoca. No exemplo abaixo, mostramos apenas simplificadamente a identificação de dois objetos diferentes."
   ]
  },
  {
   "cell_type": "code",
   "execution_count": 3,
   "id": "18e02ecd",
   "metadata": {},
   "outputs": [
    {
     "name": "stdout",
     "output_type": "stream",
     "text": [
      "Identificação do objeto 1: 140711580627880\n",
      "Identificação do objeto 2: 140711580692448\n"
     ]
    }
   ],
   "source": [
    "obj1 = 1\n",
    "obj2 = 'a'\n",
    "print(f'Identificação do objeto 1: {id(obj1)}')\n",
    "print(f'Identificação do objeto 2: {id(obj2)}')"
   ]
  },
  {
   "cell_type": "markdown",
   "id": "45af1b74",
   "metadata": {},
   "source": [
    "O **valor** de um objeto é o seu conteúdo semântico, ou seja, o que de fato se deseja representar por meio dele. Por exemplo, o valor de `obj1` no código acima é o número $1$. Já o valor de objetos mais complexos tem mais detalhes e pode não ser intuitivo: o valor de uma lista é o conjunto de referências para os objetos que ela contém, enquanto o valor de um dicionário é um conjunto de pares de referências para chaves e valores, e assim por diante. Objetos cujo valor pode ser alterado são chamados de mutáveis e, caso contrário, imutáveis. O tema da mutabilidade é espinhoso e importante em Python, sendo a causa de muitos potenciais erros, mas também uma das maiores fontes de eficiência da linguagem. Este tema será abordado no tópico sobre Nomes.\n",
    "\n",
    "O **tipo** do objeto é o que define como ele pode interagir com o programa (operações permitidas) e os possíveis valores que ele pode assumir. O ideal é que o tipo não seja mudado durante todo o tempo de execução, tal como a identificação. (Na verdade, é possível fazer essa mudança em alguns casos, mas a documentação oficial de Python não recomenda.) O tipo também pode ser definido como a classe à qual o objeto pertence, conceito que veremos a seguir.\n",
    "\n",
    "Por fim, os **atributos** de um objeto são, de maneira geral, o código que se quer encapsular dentro do objeto. Podem ser desde variáveis que monitoram o estado interno do objeto, dados que ele contém (incluindo seu valor, ou potencialmente outros objetos), e operações que podem ser realizadas sobre ele. Notar que, por conta dessas características, os atributos são fundamentais à implementação dos tipos em Python.\n",
    "\n",
    "Todo atribuito de qualquer objeto em Python pode ser acessado usando a sintaxe do ponto `.`, como segue:\n",
    "\n",
    "`\n",
    "[nome do objeto].[nome do atributo]\n",
    "`\n",
    "\n",
    "Esta é uma forma geral que recebe várias complicações a depender do atributo e do tipo de manipulação, algo que veremos com mais profundidade a seguir."
   ]
  },
  {
   "cell_type": "markdown",
   "id": "d4848611",
   "metadata": {},
   "source": [
    "## Classes"
   ]
  },
  {
   "cell_type": "markdown",
   "id": "2e365cdf",
   "metadata": {},
   "source": [
    "### Definições iniciais"
   ]
  },
  {
   "cell_type": "markdown",
   "id": "ad8807db",
   "metadata": {},
   "source": [
    "Uma **classe** é um modelo geral de como criar um objeto de um certo tipo. Um novo objeto que é criado seguindo o modelo geral de uma classe é chamado de **instância**, e o ato de criar uma nova instância também é chamado de instanciação. Por exemplo, quando fazemos `n = 300`, estamos criando uma instância da classe `int` com o valor de $300$. Agora, podemos fazer todas as operações que esse tipo suporta, por exemplo, somar com outros números, obter seu valor absoluto, etc.\n",
    "\n",
    "A função `type(objeto)` nos permite saber de que classe é o objeto. Até Python 2, existia uma diferenciação entre tipo e classe. Alguns textos trazem pequenas diferenças de uso, tal como acabamos de fazer ao abordar classes como uma ideia mais geral, mas para fins práticos já não existe nenhuma diferenciação entre esses dois conceitos em Python 3.\n",
    "\n",
    "No código abaixo, realizamos três procedimentos. Primeiro, instanciamos uma nova lista e a atribuímos ao nome `a`. Depois, estocamos o retorno da função `type(a)` na variável `b`, imprimindo-a. Como esperado, a impressão do resultado nos revela que `a` é uma instância da classe `list`. Mas lembre-se: em Python, tudo é um objeto! Logo, `b` (a classe de `a`) também é um objeto. Podemos nos perguntar então: de que classe é um objeto \"classe\"? Bem, vamos aplicar a função `type()` sobre `b`, estocando o resultado em `c`:"
   ]
  },
  {
   "cell_type": "code",
   "execution_count": null,
   "id": "9fa1d7a7",
   "metadata": {},
   "outputs": [
    {
     "name": "stdout",
     "output_type": "stream",
     "text": [
      "<class 'list'>\n",
      "<class 'type'>\n"
     ]
    }
   ],
   "source": [
    "# instanciando uma lista\n",
    "a = []\n",
    "\n",
    "# conferindo a classe da lista\n",
    "b = type(a)\n",
    "print(b)\n",
    "\n",
    "# conferindo a classe da classe\n",
    "c = type(b)\n",
    "print(c)"
   ]
  },
  {
   "cell_type": "markdown",
   "id": "e0d84b9c",
   "metadata": {},
   "source": [
    "O resultado nos mostra que `c` é um objeto da classe `type`. Ou seja, os tipos de objetos são, em si, objetos que pertencem a uma espécie de metaclasse. Veremos que a classe `type` tem propriedades especiais. Objetos que são instâncias de determinada classe são por vezes chamados de objetos instância quando é necessário diferenciá-los do objeto da classe em si.\n",
    "\n",
    "Existem algumas classes que só admitem a criação de uma única instância durante todo o tempo de execução, e essa instância já é inicializada junto como o início da execução do Python. Tais objetos são denominados únicos ou **singletons**. Toda vez que o programa usa esses objetos, faz referência ao mesmo endereço na memória, o que permite economizar recursos. Mencionamos os tipos singletons abaixo."
   ]
  },
  {
   "cell_type": "markdown",
   "id": "b6fcc54b",
   "metadata": {},
   "source": [
    "### Visão geral das classes pré-definidas"
   ]
  },
  {
   "cell_type": "markdown",
   "id": "75a64b75",
   "metadata": {},
   "source": [
    "Existem várias classes já prédefinidas em Python. Em textos introdutórios, é comum mencionar apenas os tipos básicos mais usados em projetos simples. Como este é um material de nível intermediário, abordaremos de maneira mais abrangente os tipos disponíveis no Python base. E, como tudo em Python é um objeto, você já pode imaginar que existem muito mais tipos de objetos que esses textos introdutórios apresentam!\n",
    "\n",
    "De fato, esse é o caso. Na lista abaixo, apresentamos as categorias gerais de tipos pré-definidos em Python. Incluímos em *tipos básicos* aqueles que costumam ser apresentados em materiais introdutórios. Essa lista é apenas para termos um panorama de referência - não se intimide pelos conceitos contidos abaixo, vários deles serão cuidadosamente abordados em outros tópicos deste material."
   ]
  },
  {
   "cell_type": "markdown",
   "id": "16543dee",
   "metadata": {},
   "source": [
    "**Tipos básicos**\n",
    "* *Números*\n",
    "    - `int`: números inteiros\n",
    "    - `bool`: admitem os valores `False` e `True` em instância única (portanto, são singletons); a rigor, é um subtipo de `int` (representando respectivamente $0$ e $1$)\n",
    "    - `float`: números reais (de ponto flutuante)\n",
    "    - `complex`: números complexos, criados no formato `(a + bj)`\n",
    "* *Sequências*\n",
    "    - `str`: strings de texto\n",
    "    - `list`: conjunto de objetos quaisquer, mutável\n",
    "    - `tuple`: conjunto de objetos quaisquer, imutável\n",
    "    - `range`: sequência de números produzidos sob demanda para fins de loops `for` e outras iterações\n",
    "* *Conjuntos*\n",
    "    - `set`: conjunto mutável de objetos únicos, finitos e imutáveis\n",
    "    - `frozenset`: versão imutável de `set`\n",
    "* *Mapeamentos* - `dict`: relacionam pares de valores (uma chave e um valor)"
   ]
  },
  {
   "cell_type": "markdown",
   "id": "612f7c2e",
   "metadata": {},
   "source": [
    "**Outros tipos do Python base**\n",
    "* *Raiz* - `object`: classe base usada como modelo para todos os objetos em Python\n",
    "* *Classes* - `type`: modelo geral para a criação de novos objetos do respectivo tipo\n",
    "* *Módulos* - `module`: módulos importados via `import`\n",
    "* *Exceções* - uma variedade de erros e exceções, sendo todos subtipos do tipo-mãe `BaseException`\n",
    "* *Funções*\n",
    "    - `function`: definição de funções (ou métodos) pela pessoa usuária; compiladas pelo interpretador em tempo de compilação e executadas também pelo interpretador em tempo de compilação\n",
    "    - `method`: métodos de uma instância, conforme constam na definição de classe feita pela pessoa usuária; compiladas e interpretadas pelo interpretador tal como `function`\n",
    "    - `coroutine`: funções assíncronas que não executam imediatamente, aguardando ser ativadas com `await`\n",
    "* *Singletons* \n",
    "    - `NoneType`: tipo de `None` objeto cujo valor é vazio, significando a ausência de valor\n",
    "    - `NotImplementedType`: tipo do objeto `NotImplemented`, retornado quando se tenta executar uma operação sobre um tipo de objeto para o qual esta operação não está definida\n",
    "    - `ellipsis`: tipo do objeto `Ellipsis`, criado com a sintaxe `...`, representa um substituto para outro conjunto de valores que é operado por detrás dos panos\n",
    "* *Binários*\n",
    "    - `bytes`: sequências imutáveis para a representação binária de dados\n",
    "    - `bytearray`: sequências mutáveis para a representação binária de dados\n",
    "    - `memoryview`: referências para os dados um objeto na memória\n",
    "* *Iteradores*\n",
    "    - incluem vários tipos de iteradores específicos a cada tipo iterável, produzidos automaticamente para serem consumidos por loops `for` e outras iterações\n",
    "    - `generator`: retornado por funções geradoras, para fins de execução iterada/controlada de funções\n",
    "    - `async_generator`: contrapartida assíncrona do tipo `generator`\n",
    "* *Descritores e utilitários de classes*\n",
    "    - `super`: resolvem a herança buscando atributos nas classes-mãe\n",
    "    - `property`: controlam o acesso de atributos protegidos\n",
    "    - `staticmethod` e `classmethod`: alteram o comportamento padrão de métodos\n",
    "* *Tipos internos*\n",
    "    - `slice`: representam fatias de objetos que contêm outros objetos, podendo ser indexados por expressões entre colchetes `[]`\n",
    "    - `code`: instruções à máquina virtual do interpretador, resultante da compilação de um código-fonte\n",
    "* *Tipos específicos da implementação CPython*\n",
    "    - `builtin_function_or_method`: funções (ou métodos) que já vêm pré-definidas no Python base; não são compiladas pelo interpretador, pois já estão implementadas no código da máquina (compiladas a partir de C), são apenas executadas pela máquina em tempo de execução (por isso, mais rápidas)\n",
    "    - `frame`: podem ser colocados na pilha de frames do interpretador\n",
    "    - `traceback`: fornecem o traço da pilha de frames (para fins de exibição de erros e depuração)\n",
    "    - `cell`: dão suporte ao mecanismo de escopo, permitindo que variáveis locais de uma função sejam acessíveis depois de sua execução ter terminado\n",
    "    - `mappingproxy`: protegem dicionários, especialmente namespaces, permitindo seu acesso com privilégios exclusivos para leitura\n",
    "    - `method-wraper`, `wrapper_descriptor` e `method_descriptor`: permitem que certos métodos nativos (compilados a partir de C) sejam executados diretamente na máquina, agregando maior eficiência\n",
    "    - `getset_descriptor`: descriptors usados para controlar o acesso de atribuitos de instâncias certos tipos nativos\n"
   ]
  },
  {
   "cell_type": "markdown",
   "id": "5a8a9d04",
   "metadata": {},
   "source": [
    "(Obs.: Na implementação CPython, vários tipos acima não constam publicamente em nenhum namespace, de modo que a pessoa usuária não pode encontrá-los fazendo referência direta a seu nome. Ainda assim, é possível encontrá-los instanciando objetos em tempo de execução.)\n",
    "\n",
    "Nesse ponto, vale mencionar a existência da **biblioteca padrão** (*standard library*) do Python. Trata-se de um conjunto de bibliotecas com uma série de funcionalidades adicionais àquelas que já vêm com o Python-base, mas que necessitam ser importadas para serem usadas. Existem muitas outras classes que vêm junto com a biblioteca padrão e que, portanto, poderiam ser consideradas pré-definidas. Elas são tantas que não caberiam neste tópico, mas você com certeza já se deparou com algumas se importou módulos como:\n",
    "* `sys` e `os` para comandos de sistema\n",
    "* `io` para trabalhar com arquivos\n",
    "* `string` e `re` para manipulação de strings\n",
    "* `datetime` e `timeit` para operar com datas e registros de tempo\n",
    "* `math` para usar constantes e funções matemáticas\n",
    "* `random` para gerar números aleatórios\n",
    "* `email`, `urllib` e `http` para navegação na Internet\n",
    "* `json` e `csv` para operar com esses formatos de arquivos de dados\n",
    "\n",
    "A importação de bibliotecas da biblioteca padrão pode ocorrer tanto explicitamente, pela pessoa usuária, quanto implicitamente, pelo próprio Python, a exemplo do protocolo de tipagem estática, da instrução `with`, e da função nativa `open()`, que importa o módulo `io` da biblioteca padrão para usar seus tipos que representam um arquivo externo aberto pelo Python.\n",
    "\n",
    "Da lista acima, percebe-se nitidamente como tudo em Python é um objeto. Até o código resultado do tempo de compilação e os frames executados no tempo de execução são representados por objetos!"
   ]
  },
  {
   "cell_type": "markdown",
   "id": "2db6a03c",
   "metadata": {},
   "source": [
    "### Criando classes e usando atributos"
   ]
  },
  {
   "cell_type": "markdown",
   "id": "015575ec",
   "metadata": {},
   "source": [
    "Podemos criar classes livremente em Python para organizar nosso código e começar a desenvolver nossa própria expressão no estilo POO. Basta usar a instrução `class`, seguida do nome que queremos dar a esta classe, um dois-pontos, e o código que queremos manter dentro dessa classe, indentado tal como na definição de uma função. Depois de criada a classe, para criar uma nova instância basta usar seu nome junto com parênteses `()` e se for o caso eventuais argumentos, de novo como se fosse uma função. Pronto, agora podemos começar a delimitar nosso código usando esse novo artifício. Vamos começar a empregar essa ferramenta criando um objeto simples: uma lista de compras."
   ]
  },
  {
   "cell_type": "code",
   "execution_count": 2,
   "id": "b298d16a",
   "metadata": {},
   "outputs": [
    {
     "name": "stdout",
     "output_type": "stream",
     "text": [
      "['Abacate', 'Cebola', 'Laranja', 'Mamão']\n"
     ]
    }
   ],
   "source": [
    "class ListaDeCompras:\n",
    "    itens = ['Abacate', 'Cebola', 'Laranja', 'Mamão']\n",
    "\n",
    "instancia = ListaDeCompras()\n",
    "print(instancia.itens)"
   ]
  },
  {
   "cell_type": "markdown",
   "id": "6ca7a1ba",
   "metadata": {},
   "source": [
    "Vale lembrar que os nomes definidos dentro de uma classe ou instância são chamados de atributos e podem ser acessador usando-se o nome do objeto grudado a um ponto, assim: `objeto.atributo`. No exemplo anterior, usamos essa sintaxe para acessar o atributo `itens`, que guarda a informação da lista de compras.\n",
    "\n",
    "O código acima é muito simples e possui uma limitação severa: toda nova instância da classe `ListaDeCompras` conterá os mesmos itens. Isso porque os atributos definidos diretamente dentro da classe são tidos como **atributos de classe**. Para deixar esse ponto mais claro, lembremos que o objeto de nome `ListaDeCompras`, embora não seja uma instância, é em si um objeto do tipo `type` e, como tal, ele tem seus próprios atributos. Esse tipo de atributo nem mesmo precisa se uma instância para ser acessado:"
   ]
  },
  {
   "cell_type": "code",
   "execution_count": 4,
   "id": "0ce9102c",
   "metadata": {},
   "outputs": [
    {
     "name": "stdout",
     "output_type": "stream",
     "text": [
      "['Abacate', 'Cebola', 'Laranja', 'Mamão']\n"
     ]
    }
   ],
   "source": [
    "print(ListaDeCompras.itens) # atributo de classe"
   ]
  },
  {
   "cell_type": "markdown",
   "id": "761676f7",
   "metadata": {},
   "source": [
    "Se quisermos que cada instância diferente tenha dados únicos a si própria, podemos usar a função interna `__init__()`. O que essa função faz é delimitar o estado interno da instância assim que ela é criada. `__init__()` recebe pelo menos um argumento: a instância atual. Veremos que o nome do argumento referente à instância atual é arbitrário, sendo comum usar `self`.  Podemos definir outros argumentos para `__init__()`, sem restrições, a serem listados depois do argumento referente à instância atual e usados na criação da instância. Para passá-los à nova instância, basta inseri-los entre os parênteses ao criá-la. Dentro da função `__init__()`, todos os nomes que definirmos usando o ponto grudado a `self` (ou o nome que tivermos usado para denotar a instância atual) serão **atributos de instância** do novo objeto, em oposição aos atributos de classe comuns a toda instância. Vamos readequar nossa lista de compras usando esse novo recurso:"
   ]
  },
  {
   "cell_type": "code",
   "execution_count": 75,
   "id": "22f1cd4e",
   "metadata": {},
   "outputs": [
    {
     "name": "stdout",
     "output_type": "stream",
     "text": [
      "Lista da instância 1: ['Morango', 'Pera', 'Uva']\n",
      "Lista da instância 2: ['Alho', 'Cenoura', 'Couve-Flor', 'Tomate']\n"
     ]
    }
   ],
   "source": [
    "class ListaDeCompras:\n",
    "    def __init__(self, itens):\n",
    "        self.itens_faltantes = itens[:]\n",
    "\n",
    "frutas = ['Morango', 'Pera', 'Uva']\n",
    "instancia1 = ListaDeCompras(frutas)\n",
    "legumes = ['Alho', 'Cenoura', 'Couve-Flor', 'Tomate']\n",
    "instancia2 = ListaDeCompras(legumes)\n",
    "\n",
    "print(f'Lista da instância 1: {instancia1.itens_faltantes}')\n",
    "print(f'Lista da instância 2: {instancia2.itens_faltantes}')"
   ]
  },
  {
   "cell_type": "markdown",
   "id": "db409a50",
   "metadata": {},
   "source": [
    "No caso acima, definimos um argumento para a lista de itens a ser atribuída à instância e passamos diferentes listas para cada instanciação. Usamos a forma `itens[:]` em vez de `itens` para criar uma nova lista, por motivos que ficarão claros no tópico de Nomes, quando abordamos mutabilidade. (Em essência, instanciamos uma nova lista para evitar operar sobre a lista original.) Por ora, basta saber que esse código nos dá uma lista nova toda vez que instanciamos um objeto da classe `ListaDeCompras`.\n",
    "\n",
    "Vale notar que a decisão sobre usar atributos de classe ou de instância não tem uma resposta pré-definida, dependendo do contexto."
   ]
  },
  {
   "cell_type": "markdown",
   "id": "842c139f",
   "metadata": {},
   "source": [
    "### Métodos: um tipo especial de atributo"
   ]
  },
  {
   "cell_type": "markdown",
   "id": "a95a03f4",
   "metadata": {},
   "source": [
    "Suponha agora que precisamos fazer compras longas, que nos exigem ir a várias lojas diferentes. Como poderíamos monitorar o andamento da lista? Você pode pensar inicialmente que, acessando os nomes dentro do objeto por `.`, podemos simplesmente mudá-los à vontade. Essa abordagem nos daria o seguinte formato:"
   ]
  },
  {
   "cell_type": "code",
   "execution_count": 13,
   "id": "d3b9b6eb",
   "metadata": {},
   "outputs": [
    {
     "name": "stdout",
     "output_type": "stream",
     "text": [
      "4\n",
      "['Açaí', 'Alface', 'Prego', 'Tomate']\n"
     ]
    }
   ],
   "source": [
    "variados = ['Açaí', 'Alface', 'Martelo', 'Prego', 'Ração de Cachorro', 'Remédio', 'Roupas', 'Tomate']\n",
    "compras = ListaDeCompras(variados)\n",
    "\n",
    "# passamos na farmácia\n",
    "del compras.itens_faltantes[5]\n",
    "\n",
    "# passamos no pet shop\n",
    "del compras.itens_faltantes[4]\n",
    "\n",
    "# passamos no armazém\n",
    "del compras.itens_faltantes[2]\n",
    "del compras.itens_faltantes[3]\n",
    "\n",
    "# checamos quantos itens ainda faltam\n",
    "print(len(compras.itens_faltantes))\n",
    "\n",
    "# estado final da lista:\n",
    "print(compras.itens_faltantes)"
   ]
  },
  {
   "cell_type": "markdown",
   "id": "ab1140df",
   "metadata": {},
   "source": [
    "De fato, isso é possível, mas note que é um formato um tanto precário. Se tivermos listas enormes, temos que contar a posição de cada elemento a ser deletado, e atualizar essa conta a cada nova deleção, ou então inserir instruções mais complexas dentro da indexação, para fazer isso por nós, repetindo esse procedimento toda vez. Ou pensar em outra implementação, talvez usando um dicionário. E o uso das funções `len()` e `print()` nos obriga a acessar os atributos diretamente. Claro que, em se tratando dessa função, sabemos que ela é segura. Mas poderíamos necessitar criar uma nova função, correndo o risco de sobrescrever o atributo por acidente, e deixando essa função no contexto geral do código, fora (e possivelmente longe) do objeto ao qual ela se aplica.\n",
    "\n",
    "Podemos fazer melhor que isso? Encapsular melhor esse código, definindo uma interface mais previsível e funcional? Será que poderíamos criar funções dentro da classe, para atuar sobre o objeto?\n",
    "\n",
    "A resposta é: sim! De fato, já fizemos isso ao definir a função `__init__()`. Funções criadas dessa forma, dentro de classes, recebem o nome de **métodos**. Métodos são acessados da mesma forma que atributos, mas, como são funções, podem ser chamados usando `()`. Notar que métodos também são atributos em sentido amplo, embora muitas vezes a palavra \"atributo\" seja usada em sentido estrito para denotar apenas os atributos que não sejam métodos.\n",
    "\n",
    "Uma diferença sintática importante entre funções e métodos é que este último tem sempre como primeiro argumento (que pode ou não ser único) a instância atual, que é passada ao método como argumento para ser manipulada. **No entanto, ao chamarmos o método, devemos omitir este primeiro argumento, como se ele sequer existisse!** Esta é, de fato, a maior diferença na definição de métodos em relação à definição de funções. Embora a convenção seja nomear esse argumento como `self`, lembre-se sempre que podemos dar qualquer nome para este argumento, inclusive em definições dentro da mesma classe.\n",
    "\n",
    "Vamos usar todas as técnicas de encapsulamento que aprendemos até agora para fazer uma lista muito mais robusta:"
   ]
  },
  {
   "cell_type": "code",
   "execution_count": null,
   "id": "57f0375c",
   "metadata": {},
   "outputs": [],
   "source": [
    "class ListaDeComprasEncapsulada:\n",
    "\n",
    "    def __init__(self, itens):\n",
    "        if type(itens) is not list:\n",
    "            raise TypeError('itens deve ser fornecido como list.')\n",
    "        self.itens_faltantes = itens[:]\n",
    "        self.itens_faltantes.sort()\n",
    "        self.numero_itens = len(self.itens_faltantes)\n",
    "\n",
    "    def mostrar(self):\n",
    "        print(f'{self.n_itens()} itens faltantes:')\n",
    "        for item in self.itens_faltantes:\n",
    "            print('-', item)\n",
    "    \n",
    "    def n_itens(self):\n",
    "        return self.numero_itens\n",
    "    \n",
    "    def riscar(self, itens):\n",
    "        if type(itens) is not list:\n",
    "            raise TypeError('itens deve ser fornecido como list.')\n",
    "        if self.numero_itens == 0:\n",
    "            return None\n",
    "        indices = [self.itens_faltantes.index(item) for item in itens]\n",
    "        indices.sort(reverse=True)\n",
    "        for indice in indices:\n",
    "            del self.itens_faltantes[indice]\n",
    "            self.numero_itens -= 1\n",
    "    \n",
    "    def juntar(lista1, lista2): # em vez de self, usamos lista1 para a instância atual\n",
    "        if type(lista2) is not ListaDeComprasEncapsulada:\n",
    "            raise TypeError('só pode ser juntada outra ListaDeComprasEncapsulada')\n",
    "        for item in lista2.itens_faltantes:\n",
    "            if item not in lista1.itens_faltantes:\n",
    "                lista1.itens_faltantes.append(item)\n",
    "                lista1.numero_itens += 1\n",
    "        lista1.itens_faltantes.sort()"
   ]
  },
  {
   "cell_type": "markdown",
   "id": "d9874e94",
   "metadata": {},
   "source": [
    "Agora nossa classe faz várias coisas.\n",
    "\n",
    "Primeiro, ao inicializar uma instância por meio de `__init__()`, fazemos uma verificação de consistência para verificar se o argumento passado pela pessoa usuária é do tipo correto (lista). Lembremos que métodos são funções, então podemos modificar seu comportamento por meio de condicionais e os demais recursos que a linguagem oferece para funções. Outro recurso usado desta vez é colocar a lista de input em ordem alfabética.\n",
    "\n",
    "Segundo, incluímos atributo chamado `numero_itens` para guardar o estado interno relativo à quantidade de coisas que ainda falta comprar, junto com um método `n_itens()`, que nos dá uma interface para acessar esse atributo de forma mais segura sem precisar acessar o atributo em si.\n",
    "\n",
    "Terceiro, você pode ter notado que usamos esse método dentro de outro método, `mostrar()`, que exibe a lista atual e o número de itens nela contidos. Fazendo dessa forma, fica mais claro por que usar a instância atual como argumento do método: usando o ponto `.`, podemos acessar qualquer atributo dessa instância, inclusive qualquer método nela definido. Notar que a ordem de definição dos métodos não importa: de propósito, definimos `n_itens()` depois de `mostrar()` apesar deste último usar aquele. O método `mostrar()` é superior a dar `print()` no atributo `itens_faltantes` não só por evitar acesso ou sobrescrição indevidos a esse atributo, mas também por dar uma característica própria à visualização do objeto, estando mais clara, contendo mais informação, e sendo imediatamente reconhecível que se trata de um objeto específico em vez de uma lista genérica.\n",
    "\n",
    "Quarto, o método `riscar()` aprimora o jeito precário de deletar itens que tínhamos usado na versão anterior dessa classe. Agora está muito mais robusto: passamos uma lista de itens a serem apagados, e os apagamos em ordem reversa, diminuindo a contagem do atributo `numero_itens` a cada deleção.\n",
    "\n",
    "Por fim, adicionamos também um método de juntar duas listas de compras, `juntar()`, que evita juntar repetidos e reordena a lista resultante em ordem alfabética, estocando tudo no atributo `itens_faltantes` e atualizando o atributo `numero_itens`.\n",
    "\n",
    "Observar que o primeiro argumento da definição de todos os métodos se referiu à instância atual do objeto, assim como tínhamos feito com `__init__()` na definição anterior da nossa classe. Como dissemos, isso é obrigatório em Python, embora o nome que damos ao argumento em si é arbitrário. Geralmente, escolhemos `self`, mas no método `juntar()` foi mais conveniente usar `lista1`, para maior clareza. Ao chamar qualquer método, o Python simplesmente ignora a existência desse primeiro argumento, como se ele nunca tivesse estado presente, e nada deve ser passado à chamada a título deste argumento. Vamos exemplificar o uso desses métodos abaixo:"
   ]
  },
  {
   "cell_type": "code",
   "execution_count": 28,
   "id": "06c0c980",
   "metadata": {},
   "outputs": [
    {
     "name": "stdout",
     "output_type": "stream",
     "text": [
      "CASA DA VOVÓ\n",
      "7 itens faltantes:\n",
      "- Alho\n",
      "- Cenoura\n",
      "- Couve-Flor\n",
      "- Morango\n",
      "- Pera\n",
      "- Tomate\n",
      "- Uva\n",
      "\n",
      "CASA DA MAMÃE\n",
      "8 itens faltantes:\n",
      "- Alface\n",
      "- Açaí\n",
      "- Martelo\n",
      "- Prego\n",
      "- Ração de Cachorro\n",
      "- Remédio\n",
      "- Roupas\n",
      "- Tomate\n",
      "\n",
      "CONSOLIDADA\n",
      "4 itens faltantes:\n",
      "- Alface\n",
      "- Couve-Flor\n",
      "- Remédio\n",
      "- Roupas\n",
      "- Tomate\n"
     ]
    }
   ],
   "source": [
    "# criando duas listas\n",
    "lista_casa_vovo = ListaDeComprasEncapsulada(frutas + legumes)\n",
    "lista_casa_mamae = ListaDeComprasEncapsulada(variados)\n",
    "\n",
    "# exibindo as duas\n",
    "print('CASA DA VOVÓ')\n",
    "lista_casa_vovo.mostrar()\n",
    "print()\n",
    "print('CASA DA MAMÃE')\n",
    "lista_casa_mamae.mostrar()\n",
    "print()\n",
    "\n",
    "# riscando alguns itens\n",
    "lista_casa_vovo.riscar(['Morango', 'Pera', 'Alho', 'Cenoura', 'Uva'])\n",
    "lista_casa_mamae.riscar(['Martelo', 'Prego', 'Ração de Cachorro', 'Açaí'])\n",
    "\n",
    "# juntando as listas\n",
    "lista_casa_mamae.juntar(lista_casa_vovo)\n",
    "\n",
    "# mostrando a lista juntada\n",
    "print('CONSOLIDADA')\n",
    "lista_casa_mamae.mostrar()"
   ]
  },
  {
   "cell_type": "markdown",
   "id": "92577dc0",
   "metadata": {},
   "source": [
    "Mais acima neste tópico, na lista de classes nativas do Python, fizemos constar que métodos têm sua própria classe: `method`. Métodos nascem como funções (do tipo `function`) quando são definidos dentro da classe. Se tentarmos verificar o tipo de um método a partir da classe em si (isto é, como atributo de um objeto do tipo `type`), veremos uma função. Definir um parâmetro inicial para esta função permite fazer a associação entre ela e a instância correspondente. (Se este parâmetro não for fornecido na definição da função, o Python permite a compilação, mas retornará erro ao chamar o método em tempo de execução.) Somente ao acessar a função como atributo de uma instância é que a associação é feita, originando um objeto do tipo `method` dentro da instância, a ela associado, e permitindo a omissão da própria instância como argumento na chamada do método."
   ]
  },
  {
   "cell_type": "code",
   "execution_count": 33,
   "id": "c9bb8fb2",
   "metadata": {},
   "outputs": [
    {
     "name": "stdout",
     "output_type": "stream",
     "text": [
      "<class 'function'>\n",
      "<class 'method'>\n"
     ]
    }
   ],
   "source": [
    "print(type(ListaDeComprasEncapsulada.mostrar))\n",
    "print(type(lista_casa_mamae.mostrar))"
   ]
  },
  {
   "cell_type": "markdown",
   "id": "48e65ac9",
   "metadata": {},
   "source": [
    "A rigor, o método é um objeto com os atributos especiais `__func__`, que guarda a função original, e `__self__`, que guarda a associação com a instância."
   ]
  },
  {
   "cell_type": "code",
   "execution_count": 68,
   "id": "14910d97",
   "metadata": {},
   "outputs": [
    {
     "name": "stdout",
     "output_type": "stream",
     "text": [
      "<function ListaDeComprasEncapsulada.riscar at 0x0000025D3B48B100>\n",
      "<__main__.ListaDeComprasEncapsulada object at 0x0000025D3AD834D0>\n"
     ]
    }
   ],
   "source": [
    "print(lista_casa_mamae.riscar.__func__)\n",
    "print(lista_casa_mamae.riscar.__self__)"
   ]
  },
  {
   "cell_type": "markdown",
   "id": "3e0766d5",
   "metadata": {},
   "source": [
    "Veremos mais à frente que também podem ser definidos os chamados métodos de classe, que se comportam de maneira diferente do que explicamos aqui."
   ]
  },
  {
   "cell_type": "markdown",
   "id": "6ce76d66",
   "metadata": {},
   "source": [
    "## Mais sobre atributos"
   ]
  },
  {
   "cell_type": "markdown",
   "id": "e1307d32",
   "metadata": {},
   "source": [
    "### Atributos especiais"
   ]
  },
  {
   "cell_type": "markdown",
   "id": "4b57255e",
   "metadata": {},
   "source": [
    "A linguagem Python dispõe de atributos e métodos chamados **especiais**, cujos nomes são pré-definidos e estão sempre envolvidos entre dois subscritos (`__`). Eles permitem o estabelecimento de comportamentos diferenciados oferecidos pela linguagem.\n",
    "\n",
    "Já mencionamos alguns acima: o método `__init__()` é chamado depois que instanciamos algum novo objeto, inicializando naquele objeto os atributos de instância, enquanto os atributos `__function__` e `__self__` do tipo `method` permitem acessar a função que o método aplica e os atributos da instância atual para serem usados pela função.\n",
    "\n",
    "Há muitos outros atributos e métodos especiais em Python. Vamos olhar vários deles em mais detalhes ao longo deste material, principalmente nas sessões deste tópico. Uma lista exaustiva dos métodos especiais nativos pode ser encontrada [na documentação oficial](https://docs.python.org/3/reference/datamodel.html#special-method-names)."
   ]
  },
  {
   "cell_type": "markdown",
   "id": "46b3b7bc",
   "metadata": {},
   "source": [
    "### Valores e atributos"
   ]
  },
  {
   "cell_type": "markdown",
   "id": "3105f1aa",
   "metadata": {},
   "source": [
    "Comecemos a exploração de atributos especiais com uma questão que poderia ter sido colocada no início deste tópico, mas que passou batida: se atributos em sentido estrito estocam o estado interno do objeto, então, na sessão sobre as características gerais de todos os objetos, por que mencionamos que o valor de um objeto é uma característica diferente dos seus atributos?\n",
    "\n",
    "Neste ponto do material, já estamos em condições de explorar essa diferença. A definição de atributos está clara, tratando-se das variáveis ou nomes definidos dentro da classe ou da instância. Já o valor do objeto é intuitivamente algo mais delimitado: como dissemos é seu conteúdo semântico, o que desejamos representar. Um exemplo pode ajudar a esclarecer as coisas: todo objeto em Python possui o atributo especial `__class__` que estoca seu tipo. No entanto, sabemos intuitivamente que o valor de `1` não é `int`, e sim o número $1$. Analogamente, quando olhamos para o contexto da classe `ListaDeComprasEncapsulada` que criamos acima, o atributo `numero_itens` é apenas um auxílio para não precisarmos contar o tamanho da lista, mas o valor do objeto não reside nesse número. Duas listas com $7$ itens podem ser inteiramente diferentes.\n",
    "\n",
    "O que se entende por valor de um objeto não é algo universalmente definido em Python e pode depender do contexto ou até mesmo da subjetividade. Retomando nosso objeto `ListaDeComprasEncapsulada`, talvez o número de itens seja de fato o conteúdo semântico de interesse no contexto de uma análise estatística da extensão de milhares de listas (embora nesse contexto provavelmente esse número seria estocado em outro objeto ou estrutura de dados...). Não obstante, alguns métodos especiais fornecidos em Python nos ajudam a determinar o conjunto de características que atingem o núcleo da semântica de um objeto:\n",
    "\n",
    "Primeiro, o método `__eq__()`\n",
    "\n",
    "Segundo, o método `__hash__()`\n",
    "\n",
    "Terceiro, os métodos `__str__()` e `__repr__()`"
   ]
  },
  {
   "cell_type": "code",
   "execution_count": 78,
   "id": "a708cd03",
   "metadata": {},
   "outputs": [
    {
     "name": "stdout",
     "output_type": "stream",
     "text": [
      "False\n",
      "False\n",
      "True\n",
      "False\n"
     ]
    }
   ],
   "source": [
    "print(ListaDeCompras(['a']) == ListaDeCompras(['a']))\n",
    "print(ListaDeCompras(['a']) == ListaDeCompras(['b']))\n",
    "\n",
    "class ListaDeComprasComEq:\n",
    "    def __init__(self, itens):\n",
    "        self.itens_faltantes = itens[:]\n",
    "        self.itens_faltantes.sort()\n",
    "    def __eq__(lista1, lista2):\n",
    "        if len(lista1.itens_faltantes) != len(lista2.itens_faltantes):\n",
    "            return False\n",
    "        ha_diferenca = False\n",
    "        for i in range(len(lista1.itens_faltantes)):\n",
    "            item_lista1 = lista1.itens_faltantes[i]\n",
    "            item_lista2 = lista2.itens_faltantes[i]\n",
    "            if item_lista1 != item_lista2:\n",
    "                ha_diferenca = True\n",
    "                break\n",
    "        return not ha_diferenca\n",
    "        \n",
    "print(ListaDeComprasComEq(['a']) == ListaDeComprasComEq(['a']))\n",
    "print(ListaDeComprasComEq(['a']) == ListaDeComprasComEq(['b']))"
   ]
  },
  {
   "cell_type": "markdown",
   "id": "3ce02017",
   "metadata": {},
   "source": [
    "### Acessando atributos"
   ]
  },
  {
   "cell_type": "markdown",
   "id": "9a7cbcbd",
   "metadata": {},
   "source": [
    "getattr e hasattr\n",
    "\n",
    "dir()\n",
    "\n",
    "dict\n",
    "\n",
    "inspect\n",
    "\n",
    "atributos inacessíveis (CPython)"
   ]
  },
  {
   "cell_type": "markdown",
   "id": "d0fc34bb",
   "metadata": {},
   "source": [
    "### Protegendo atributos"
   ]
  },
  {
   "cell_type": "markdown",
   "id": "da1ecb52",
   "metadata": {},
   "source": [
    "noções de privacidade em POO\n",
    "\n",
    "comparação geral de Python com outras linguagens\n",
    "\n",
    "prefixos `_` e `__` para atributos (+ name mangling)\n",
    "\n",
    "`__dict__` / `__slots__`\n",
    "\n",
    "decorador `@property` e o `__getattr__`"
   ]
  },
  {
   "cell_type": "markdown",
   "id": "88b0ab45",
   "metadata": {},
   "source": [
    "### Utilitários de classe"
   ]
  },
  {
   "cell_type": "markdown",
   "id": "0509558e",
   "metadata": {},
   "source": [
    "métodos estáticos e de classe"
   ]
  },
  {
   "cell_type": "markdown",
   "id": "8bb673cf",
   "metadata": {},
   "source": [
    "### Structs e data classes"
   ]
  },
  {
   "cell_type": "markdown",
   "id": "42aecde9",
   "metadata": {},
   "source": [
    "sintaxe que imita struct\n",
    "\n",
    "data classes\n",
    "\n",
    "named tuples do typing e daquela outra biblioteca"
   ]
  },
  {
   "cell_type": "markdown",
   "id": "d1ca7b08",
   "metadata": {},
   "source": [
    "## Polimorfismo"
   ]
  },
  {
   "cell_type": "markdown",
   "id": "cb71a1a3",
   "metadata": {},
   "source": [
    "### Panorama dos modos de polimorfismo em Python"
   ]
  },
  {
   "cell_type": "markdown",
   "id": "c6e9b21a",
   "metadata": {},
   "source": [
    "Apresentar os tipos de polimorfismo em Python\n",
    "\n",
    "* Paramétrico / genérico - funções que aceitam qualquer tipo (identidade(x)), TypeVar.\n",
    "* Ad-hoc / sobrecarga de operador - +, len(), in, etc.\n",
    "* sobrecarga de métodos\n",
    "* Subtipagem / herança - classes derivadas aceitas no lugar da base.\n",
    "* Estrutural / duck typing / protocol - basta implementar os métodos esperados\n",
    "\n"
   ]
  },
  {
   "cell_type": "markdown",
   "id": "ccc1d86d",
   "metadata": {},
   "source": [
    "### Polimorfismo paramétrico"
   ]
  },
  {
   "cell_type": "markdown",
   "id": "a80ca01c",
   "metadata": {},
   "source": []
  },
  {
   "cell_type": "markdown",
   "id": "bcc6b94d",
   "metadata": {},
   "source": [
    "### Sobrecarga de operadores"
   ]
  },
  {
   "cell_type": "markdown",
   "id": "08e8607e",
   "metadata": {},
   "source": []
  },
  {
   "cell_type": "markdown",
   "id": "34d7d089",
   "metadata": {},
   "source": [
    "### Protocolos"
   ]
  },
  {
   "cell_type": "markdown",
   "id": "cc44a3ea",
   "metadata": {},
   "source": []
  },
  {
   "cell_type": "markdown",
   "id": "806f0bf4",
   "metadata": {},
   "source": [
    "### Subtipagem e herança"
   ]
  },
  {
   "cell_type": "markdown",
   "id": "4c1033d7",
   "metadata": {},
   "source": []
  },
  {
   "cell_type": "markdown",
   "id": "6ef7e1a1",
   "metadata": {},
   "source": [
    "### Hierarquia das classes em Python"
   ]
  },
  {
   "cell_type": "markdown",
   "id": "d4238544",
   "metadata": {},
   "source": [
    "objeto object\n",
    "\n",
    "int -> bool\n",
    "\n",
    "exceções e erros\n",
    "\n",
    "isinstance\n",
    "\n",
    "issubclass"
   ]
  },
  {
   "cell_type": "code",
   "execution_count": null,
   "id": "9b6d4dc5",
   "metadata": {},
   "outputs": [
    {
     "name": "stdout",
     "output_type": "stream",
     "text": [
      "[[], [], [], [], [], [], [], [], [], [], [], [], [], [], [], [], [], [], [], [], [], [], [], [], [], [], [], [], [], [], [], [], [], [], [], [], [], [], [], [], [], [], [], [], [], [], [], [], [], [], [], [], [], [], [], [], [], [], [], [], [], [], [], [], [], [], [], [], [], [], [], [], [], [], [], [], [], [], [], [], [], [], [], [], [], [], [], [], [], [], [], [], [], [], [], [], [], [], [], [], [], [], [], [], [], [], [], [], [], [], [], [], [], [], [], [], [], [], [], [], [], [], [], [], [], [], [], [], [], [], [], [], [], [], [], [], [], [], [], [], [], [], [], [], [], [], [], [], [], [], [], [], [], [], [], [], [], [], [], [], [], [], []]\n"
     ]
    }
   ],
   "source": [
    "# testa se todos os nomes definidos em object constam nos objetos builtin\n",
    "nomes_object = dir(object)\n",
    "objetos_base = dir(__builtins__)\n",
    "\n",
    "lista_falhas_globais = []\n",
    "for objeto in objetos_base:\n",
    "    nomes_locais = dir(objeto)\n",
    "    conta_falhas = 0 # a falha ocorre se o objeto não tiver o nome\n",
    "    lista_falhas_locais = []\n",
    "    for nome in nomes_object:\n",
    "        if nome not in nomes_locais:\n",
    "            conta_falhas += 1\n",
    "            lista_falhas_locais.append(nome)\n",
    "    lista_falhas_globais.append(lista_falhas_locais)\n",
    "\n",
    "\n",
    "print(lista_falhas_globais)\n"
   ]
  },
  {
   "cell_type": "code",
   "execution_count": 59,
   "id": "a22ba18a",
   "metadata": {},
   "outputs": [
    {
     "data": {
      "text/plain": [
       "['In',\n",
       " 'ListaDeCompras',\n",
       " 'ListaDeComprasEncapsulada',\n",
       " 'Out',\n",
       " 'V',\n",
       " '_',\n",
       " '_10',\n",
       " '_30',\n",
       " '_31',\n",
       " '_32',\n",
       " '_35',\n",
       " '_36',\n",
       " '_37',\n",
       " '_39',\n",
       " '_40',\n",
       " '_41',\n",
       " '_42',\n",
       " '_43',\n",
       " '_44',\n",
       " '_45',\n",
       " '_46',\n",
       " '_47',\n",
       " '_48',\n",
       " '_49',\n",
       " '_51',\n",
       " '_52',\n",
       " '_53',\n",
       " '_54',\n",
       " '_56',\n",
       " '_57',\n",
       " '_58',\n",
       " '__',\n",
       " '___',\n",
       " '__builtin__',\n",
       " '__builtins__',\n",
       " '__doc__',\n",
       " '__loader__',\n",
       " '__name__',\n",
       " '__package__',\n",
       " '__spec__',\n",
       " '__vsc_ipynb_file__',\n",
       " '_dh',\n",
       " '_i',\n",
       " '_i1',\n",
       " '_i10',\n",
       " '_i11',\n",
       " '_i12',\n",
       " '_i13',\n",
       " '_i14',\n",
       " '_i15',\n",
       " '_i16',\n",
       " '_i17',\n",
       " '_i18',\n",
       " '_i19',\n",
       " '_i2',\n",
       " '_i20',\n",
       " '_i21',\n",
       " '_i22',\n",
       " '_i23',\n",
       " '_i24',\n",
       " '_i25',\n",
       " '_i26',\n",
       " '_i27',\n",
       " '_i28',\n",
       " '_i29',\n",
       " '_i3',\n",
       " '_i30',\n",
       " '_i31',\n",
       " '_i32',\n",
       " '_i33',\n",
       " '_i34',\n",
       " '_i35',\n",
       " '_i36',\n",
       " '_i37',\n",
       " '_i38',\n",
       " '_i39',\n",
       " '_i4',\n",
       " '_i40',\n",
       " '_i41',\n",
       " '_i42',\n",
       " '_i43',\n",
       " '_i44',\n",
       " '_i45',\n",
       " '_i46',\n",
       " '_i47',\n",
       " '_i48',\n",
       " '_i49',\n",
       " '_i5',\n",
       " '_i50',\n",
       " '_i51',\n",
       " '_i52',\n",
       " '_i53',\n",
       " '_i54',\n",
       " '_i55',\n",
       " '_i56',\n",
       " '_i57',\n",
       " '_i58',\n",
       " '_i59',\n",
       " '_i6',\n",
       " '_i7',\n",
       " '_i8',\n",
       " '_i9',\n",
       " '_ih',\n",
       " '_ii',\n",
       " '_iii',\n",
       " '_oh',\n",
       " 'compras',\n",
       " 'conta_falhas',\n",
       " 'exit',\n",
       " 'frutas',\n",
       " 'get_ipython',\n",
       " 'instancia1',\n",
       " 'instancia2',\n",
       " 'legumes',\n",
       " 'lista',\n",
       " 'lista_casa_mamae',\n",
       " 'lista_casa_vovo',\n",
       " 'lista_falhas_globais',\n",
       " 'lista_falhas_locais',\n",
       " 'nome',\n",
       " 'nomes_locais',\n",
       " 'nomes_object',\n",
       " 'objeto',\n",
       " 'objetos_base',\n",
       " 'open',\n",
       " 'quit',\n",
       " 'variados',\n",
       " 'varias_lojas']"
      ]
     },
     "execution_count": 59,
     "metadata": {},
     "output_type": "execute_result"
    }
   ],
   "source": [
    "dir()"
   ]
  },
  {
   "cell_type": "markdown",
   "id": "34d85f15",
   "metadata": {},
   "source": [
    "## Questões de arquitetura na POO"
   ]
  },
  {
   "cell_type": "markdown",
   "id": "78034991",
   "metadata": {},
   "source": [
    "\n",
    "\n",
    "Formas de juntar objetos: agregação, associação e composição\n",
    "\n",
    "Problema 1 (parcialmente resolvido): polimorfismo múltiplo. Polimorfismo duplo: identificado no artigo A Simple Technique for Handling Multiple Polymorphism\" de Daniel H. H. Ingalls; suas soluções (para operadores, o reverse do Python; para os demais, o double dispatch; dispatch table). Polimorfismo múltiplo: solução dispatch table\n",
    "\n",
    "Problema 2 (resolvido): o problema do diamante\n",
    "\n",
    "Problema 3: abuso da herança; herança como centro da POO\n",
    "\n",
    "Debate composição vs herança\n",
    "\n",
    "ADTs? Metapatterns?"
   ]
  }
 ],
 "metadata": {
  "kernelspec": {
   "display_name": "Python 3",
   "language": "python",
   "name": "python3"
  },
  "language_info": {
   "codemirror_mode": {
    "name": "ipython",
    "version": 3
   },
   "file_extension": ".py",
   "mimetype": "text/x-python",
   "name": "python",
   "nbconvert_exporter": "python",
   "pygments_lexer": "ipython3",
   "version": "3.13.7"
  }
 },
 "nbformat": 4,
 "nbformat_minor": 5
}
