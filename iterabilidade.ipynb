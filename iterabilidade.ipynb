{
  "cells": [
    {
      "cell_type": "markdown",
      "id": "1af50ae8",
      "metadata": {},
      "source": [
        "<p align=\"left\">[Voltar à tabela de conteúdos](README.md#conteúdo)<p>"
      ]
    },
    {
      "cell_type": "markdown",
      "id": "kvv3rg4VD3BA",
      "metadata": {
        "id": "kvv3rg4VD3BA"
      },
      "source": [
        "# Iterabilidade"
      ]
    },
    {
      "cell_type": "markdown",
      "id": "znYh50AWD-Nf",
      "metadata": {
        "id": "znYh50AWD-Nf"
      },
      "source": [
        "Esse tópico estuda como o Python implementa a ideia de iterabilidade. Abordamos primeiramente as classes gerais da iteração: iteráveis e iteradores. Fazemos alguns exemplos e depois abordamos os iteradores especiais, i.e., iteradores de sequências e geradores. Por ser mais complexo e auxiliar, este último tipo pode ser pulado em uma primeira leitura. Por fim, na seção bônus, apresentamos algumas instâncias onde a iteração aparece naturalmente na linguagem Python: compreensão de tuplas, o loop ```for```, o operador ```in```, e a ideia de *lazy evaluation*.\n",
        "\n"
      ]
    },
    {
      "cell_type": "markdown",
      "id": "09uBylqXdnKJ",
      "metadata": {
        "id": "09uBylqXdnKJ"
      },
      "source": [
        "## Objetos fundamentais da iteração"
      ]
    },
    {
      "cell_type": "markdown",
      "id": "Fp10hrileWSR",
      "metadata": {
        "id": "Fp10hrileWSR"
      },
      "source": [
        "De início, vale lembrar que tudo em Python é um objeto. Há duas categorias de objetos em Python que permitem a implementação da iterabilidade:\n",
        "* objetos iteráveis (iterables); e\n",
        "* objetos iteradores (iterators)."
      ]
    },
    {
      "cell_type": "markdown",
      "id": "rMG6te43PBfU",
      "metadata": {
        "id": "rMG6te43PBfU"
      },
      "source": [
        "### Iteráveis"
      ]
    },
    {
      "cell_type": "markdown",
      "id": "oonqwxrtO6Lr",
      "metadata": {
        "id": "oonqwxrtO6Lr"
      },
      "source": [
        "Um objeto **iterável** é aquele capaz de retornar seus elementos um de cada vez. É iterável qualquer objeto cuja classe defina:\n",
        "* ou um método de nome ```__getitem__(self, keys)``` que implemente a semântica de sequências; ou\n",
        "* ou um método de nome ```__iter__(self)```.\n",
        "\n",
        "A semântica de sequências é simplesmente a definição de um objeto cujo método ```__getitem__(self, keys)``` aceite como chaves números inteiros de 0 até levantar a exceção IndexError. Existem outras possibilidades de aceitar chaves, como os dicionários, que aceitam também strings ou hashables em geral.\n",
        "\n",
        "Historicamente, o Python usava apenas o método ```__getitem__()``` para a iteração. Porém, a partir de Python 2.2, passou-se a usar preferencialmente o método ```__iter__()```, de modo que o uso de ```__getitem__()``` para fins de iteração passou a ser considerado legado.\n",
        "\n",
        "O método ```__getitem__()``` apenas retorna o elemento selecionado. Já o método ```__iter__()``` retorna outro objeto, um iterador já construído. Veremos o que são iteradores abaixo."
      ]
    },
    {
      "cell_type": "markdown",
      "id": "KhzikxxXEU60",
      "metadata": {
        "id": "KhzikxxXEU60"
      },
      "source": [
        "### Iteradores"
      ]
    },
    {
      "cell_type": "markdown",
      "id": "UQy-JrfREYi-",
      "metadata": {
        "id": "UQy-JrfREYi-"
      },
      "source": [
        "Toda vez que o Python espera um objeto iterável, ele chama a função nativa ```iter(objeto)```. Se o objeto tem um método ```__iter__(self)```, o Python chama este método. Caso contrário, o Python procura por ```__getitem__()```. Se não houver nenhum desses dois métodos, o Python levanta um erro de tipo (objeto não é iterável). Exemplos de instâncias onde o Python espera um iterável são no loop ```for``` ou no argumento da função ```list()```:"
      ]
    },
    {
      "cell_type": "code",
      "execution_count": 1,
      "id": "ZwAuhzTjZ-24",
      "metadata": {
        "colab": {
          "base_uri": "https://localhost:8080/",
          "height": 193
        },
        "id": "ZwAuhzTjZ-24",
        "outputId": "575c18b2-1f76-407a-898b-9f0ff829b9f8"
      },
      "outputs": [
        {
          "ename": "TypeError",
          "evalue": "'Void' object is not iterable",
          "output_type": "error",
          "traceback": [
            "\u001b[1;31m---------------------------------------------------------------------------\u001b[0m",
            "\u001b[1;31mTypeError\u001b[0m                                 Traceback (most recent call last)",
            "Cell \u001b[1;32mIn[1], line 5\u001b[0m\n\u001b[0;32m      2\u001b[0m   \u001b[38;5;28;01mdef\u001b[39;00m \u001b[38;5;21m__init__\u001b[39m(\u001b[38;5;28mself\u001b[39m):\n\u001b[0;32m      3\u001b[0m     \u001b[38;5;28;01mpass\u001b[39;00m\n\u001b[1;32m----> 5\u001b[0m \u001b[38;5;28;01mfor\u001b[39;00m i \u001b[38;5;129;01min\u001b[39;00m Void():\n\u001b[0;32m      6\u001b[0m   \u001b[38;5;28mprint\u001b[39m(\u001b[38;5;124m'\u001b[39m\u001b[38;5;124mDeu certo.\u001b[39m\u001b[38;5;124m'\u001b[39m)\n",
            "\u001b[1;31mTypeError\u001b[0m: 'Void' object is not iterable"
          ]
        }
      ],
      "source": [
        "class Void:\n",
        "  def __init__(self):\n",
        "    pass\n",
        "\n",
        "for i in Void():\n",
        "  print('Deu certo.')"
      ]
    },
    {
      "cell_type": "code",
      "execution_count": 2,
      "id": "H-xjIJSnaGC4",
      "metadata": {
        "colab": {
          "base_uri": "https://localhost:8080/",
          "height": 141
        },
        "id": "H-xjIJSnaGC4",
        "outputId": "67714082-9c69-441e-dc75-e9f8f30a3e6f"
      },
      "outputs": [
        {
          "ename": "TypeError",
          "evalue": "'Void' object is not iterable",
          "output_type": "error",
          "traceback": [
            "\u001b[1;31m---------------------------------------------------------------------------\u001b[0m",
            "\u001b[1;31mTypeError\u001b[0m                                 Traceback (most recent call last)",
            "Cell \u001b[1;32mIn[2], line 1\u001b[0m\n\u001b[1;32m----> 1\u001b[0m \u001b[38;5;28;43mlist\u001b[39;49m\u001b[43m(\u001b[49m\u001b[43mVoid\u001b[49m\u001b[43m(\u001b[49m\u001b[43m)\u001b[49m\u001b[43m)\u001b[49m\n",
            "\u001b[1;31mTypeError\u001b[0m: 'Void' object is not iterable"
          ]
        }
      ],
      "source": [
        "list(Void())"
      ]
    },
    {
      "cell_type": "markdown",
      "id": "UqdcjcrAZ-Xw",
      "metadata": {
        "id": "UqdcjcrAZ-Xw"
      },
      "source": [
        "Neste ponto devemos nos perguntar: o que é retornado por esta chamada à função ```iter()```? É aqui que entra o outro tipo de objeto comentado acima, chamado **iterador**, que representa um fluxo de dados.\n",
        "\n",
        "Quando o método ```__iter__()``` existe, ele já retorna um iterador construído. Quando existe apenas o método ```__getitem__()```, a função ```iter()``` o usa para construir um iterador especial do tipo iterador de sequência, que veremos mais adiante.\n",
        "\n",
        "Iteradores são objetos que implementam dois protocolos:\n",
        "* um método ```__iter__()``` que apenas retorna o próprio iterador, permitindo que tanto iteráveis ou iteradores sejam passados quando o Python espera um iterável; e\n",
        "* um método ```__next__()``` que retorna o próximo item do iterável (notar: do iterável e não do iterador) e avança o estado da iteração.\n",
        "\n",
        "Se precisarmos fazer várias iterações, é necessário instanciar várias vezes o iterador. Isso porque, quando o iterador termina a contagem, ele é esgotado e não pode mais ser usado. A partir de então, uma nova chamada a ```next()``` retorna a exceção ```StopIteration```:"
      ]
    },
    {
      "cell_type": "code",
      "execution_count": 3,
      "id": "Cf8iLT6a_BOe",
      "metadata": {
        "colab": {
          "base_uri": "https://localhost:8080/",
          "height": 263
        },
        "id": "Cf8iLT6a_BOe",
        "outputId": "6d57f627-df57-4329-9de8-2dc9a05fe931"
      },
      "outputs": [
        {
          "name": "stdout",
          "output_type": "stream",
          "text": [
            "1\n",
            "2\n",
            "3\n"
          ]
        },
        {
          "ename": "StopIteration",
          "evalue": "",
          "output_type": "error",
          "traceback": [
            "\u001b[1;31m---------------------------------------------------------------------------\u001b[0m",
            "\u001b[1;31mStopIteration\u001b[0m                             Traceback (most recent call last)",
            "Cell \u001b[1;32mIn[3], line 6\u001b[0m\n\u001b[0;32m      4\u001b[0m \u001b[38;5;28mprint\u001b[39m(\u001b[38;5;28mnext\u001b[39m(iterador))\n\u001b[0;32m      5\u001b[0m \u001b[38;5;28mprint\u001b[39m(\u001b[38;5;28mnext\u001b[39m(iterador))\n\u001b[1;32m----> 6\u001b[0m \u001b[38;5;28mprint\u001b[39m(\u001b[38;5;28;43mnext\u001b[39;49m\u001b[43m(\u001b[49m\u001b[43miterador\u001b[49m\u001b[43m)\u001b[49m)\n",
            "\u001b[1;31mStopIteration\u001b[0m: "
          ]
        }
      ],
      "source": [
        "iteravel = [1,2,3]\n",
        "iterador = iter(iteravel)\n",
        "print(next(iterador))\n",
        "print(next(iterador))\n",
        "print(next(iterador))\n",
        "print(next(iterador))"
      ]
    },
    {
      "cell_type": "markdown",
      "id": "ICCB3p_EeKd6",
      "metadata": {
        "id": "ICCB3p_EeKd6"
      },
      "source": [
        "### Iteráveis vs. Iteradores"
      ]
    },
    {
      "cell_type": "markdown",
      "id": "CFAyEgaO_BsG",
      "metadata": {
        "id": "CFAyEgaO_BsG"
      },
      "source": [
        "Mas por que é feita uma separação entre dois tipos, iteráveis e iteradores?\n",
        "\n",
        "Esta separação permite uma série de eficiências e flexibilidades.\n",
        "\n",
        "Primeiro, o iterável não precisa armazenar internamente o estado da iteração, e não é necessário acessá-lo diretamente ou mudar valores de seus atributos ao iterar sobre ele. É o iterador que guarda a informação sobre o ponto em que a iteração se encontra.\n",
        "\n",
        "Segundo, isso implica que toda vez que o Python espera um iterável, o comando em questão não precisa saber como acessar e alterar o estado do iterável, funcionando com qualquer objeto iterável em geral por meio do protocolo de iteração acima Por exemplo, um loop ```for``` ou um construtor ```list()``` não precisa saber nenhum detalhe sobre o iterável que lhes é passado.\n",
        "\n",
        "Terceiro, há uma eficiência de memória envolvida. No caso do iterador, cada elemento só é gerado sob demanda (i.e., chamando ```next()```), o que implica que não é preciso criar, modificar ou duplicar tudo o que vai ser iterado na memória. Um exemplo clássico é o iterável range, que nunca cria toda a sequência na memória. Ele apenas armazena uma tupla ```(start, stop, step)```, gerando o próximo elemento sob demanda, e seu iterador estoca o estado interno e solicita o próximo estado quando necessário:"
      ]
    },
    {
      "cell_type": "code",
      "execution_count": 4,
      "id": "Hs6tg2DC8Kzf",
      "metadata": {
        "colab": {
          "base_uri": "https://localhost:8080/"
        },
        "id": "Hs6tg2DC8Kzf",
        "outputId": "93aacf69-ddff-49e8-b030-2c63f869bc19"
      },
      "outputs": [
        {
          "data": {
            "text/plain": [
              "1"
            ]
          },
          "execution_count": 4,
          "metadata": {},
          "output_type": "execute_result"
        }
      ],
      "source": [
        "r = range(10**8) # sequência gigante\n",
        "iterador = iter(r)\n",
        "next(iterador); next(iterador)"
      ]
    },
    {
      "cell_type": "markdown",
      "id": "fNenBa7s6LyY",
      "metadata": {
        "id": "fNenBa7s6LyY"
      },
      "source": [
        "Quarto, por fim, podemos ter várias iterações diferentes sobre um único iterável. É o que acontece quando chamamos vários loops ```for``` sobre um mesmo iterável:"
      ]
    },
    {
      "cell_type": "code",
      "execution_count": 5,
      "id": "N7sCuAgrfyYh",
      "metadata": {
        "colab": {
          "base_uri": "https://localhost:8080/"
        },
        "id": "N7sCuAgrfyYh",
        "outputId": "4a5da18c-bfd5-4327-f9da-7df37655e097"
      },
      "outputs": [
        {
          "name": "stdout",
          "output_type": "stream",
          "text": [
            "0\n",
            "1\n",
            "2\n",
            "0\n",
            "1\n",
            "2\n"
          ]
        }
      ],
      "source": [
        "r = range(3)\n",
        "for i in r:\n",
        "  print(i)\n",
        "for i in r:\n",
        "  print(i)"
      ]
    },
    {
      "cell_type": "markdown",
      "id": "U6x1Pe5iflKB",
      "metadata": {
        "id": "U6x1Pe5iflKB"
      },
      "source": [
        "É também o que acontece se realizamos novas iterações mesmo que as anteriores ainda não tenham sido finalizadas. Por exemplo, se temos uma corrida entre dois jogadores sobre um único circuito, podemos criar dois iteradores diferentes:"
      ]
    },
    {
      "cell_type": "code",
      "execution_count": 6,
      "id": "jQQFb09X4RKx",
      "metadata": {
        "colab": {
          "base_uri": "https://localhost:8080/"
        },
        "id": "jQQFb09X4RKx",
        "outputId": "07ac1ccc-32f2-4892-a499-968c6c0e0399"
      },
      "outputs": [
        {
          "name": "stdout",
          "output_type": "stream",
          "text": [
            "Jogador A: casa 1\n",
            "Jogador B: casa 3\n"
          ]
        }
      ],
      "source": [
        "# supomos que a casa inicial é a de número 0\n",
        "circuito = (1,2,3,4,5)\n",
        "jogador_A = iter(circuito)\n",
        "jogador_B = iter(circuito)\n",
        "\n",
        "# anda uma casa com o jogador A e mostra seu estado atual\n",
        "print(f'Jogador A: casa {next(jogador_A)}')\n",
        "\n",
        "# anda duas casas com o jogador B\n",
        "next(jogador_B); next(jogador_B)\n",
        "\n",
        "# anda mais uma casa com o jogador B e mostra seu estado atual\n",
        "print(f'Jogador B: casa {next(jogador_B)}')\n"
      ]
    },
    {
      "cell_type": "markdown",
      "id": "VbUPJ-NBZsWh",
      "metadata": {
        "id": "VbUPJ-NBZsWh"
      },
      "source": [
        "Vale observar que o método ```__iter()__``` retorna o próprio iterador, e não uma nova instância do iterador. Assim, se o iterador em questão estiver esgotado, chamar sobre ele ```iter()``` apenas retorna o mesmo iterador esgotado. Do mesmo modo, se ele estiver em algum estágio intermediário da iteração, ```iter()``` não retorna um iterador com a contagem resetada."
      ]
    },
    {
      "cell_type": "markdown",
      "id": "7_FDKuZB8th3",
      "metadata": {
        "id": "7_FDKuZB8th3"
      },
      "source": [
        "## Exemplos práticos"
      ]
    },
    {
      "cell_type": "markdown",
      "id": "tVwUQyNwez4Z",
      "metadata": {
        "id": "tVwUQyNwez4Z"
      },
      "source": [
        "### Método antigo: semântica de sequência"
      ]
    },
    {
      "cell_type": "markdown",
      "id": "NysYlVoqWGsJ",
      "metadata": {
        "id": "NysYlVoqWGsJ"
      },
      "source": [
        "Abaixo criamos uma classe de iteráveis chamada ```Reverso``` pelo método ```__getitem__()```. Esta classe apenas reverte a indexação de uma lista ou sequência:"
      ]
    },
    {
      "cell_type": "code",
      "execution_count": 7,
      "id": "4TE6y7E0Y9r3",
      "metadata": {
        "colab": {
          "base_uri": "https://localhost:8080/"
        },
        "id": "4TE6y7E0Y9r3",
        "outputId": "f08a30d8-f6ad-4859-eaad-62e30e6cce5f"
      },
      "outputs": [
        {
          "name": "stdout",
          "output_type": "stream",
          "text": [
            "d\n",
            "c\n",
            "b\n",
            "a\n"
          ]
        }
      ],
      "source": [
        "# sequência que reverte a ordem original\n",
        "class Reverso:\n",
        "  def __init__(self, sequencia):\n",
        "    if not hasattr(sequencia, '__getitem__'):\n",
        "      raise TypeError('Argumento sequencia deve ser do tipo Sequence.')\n",
        "    self.sequencia_original = sequencia\n",
        "  def __getitem__(self, keys):\n",
        "    if type(keys) is not int or keys < 0:\n",
        "      raise TypeError('Objeto da classe Reverso deve ser indexado por um int não negativo.')\n",
        "    if keys >= len(self.sequencia_original):\n",
        "      raise IndexError('Índice fora de alcance.')\n",
        "    return self.sequencia_original[-(keys+1)]\n",
        "\n",
        "# teste\n",
        "for r in Reverso([*'abcd']):\n",
        "  print(r)"
      ]
    },
    {
      "cell_type": "markdown",
      "id": "B3WczZbie8A4",
      "metadata": {
        "id": "B3WczZbie8A4"
      },
      "source": [
        "### Dupla iterável-iterador"
      ]
    },
    {
      "cell_type": "markdown",
      "id": "DyOql1StlBS4",
      "metadata": {
        "id": "DyOql1StlBS4"
      },
      "source": [
        "Agora criaremos uma classe de iteráveis pelo método ```__iter__()```, junto com uma classe de iteradores implementando o protocolo de métodos ```__iter__()``` e ```__next__()```. O iterável é uma caminhada aleatória clássica em duas dimensões e um número finito de passos:"
      ]
    },
    {
      "cell_type": "code",
      "execution_count": 8,
      "id": "OiFutK8jzDwq",
      "metadata": {
        "colab": {
          "base_uri": "https://localhost:8080/"
        },
        "id": "OiFutK8jzDwq",
        "outputId": "e3b77d93-bf7e-4c5e-dcba-120ea6f02ee7"
      },
      "outputs": [
        {
          "name": "stdout",
          "output_type": "stream",
          "text": [
            "Caminho realizado:\n",
            "0  =>  -1  =>  0  =>  1  =>  2  =>  3  =>  2  =>  3  =>  4  =>  5  =>  4\n"
          ]
        }
      ],
      "source": [
        "import random\n",
        "\n",
        "# caminhada aleatória 2D clássica\n",
        "class Caminhada:\n",
        "  def __init__(self, estado_inicial=0, passos_totais=10):\n",
        "    self.estado = estado_inicial\n",
        "    self.passos_totais = passos_totais\n",
        "  def __iter__(self):\n",
        "    return Caminhada.Passo(self)\n",
        "\n",
        "  class Passo:\n",
        "    def __init__(self, caminhada):\n",
        "      self.caminhada = caminhada\n",
        "      self.passo = 0\n",
        "    def __iter__(self):\n",
        "      return self\n",
        "    def __next__(self):\n",
        "      if self.passo >= self.caminhada.passos_totais:\n",
        "          raise StopIteration\n",
        "      self.caminhada.estado += random.choice([-1,1])\n",
        "      self.passo += 1\n",
        "      return self.caminhada.estado\n",
        "\n",
        "# teste\n",
        "c = Caminhada()\n",
        "caminho = f'{c.estado}'\n",
        "for p in c:\n",
        "  caminho += f'  =>  {p}'\n",
        "\n",
        "print(f'Caminho realizado:\\n{caminho}')"
      ]
    },
    {
      "cell_type": "markdown",
      "id": "iuF4pLVloakv",
      "metadata": {
        "id": "iuF4pLVloakv"
      },
      "source": [
        "Notar que ambos os exemplos funcionam com o loop ```for```. Notar, ainda, que seria perfeitamente aceitável definir a classe de iteradores fora da classe de iteráveis. Essa é uma escolha que acarreta vantagens e desvantagens em termos de legibilidade, testabilidade e escopo."
      ]
    },
    {
      "cell_type": "markdown",
      "id": "f-yNB11hfUHh",
      "metadata": {
        "id": "f-yNB11hfUHh"
      },
      "source": [
        "### Somente iterador"
      ]
    },
    {
      "cell_type": "markdown",
      "id": "qhSjQnE0fWqQ",
      "metadata": {
        "id": "qhSjQnE0fWqQ"
      },
      "source": [
        "Um jeito alternativo de definir a caminhada aleatória deriva da constatação de que este iterável é tão simples que sequer estoca internamente o caminho percorrido, de forma que ele poderia ser apenas um iterador (sem iterável). Tendo em vista que o iterador também possui o método ```__iter__()```, ele também retorna o que o Python necessita quando se espera por um iterável.\n",
        "\n",
        "Precisamos somente ajustar o que é retornado e quando a iteração termina, pois agora queremos exibir o resultado da primeira iteração como sendo o estado inicial. Implementamos essa simplificação abaixo:"
      ]
    },
    {
      "cell_type": "code",
      "execution_count": 9,
      "id": "OON0JYZ2SMiK",
      "metadata": {
        "colab": {
          "base_uri": "https://localhost:8080/"
        },
        "id": "OON0JYZ2SMiK",
        "outputId": "6e7a9f6e-30f0-4f35-8f1a-d8bd930fbc4b"
      },
      "outputs": [
        {
          "name": "stdout",
          "output_type": "stream",
          "text": [
            "Caminho realizado:\n",
            "0  =>  -1  =>  -2  =>  -1  =>  -2  =>  -1  =>  -2  =>  -1  =>  -2  =>  -1  =>  0\n"
          ]
        }
      ],
      "source": [
        "# simplificação da caminhada aleatória\n",
        "class Caminhada_iterador:\n",
        "  def __init__(self, estado_inicial=0, passos_totais=10):\n",
        "    self.estado = estado_inicial\n",
        "    self.passos_totais = passos_totais\n",
        "    self.passo = 0\n",
        "  def __iter__(self):\n",
        "    return self\n",
        "  def __next__(self):\n",
        "    if self.passo > self.passos_totais:\n",
        "        raise StopIteration\n",
        "    atual = self.estado # guarda o passo atual\n",
        "    self.estado += random.choice([-1,1]) # atualiza para a próxima chamada\n",
        "    self.passo += 1\n",
        "    return atual\n",
        "\n",
        "# teste\n",
        "cIt = Caminhada()\n",
        "caminho = f'{cIt.estado}'\n",
        "for p in cIt:\n",
        "  caminho += f'  =>  {p}'\n",
        "\n",
        "print(f'Caminho realizado:\\n{caminho}')"
      ]
    },
    {
      "cell_type": "markdown",
      "id": "L-G8BDuo__x-",
      "metadata": {
        "id": "L-G8BDuo__x-"
      },
      "source": [
        "Ao definirmos apenas iteradores sem iteráveis, temos de tomar o cuidado de sempre instanciar o iterador a cada nova iteração, visto que o iterador se esgota a cada iteração completa. No código acima isso não foi necessário, pois iteramos apenas uma vez, mas veremos mais à frente casos em que isso será necessário.\n",
        "\n"
      ]
    },
    {
      "cell_type": "markdown",
      "id": "KY5SSFfIAmve",
      "metadata": {
        "id": "KY5SSFfIAmve"
      },
      "source": [
        "## Iteradores especiais"
      ]
    },
    {
      "cell_type": "markdown",
      "id": "9dKMcqJoBvU9",
      "metadata": {
        "id": "9dKMcqJoBvU9"
      },
      "source": [
        "### Iteradores de sequências"
      ]
    },
    {
      "cell_type": "markdown",
      "id": "c4t0FTS8HEMT",
      "metadata": {
        "id": "c4t0FTS8HEMT"
      },
      "source": [
        "No caso de sequências, quando só existe o método ```__getitem__()```, o objeto não fornece um método para construir um iterador. Em vez disso, o Python cria automaticamente um objeto do tipo *iterador de sequência*, que começa com uma variável de índice inicializada em ```0``` (digamos, ```i```) e, quando lhe é aplicada a função ```next()```, chama ```__getitem__(i)``` e incrementa ```i```. Se ```__getitem__(i)``` levantar a exceção ```IndexError```, entende-se que a sequência acabou, sendo levantada a exceção ```StopIteration```.\n",
        "\n",
        "Vale notar que o Python não tem como saber que a indexação implementada naquele objeto segue à risca a semântica de sequências. Desta forma, esse sequenciamento pode ser enganado, como nos dois exemplos abaixo:"
      ]
    },
    {
      "cell_type": "code",
      "execution_count": 10,
      "id": "_Ea92EgLHFvL",
      "metadata": {
        "colab": {
          "base_uri": "https://localhost:8080/"
        },
        "id": "_Ea92EgLHFvL",
        "outputId": "7532dd50-0bbd-4739-b371-64237a5fe597"
      },
      "outputs": [
        {
          "name": "stdout",
          "output_type": "stream",
          "text": [
            "2\n",
            "3\n",
            "4\n"
          ]
        }
      ],
      "source": [
        "# oculta o primeiro elemento de uma lista\n",
        "class Lista_oculta:\n",
        "  def __init__(self, lista):\n",
        "    if type(lista) is not list:\n",
        "      raise TypeError('Tipo deve ser list.')\n",
        "    self.lista_original = lista\n",
        "\n",
        "  def __getitem__(self, keys):\n",
        "    return self.lista_original[keys+1]\n",
        "\n",
        "# teste\n",
        "for i in Lista_oculta([1,2,3,4]):\n",
        "  print(i)"
      ]
    },
    {
      "cell_type": "code",
      "execution_count": 11,
      "id": "BKR_W6-iLaTB",
      "metadata": {
        "colab": {
          "base_uri": "https://localhost:8080/"
        },
        "id": "BKR_W6-iLaTB",
        "outputId": "cbcc0294-3160-4755-bf5f-0349539540f4"
      },
      "outputs": [
        {
          "name": "stdout",
          "output_type": "stream",
          "text": [
            "Indexação float:\n",
            "0.25\n",
            "\n",
            "Loop:\n",
            "0.0\n",
            "1.0\n",
            "2.0\n",
            "3.0\n",
            "4.0\n"
          ]
        }
      ],
      "source": [
        "import numpy as np\n",
        "\n",
        "# só revela marcações inteiras\n",
        "class Pontos_ocultos:\n",
        "  def __init__(self, fim, espacamento=0.25):\n",
        "    start = 0\n",
        "    self.marcacoes = np.arange(start, fim, espacamento)\n",
        "\n",
        "  def __getitem__(self, keys):\n",
        "    try:\n",
        "      indice = list(self.marcacoes).index(keys)\n",
        "      return self.marcacoes[indice]\n",
        "    except ValueError: # o método .index() levanta essa exceção quando o valor não existe na lista\n",
        "      raise IndexError('Indice fora de alcance.')\n",
        "\n",
        "# teste da indexação float\n",
        "po = Pontos_ocultos(5)\n",
        "indice_float = po[0.25]\n",
        "print(f'Indexação float:\\n{indice_float}')\n",
        "\n",
        "# teste da interação de marcações inteiras\n",
        "print('\\nLoop:')\n",
        "for i in po:\n",
        "  print(i)"
      ]
    },
    {
      "cell_type": "markdown",
      "id": "55xG110jReVX",
      "metadata": {
        "id": "55xG110jReVX"
      },
      "source": [
        "Neste último exemplo, notar que foi necessário levantar uma exceção manualmente porque, caso contrário, uma exceção de ```ValueError``` seria levantada antes da exceção de ```IndexError```, o que faria com que o Python nunca parasse de procurar pelo próximo item!\n",
        "\n",
        "(Obs.: A exceção ```StopIteration``` também poderia ter sido levantada no código acima, produzindo o mesmo efeito de ```IndexError```, porém esta última é mais recomendada por ser mais geral, visto que funcionaria corretamente caso o usuário tentasse manualmente acessar um elemento fora de alcance.)"
      ]
    },
    {
      "cell_type": "markdown",
      "id": "jHRXqTjdd4ax",
      "metadata": {
        "id": "jHRXqTjdd4ax"
      },
      "source": [
        "### Geradores"
      ]
    },
    {
      "cell_type": "markdown",
      "id": "U9XSUumbD-N8",
      "metadata": {
        "id": "U9XSUumbD-N8"
      },
      "source": [
        "O conceito de geradores foi introduzido oficialmente somente em Python 2.3, depois do protocolo de iteração explicado acima (que remonta a Python 2.2). Sua ideia geral é iterar dentro uma função, permitindo que a função seja apenas parcialmente executada, pausada, e depois retomada de onde parou, até mesmo sucessivas vezes se necessário.\n",
        "\n",
        "Há três conceitos envolvidos na implementação de geradores em Python:\n",
        "* **iterador gerador**: um tipo especial de iterador;\n",
        "* **função geradora**: uma função que retorna uma instância de iterador gerador; e\n",
        "* **expressão geradora**: uma expressão que retorna uma instância de iterador gerador.\n",
        "\n",
        "Comecemos introduzindo o conceito de função geradora, depois retomamos os demais."
      ]
    },
    {
      "cell_type": "markdown",
      "id": "848YWqMbTLyF",
      "metadata": {
        "id": "848YWqMbTLyF"
      },
      "source": [
        "#### Função geradora"
      ]
    },
    {
      "cell_type": "markdown",
      "id": "dObQow3hTvjs",
      "metadata": {
        "id": "dObQow3hTvjs"
      },
      "source": [
        "Para transformar uma função comum em uma função geradora, basta introduzir a instrução ```yield``` no corpo da função. A função retorna um objeto iterador do tipo gerador, já devidamente construído - ou seja, é possível invocar ```iter()``` ou ```next()``` sobre o objeto retornado.\n",
        "\n",
        "Na primeira iteração, executa-se o corpo da função até atingir a instrução ```yield```, retornando o que esta intrução indicar (se nada for indicado, retorna ```None```). O ponto onde paramos a execução (estado de execução) fica estocado no iterador gerador. Ao chamarmos uma nova iteração, a execução da função é continuada até o próximo comando ```yield```, e assim sucessivamente. Caso não haja mais nenhum comando desta natureza, o iterador gera uma exceção ```StopIteration```.\n",
        "\n",
        "O exemplo simples abaixo ilustra esse funcionamento. Podemos notar que o parênteses no valor depois do comando ```yield``` é opcional. Vemos também que é possível a função incluir um ```return```, que será passado à exceção ```StopIteration```. Caso isso não seja incluído, passa-se apenas ```None```."
      ]
    },
    {
      "cell_type": "code",
      "execution_count": 12,
      "id": "SHxoWV7-Tv7d",
      "metadata": {
        "colab": {
          "base_uri": "https://localhost:8080/",
          "height": 228
        },
        "id": "SHxoWV7-Tv7d",
        "outputId": "5035e7f9-20b4-4dac-efd8-3457da1b3608"
      },
      "outputs": [
        {
          "name": "stdout",
          "output_type": "stream",
          "text": [
            "a\n",
            "b\n",
            "c\n"
          ]
        },
        {
          "ename": "StopIteration",
          "evalue": "Fim.",
          "output_type": "error",
          "traceback": [
            "\u001b[1;31m---------------------------------------------------------------------------\u001b[0m",
            "\u001b[1;31mStopIteration\u001b[0m                             Traceback (most recent call last)",
            "Cell \u001b[1;32mIn[12], line 11\u001b[0m\n\u001b[0;32m      9\u001b[0m \u001b[38;5;28mprint\u001b[39m(\u001b[38;5;28mnext\u001b[39m(it_gen))\n\u001b[0;32m     10\u001b[0m \u001b[38;5;28mprint\u001b[39m(\u001b[38;5;28mnext\u001b[39m(it_gen))\n\u001b[1;32m---> 11\u001b[0m \u001b[38;5;28mprint\u001b[39m(\u001b[38;5;28;43mnext\u001b[39;49m\u001b[43m(\u001b[49m\u001b[43mit_gen\u001b[49m\u001b[43m)\u001b[49m)\n",
            "\u001b[1;31mStopIteration\u001b[0m: Fim."
          ]
        }
      ],
      "source": [
        "def gen():\n",
        "  yield 'a'\n",
        "  yield 'b'\n",
        "  yield ('c')\n",
        "  return 'Fim.'\n",
        "\n",
        "it_gen = gen()\n",
        "print(next(it_gen))\n",
        "print(next(it_gen))\n",
        "print(next(it_gen))\n",
        "print(next(it_gen))"
      ]
    },
    {
      "cell_type": "markdown",
      "id": "NwxW7q4WYVbj",
      "metadata": {
        "id": "NwxW7q4WYVbj"
      },
      "source": [
        "#### Objeto iterador gerador"
      ]
    },
    {
      "cell_type": "markdown",
      "id": "PDczfzHpYCPz",
      "metadata": {
        "id": "PDczfzHpYCPz"
      },
      "source": [
        "Além dos métodos ```__iter()___``` e ```__next__()```, o iterador gerador também vem com outros três métodos já embutidos. Todos esses métodos continuam a execução da função, à semelhança de ```next()```, mas com particularidades:\n",
        "* ```.send(self, valor)```: substitui o retorno da última expressão ```yield``` executada pelo valor de ```valor```, executando novamente a linha lógica onde ela se encontrava. Não pode ser usado na primeira iteração, apenas em iterações subsequentes, sob pena de levantar a exceção ```TypeError```.\n",
        "* ```.throw(self, valor)```: levanta a exceção especificada em ```valor``` no ponto de execução em que o gerador se encontra. Se a exceção for capturada, executa o ```yield``` subsequente àquele que gerou a exceção. Se não houver mais nenhum ```yield```, o gerador levanta uma exceção ```StopIteration``` (mesmo que a exceção dada por ```throw()``` tenha sido capturada). Também pode ser usado na primeira iteração, apenas em iterações subsequentes, sob pena de levantar a exceção ```TypeError```. (Obs.: versões deprecadas desse método aceitam argumentos adicionais.)\n",
        "* ```.close(self)```: levanta uma exceção especial chamada ```GeneratorExit```, que esgota o iterador e, se capturada pela função e for usada depois da primeira iteração, permite a execução de instrução pela cláusula ```finally```. Por padrão, o método retorna ```None```. Caso a função tente devolver algum valor por meio de um novo comando ```yield```, levanta-se um ```RunTimeError```. A partir de Python 3.3, pode-se retornar um valor final, que será passado para dentro da exceção ```StopIteration``` sob o atributo ```StopIteration.value```.\n",
        "\n",
        "Vale notar que os métodos podem tentar capturar exceções normalmente, mas as várias exceções acima podem mesmo assim causar um erro.\n",
        "\n",
        "Os exemplos abaixo ilustram o uso desses métodos:"
      ]
    },
    {
      "cell_type": "code",
      "execution_count": 13,
      "id": "j0iQvxKpmret",
      "metadata": {
        "colab": {
          "base_uri": "https://localhost:8080/",
          "height": 263
        },
        "id": "j0iQvxKpmret",
        "outputId": "b1d84e0a-8ad6-498f-ee8a-8295f21167b6"
      },
      "outputs": [
        {
          "name": "stdout",
          "output_type": "stream",
          "text": [
            "a\n",
            "b\n",
            "\n",
            "a\n",
            "None\n"
          ]
        },
        {
          "ename": "TypeError",
          "evalue": "can't send non-None value to a just-started generator",
          "output_type": "error",
          "traceback": [
            "\u001b[1;31m---------------------------------------------------------------------------\u001b[0m",
            "\u001b[1;31mTypeError\u001b[0m                                 Traceback (most recent call last)",
            "Cell \u001b[1;32mIn[13], line 21\u001b[0m\n\u001b[0;32m     19\u001b[0m \u001b[38;5;66;03m# erro ao usar .send() na primeira iteração\u001b[39;00m\n\u001b[0;32m     20\u001b[0m it \u001b[38;5;241m=\u001b[39m g()\n\u001b[1;32m---> 21\u001b[0m \u001b[38;5;28mprint\u001b[39m(\u001b[43mit\u001b[49m\u001b[38;5;241;43m.\u001b[39;49m\u001b[43msend\u001b[49m\u001b[43m(\u001b[49m\u001b[38;5;124;43m'\u001b[39;49m\u001b[38;5;124;43mc\u001b[39;49m\u001b[38;5;124;43m'\u001b[39;49m\u001b[43m)\u001b[49m)\n",
            "\u001b[1;31mTypeError\u001b[0m: can't send non-None value to a just-started generator"
          ]
        }
      ],
      "source": [
        "# .send()\n",
        "\n",
        "def g():        # 1ª iteração: devolve 1º yield ('a')\n",
        "  t = yield 'a' # 2ª iteração com .send: roda novamente esta linha\n",
        "                # inserindo na atribuição o valor passado a .send(valor)\n",
        "  yield t\n",
        "\n",
        "# teste com .send()\n",
        "it = g()\n",
        "print(next(it)) # 1ª iteração\n",
        "print(it.send('b')) # 2ª iteração\n",
        "\n",
        "# teste sem .send()\n",
        "print()\n",
        "it = g()\n",
        "print(next(it))\n",
        "print(next(it)) # como nada foi alimentado para substituir \"yield 'a'\", retorna None\n",
        "\n",
        "# erro ao usar .send() na primeira iteração\n",
        "it = g()\n",
        "print(it.send('c'))"
      ]
    },
    {
      "cell_type": "code",
      "execution_count": 14,
      "id": "-5W7jCDEh6R3",
      "metadata": {
        "colab": {
          "base_uri": "https://localhost:8080/"
        },
        "id": "-5W7jCDEh6R3",
        "outputId": "bf716100-51c6-46a7-febe-5ff7086a4518"
      },
      "outputs": [
        {
          "name": "stdout",
          "output_type": "stream",
          "text": [
            "a\n",
            "Exceção gerada.\n",
            "c\n"
          ]
        }
      ],
      "source": [
        "# throw\n",
        "\n",
        "def gen():\n",
        "  try:\n",
        "    yield 'a'\n",
        "    yield 'b'\n",
        "  except:\n",
        "    print('Exceção gerada.')\n",
        "  yield 'c'\n",
        "\n",
        "it = gen()\n",
        "print(next(it))\n",
        "print(it.throw(TypeError))"
      ]
    },
    {
      "cell_type": "code",
      "execution_count": 15,
      "id": "9ZTgQ6LyuskC",
      "metadata": {
        "colab": {
          "base_uri": "https://localhost:8080/",
          "height": 211
        },
        "id": "9ZTgQ6LyuskC",
        "outputId": "2dfc3481-2b62-45d1-d1c7-a7a9476ccd6e"
      },
      "outputs": [
        {
          "name": "stdout",
          "output_type": "stream",
          "text": [
            "a\n",
            "Gerador encerrado.\n"
          ]
        },
        {
          "ename": "StopIteration",
          "evalue": "",
          "output_type": "error",
          "traceback": [
            "\u001b[1;31m---------------------------------------------------------------------------\u001b[0m",
            "\u001b[1;31mStopIteration\u001b[0m                             Traceback (most recent call last)",
            "Cell \u001b[1;32mIn[15], line 12\u001b[0m\n\u001b[0;32m     10\u001b[0m \u001b[38;5;28mprint\u001b[39m(\u001b[38;5;28mnext\u001b[39m(it))\n\u001b[0;32m     11\u001b[0m it\u001b[38;5;241m.\u001b[39mclose()\n\u001b[1;32m---> 12\u001b[0m \u001b[38;5;28;43mnext\u001b[39;49m\u001b[43m(\u001b[49m\u001b[43mit\u001b[49m\u001b[43m)\u001b[49m\n",
            "\u001b[1;31mStopIteration\u001b[0m: "
          ]
        }
      ],
      "source": [
        "# close\n",
        "def gen():\n",
        "  try:\n",
        "    yield 'a'\n",
        "    yield 'b'\n",
        "  finally:\n",
        "    print('Gerador encerrado.')\n",
        "\n",
        "it = gen()\n",
        "print(next(it))\n",
        "it.close()\n",
        "next(it)"
      ]
    },
    {
      "cell_type": "markdown",
      "id": "4i4zLAtTE0Ha",
      "metadata": {
        "id": "4i4zLAtTE0Ha"
      },
      "source": [
        "De início, os usos de ```.send()``` podem ser confusos. Para garantir o entendimento, vejamos o exemplo abaixo.\n"
      ]
    },
    {
      "cell_type": "code",
      "execution_count": 16,
      "id": "nfbqdb7hGHVp",
      "metadata": {
        "colab": {
          "base_uri": "https://localhost:8080/"
        },
        "id": "nfbqdb7hGHVp",
        "outputId": "a4ea3657-eea1-4382-8bff-e18e1761c7a4"
      },
      "outputs": [
        {
          "name": "stdout",
          "output_type": "stream",
          "text": [
            "desperdicado\n",
            "None\n",
            "valor foi guardado.\n"
          ]
        }
      ],
      "source": [
        "def gen():\n",
        "  yield 'desperdicado'\n",
        "  g = yield\n",
        "  yield g + ' foi guardado.'\n",
        "\n",
        "it = gen()\n",
        "print(next(it))\n",
        "print(next(it))\n",
        "print(it.send('valor'))"
      ]
    },
    {
      "cell_type": "markdown",
      "id": "otHOg0IpHQJq",
      "metadata": {
        "id": "otHOg0IpHQJq"
      },
      "source": [
        "A primeira iteração retorna uma string que não é salva em nenhum lugar. A iteração posterior retorna ```None```, pois a instrução ```yield``` não veio acompanhada de nenhum valor. Chamamos então ```.send('valor')```, que produz um código equivalente ao seguinte:\n",
        "\n",
        "```\n",
        "g = 'valor'\n",
        "yield g + ' foi guardado'\n",
        "```\n",
        "\n",
        "Isso ocorre porque ```.send()``` executa as seguintes operações:\n",
        "\n",
        "1. Substitui toda a expressão ```yield``` da iteração anterior pelo argumento que lhe foi passado\n",
        "\n",
        "2. Executa a linha lógica onde esta substituição aconteceu\n",
        "\n",
        "3. Continua a execução da função\n",
        "\n",
        "O exemplo abaixo é mais complexo. O iterador é inicializado com o valor ```0```. O loop então começa. Na sua primeira execução, envia para o gerador o valor de ```x```, que é atribuído ao incremento já dentro do loop infinito na função. Este valor de incremento é usado para se somar à contagem. A função continua executando: seu loop recomeça e esbarra na próxima devolução, o valor acumulado da contagem, que é impresso pelo loop externo. E assim por diante, até o loop externo acabar."
      ]
    },
    {
      "cell_type": "code",
      "execution_count": 17,
      "id": "nMs4CsEqIPbZ",
      "metadata": {
        "colab": {
          "base_uri": "https://localhost:8080/"
        },
        "id": "nMs4CsEqIPbZ",
        "outputId": "666a8b2a-02d2-4fb4-f3c5-b7f464cee363"
      },
      "outputs": [
        {
          "name": "stdout",
          "output_type": "stream",
          "text": [
            "0\n",
            "0\n",
            "1\n",
            "3\n",
            "6\n",
            "10\n",
            "-- Concluído --\n"
          ]
        }
      ],
      "source": [
        "# soma o indice do elemento anterior\n",
        "def gen():\n",
        "  cumulativo = 0\n",
        "  while True:\n",
        "    incremento = yield cumulativo\n",
        "    cumulativo += incremento\n",
        "\n",
        "# teste\n",
        "it = gen()\n",
        "print(next(it)) # iniciando para poder receber valores de send()\n",
        "for x in range(5): # soma parcial dos 5 primeiros elementos\n",
        "  print(it.send(x))\n",
        "\n",
        "# encerrando\n",
        "it.close()\n",
        "try:\n",
        "  next(it)\n",
        "except StopIteration:\n",
        "  print('-- Concluído --')"
      ]
    },
    {
      "cell_type": "markdown",
      "id": "hlbAjFqkSE9l",
      "metadata": {
        "id": "hlbAjFqkSE9l"
      },
      "source": [
        "#### Expressão geradora"
      ]
    },
    {
      "cell_type": "markdown",
      "id": "g5uFtTQ3r5_8",
      "metadata": {
        "id": "g5uFtTQ3r5_8"
      },
      "source": [
        "É possível criar geradores por meio de uma sintaxe semelhante à de compreensão de listas, conjuntos ou dicionários, porém entre parênteses em vez de ```[]``` ou ```{}```.\n",
        "\n",
        "A vantagem de fazer esse tipo de compreensão em vez da compreensão tradicional é que os valores são criados sob demanda usando os métodos acima, em vez de serem todos estocados na memória."
      ]
    },
    {
      "cell_type": "code",
      "execution_count": 18,
      "id": "XYhRJMUMx-mx",
      "metadata": {
        "colab": {
          "base_uri": "https://localhost:8080/"
        },
        "id": "XYhRJMUMx-mx",
        "outputId": "2c99e6a1-fcd5-41c3-836f-e55de0ef9618"
      },
      "outputs": [
        {
          "name": "stdout",
          "output_type": "stream",
          "text": [
            "Objeto iterador gerador: <generator object <genexpr> at 0x00000170FF001180>\n",
            "\n",
            "1ª iteração, gerada sob demanda: 0\n",
            "\n",
            "Lista gerada por compreensão: [0, 1, 2, 3, 4, 5, 6, 7, 8, 9]\n"
          ]
        }
      ],
      "source": [
        "it = (x for x in range(10))\n",
        "print(f'Objeto iterador gerador: {it}') # apenas mostra o objeto, sem a sequência produzida\n",
        "print(f'\\n1ª iteração, gerada sob demanda: {next(it)}') # apenas gera o próximo elemento\n",
        "\n",
        "l = [y for y in range(10)]\n",
        "print(f'\\nLista gerada por compreensão: {l}') # todos os valores são calculados de imediato"
      ]
    },
    {
      "cell_type": "markdown",
      "id": "jS9eGd5Ir4-D",
      "metadata": {
        "id": "jS9eGd5Ir4-D"
      },
      "source": [
        "Os parênteses podem ser omitidos quando se trata de uma chamada de único argumento e o Python espera um iterável:"
      ]
    },
    {
      "cell_type": "code",
      "execution_count": 19,
      "id": "_Rq5olERzDMo",
      "metadata": {
        "colab": {
          "base_uri": "https://localhost:8080/"
        },
        "id": "_Rq5olERzDMo",
        "outputId": "1b5ee244-44e8-44e2-e6a5-0c2fe0131f61"
      },
      "outputs": [
        {
          "data": {
            "text/plain": [
              "45"
            ]
          },
          "execution_count": 19,
          "metadata": {},
          "output_type": "execute_result"
        }
      ],
      "source": [
        "sum(x for x in range(10))"
      ]
    },
    {
      "cell_type": "markdown",
      "id": "5nts_TUDv1Pi",
      "metadata": {
        "id": "5nts_TUDv1Pi"
      },
      "source": [
        "#### Delegação e o comando ```yield from```\n",
        "\n"
      ]
    },
    {
      "cell_type": "markdown",
      "id": "sG1M8mavwS66",
      "metadata": {
        "id": "sG1M8mavwS66"
      },
      "source": [
        "O comando ```yield from``` pode ser usado no lugar de ```yield``` para receber o que outra função geradora devolve com este último comando. A ideia é que geradores possam ser facilmente subdivididos ou modularizados, tal como fazemos com grandes funções.\n",
        "\n",
        "Suponha que queremos gerar uma caminhada que termina em um momento aleatório de tempo. Não precisamos criar iteradores ou geradores do nada. Basta receber de iteradores que já existem:"
      ]
    },
    {
      "cell_type": "code",
      "execution_count": 20,
      "id": "Ayqe-9rd5VO-",
      "metadata": {
        "colab": {
          "base_uri": "https://localhost:8080/"
        },
        "id": "Ayqe-9rd5VO-",
        "outputId": "bd26c57d-ab25-40aa-8069-08f376656e0f"
      },
      "outputs": [
        {
          "name": "stdout",
          "output_type": "stream",
          "text": [
            "1ª caminhada: [0, 1, 2, 3, 4, 5]\n",
            "2ª caminhada: [0, 1, 2, 3, 4, 5, 6, 7]\n",
            "3ª caminhada: [0]\n"
          ]
        }
      ],
      "source": [
        "N = 10 # limite máximo da caminhada\n",
        "def fim_subito():\n",
        "  yield from range(random.randint(1, N))\n",
        "\n",
        "print(f'1ª caminhada: {list(fim_subito())}')\n",
        "print(f'2ª caminhada: {list(fim_subito())}')\n",
        "print(f'3ª caminhada: {list(fim_subito())}')\n"
      ]
    },
    {
      "cell_type": "markdown",
      "id": "K0BQbgJg5OC-",
      "metadata": {
        "id": "K0BQbgJg5OC-"
      },
      "source": [
        "A vantagem desta construção é que ela permite injetar valores enviados por ```.send()``` e ```.throw()``` dentro do escopo do gerador original.\n",
        "\n",
        "O exemplo abaixo é dado na documentação oficial do Python. Ele implementa um gerador que serve de contador, sendo incrementado pelo número recebido via ```.send()```, e reseta se receber ```None```:"
      ]
    },
    {
      "cell_type": "code",
      "execution_count": 21,
      "id": "VCmmCRO_63z9",
      "metadata": {
        "colab": {
          "base_uri": "https://localhost:8080/"
        },
        "id": "VCmmCRO_63z9",
        "outputId": "c3a1faa2-60e9-4249-eee5-41ffb0eaec97"
      },
      "outputs": [
        {
          "data": {
            "text/plain": [
              "[6, 10]"
            ]
          },
          "execution_count": 21,
          "metadata": {},
          "output_type": "execute_result"
        }
      ],
      "source": [
        "def acumular():\n",
        "    contador = 0\n",
        "    while 1:\n",
        "        proximo = yield # quando send é chamada, substitui yield por seu argumento,\n",
        "                        # executa esta atribuição, e continua executando até\n",
        "                        # encontrar yield novamente ou até encontrar return\n",
        "        if proximo is None:\n",
        "            return contador\n",
        "        contador += proximo\n",
        "\n",
        "def juntar_contadores(contadores):\n",
        "    while 1:\n",
        "        contador = yield from acumular()\n",
        "        contadores.append(contador)\n",
        "\n",
        "contadores = []\n",
        "ac = juntar_contadores(contadores)\n",
        "next(ac)  # retorna None, mas se assegura de que acumular() pode começar a receber valores\n",
        "for i in range(4):\n",
        "    ac.send(i)\n",
        "\n",
        "ac.send(None)  # termina o primeiro contador\n",
        "for i in range(5):\n",
        "    ac.send(i)\n",
        "\n",
        "ac.send(None)  # termina o segundo contador\n",
        "contadores"
      ]
    },
    {
      "cell_type": "markdown",
      "id": "rJzijmkKegSC",
      "metadata": {
        "id": "rJzijmkKegSC"
      },
      "source": [
        "## Bônus"
      ]
    },
    {
      "cell_type": "markdown",
      "id": "0dMSrHH1r-E8",
      "metadata": {
        "id": "0dMSrHH1r-E8"
      },
      "source": [
        "### A compreensão de tuplas"
      ]
    },
    {
      "cell_type": "markdown",
      "id": "aFQ-wixXsBGD",
      "metadata": {
        "id": "aFQ-wixXsBGD"
      },
      "source": [
        "Como tuplas são imutáveis, não é possível criá-las usando uma compreensão direta, pois a compreensão envolve um loop que vai incrementalmente adicionando elementos a um objeto (necessariamente) mutável.\n",
        "\n",
        "Porém, como o construtor ```tuple()``` espera um iterável, podemos fazer uma espécie de compreensão indireta usando expressões geradoras, criando uma tupla assim:"
      ]
    },
    {
      "cell_type": "code",
      "execution_count": 22,
      "id": "fNCN_6oH1GY3",
      "metadata": {
        "colab": {
          "base_uri": "https://localhost:8080/"
        },
        "id": "fNCN_6oH1GY3",
        "outputId": "d68acb50-07c3-4727-f1cb-5db4a22a1289"
      },
      "outputs": [
        {
          "name": "stdout",
          "output_type": "stream",
          "text": [
            "(0, 1, 2)\n"
          ]
        }
      ],
      "source": [
        "tup = tuple(x for x in range(3))\n",
        "print(tup)"
      ]
    },
    {
      "cell_type": "markdown",
      "id": "FmQmYhD3palW",
      "metadata": {
        "id": "FmQmYhD3palW"
      },
      "source": [
        "### Exercício: recriando o loop ```for```"
      ]
    },
    {
      "cell_type": "markdown",
      "id": "AoeDrpq-CDNM",
      "metadata": {
        "id": "AoeDrpq-CDNM"
      },
      "source": [
        "Com o conhecimento adquirido acima, podemos facilmente recriar o loop for.\n",
        "\n",
        "A sintaxe desse comando em Python exige pelo menos três elementos: um nome genérico para o elemento atual (target), o iterável que iremos percorrer, e o código que desejamos executar a cada iteração (suite). Ou seja:\n",
        "\n",
        "```\n",
        "for [target] in [iterável]:\n",
        "   [suite]\n",
        "```\n",
        "\n",
        "Vamos criar uma função que recebe esses três elementos, instancia um iterador para o iterável, e o utiliza para executar o loop. A particularidade é que teremos de passar os argumentos token e suite como strings. (Por simplicidade, vamos ignorar a possibilidade de passar listas de targets usando descompressão.)\n"
      ]
    },
    {
      "cell_type": "code",
      "execution_count": 23,
      "id": "LCoOvSUqJAZ0",
      "metadata": {
        "colab": {
          "base_uri": "https://localhost:8080/"
        },
        "id": "LCoOvSUqJAZ0",
        "outputId": "106f68f8-01f6-42dc-ee23-72f272f94dfc"
      },
      "outputs": [
        {
          "name": "stdout",
          "output_type": "stream",
          "text": [
            "d\n",
            "c\n",
            "b\n",
            "a\n"
          ]
        }
      ],
      "source": [
        "# função que imita o loop for\n",
        "def ffor(target, iteravel, suite):\n",
        "  iterador = iter(iteravel)\n",
        "  while True:\n",
        "    try:\n",
        "      proximo_valor = next(iterador)\n",
        "    except StopIteration:\n",
        "      return None\n",
        "    # executa o código de uma string, herdando para dentro do escopo a variável target:\n",
        "    exec(suite, {}, {target: proximo_valor})\n",
        "\n",
        "# teste\n",
        "ffor('i', Reverso('abcd'), 'print(i)')"
      ]
    },
    {
      "cell_type": "markdown",
      "id": "ZGeU-zS_n9GH",
      "metadata": {
        "id": "ZGeU-zS_n9GH"
      },
      "source": [
        "### Contâineres e o operador ```in```"
      ]
    },
    {
      "cell_type": "markdown",
      "id": "YJJKqFQki2cA",
      "metadata": {
        "id": "YJJKqFQki2cA"
      },
      "source": [
        "Objetos do tipo contâiner são quaisquer objetos com o método ```__contains__()```, cujo conceito é estocar uma coleção de elementos. Esse método permite a operação binária ```in```, que verifica se algum dos elementos dentro do contâiner é igual ao elemento testado. Ou seja, são equivalentes:\n",
        "\n",
        "```x in y ```\n",
        "\n",
        "e\n",
        "\n",
        "```y.__contains__(x)```.\n",
        "\n",
        "E o que acontece se a classe em questão não definir tal método? O Python tenta iterar sobre o objeto usando ```__iter__()``` e ```__next__()```, e caso não consiga, usando ```__getitem__()```. Cada elemento do objeto alvo é comparado com o objeto buscado, usando tanto o operador ```in``` quanto o operador ```==``` (qualquer um que retorne ```True``` vale). Vale notar que, se tais métodos gerarem alguma exceção nesse processo, é como se o próprio operador a tivesse gerado.\n",
        "\n",
        "Vejamos alguns exemplos.\n",
        "\n",
        "O iterador abaixo é um contador. Notar que o iterador não estoca todos os valores da contagem, mas apenas o valor atual. Mesmo assim, o operador ```in``` localiza qualquer valor da contagem!"
      ]
    },
    {
      "cell_type": "code",
      "execution_count": 24,
      "id": "z_uj7tfHKygA",
      "metadata": {
        "colab": {
          "base_uri": "https://localhost:8080/"
        },
        "id": "z_uj7tfHKygA",
        "outputId": "666bb766-2678-4998-85b6-fbd416f65a9e"
      },
      "outputs": [
        {
          "name": "stdout",
          "output_type": "stream",
          "text": [
            "Contagens do contador de 5:  0  1  2  3  4 \n",
            "Teste se 3 está no contador: True\n",
            "Valor seguinte do iterador: 4\n"
          ]
        }
      ],
      "source": [
        "# iterador\n",
        "class Contador:\n",
        "  def __init__(self, N):\n",
        "    self.stop = N\n",
        "    self.count = 0\n",
        "\n",
        "  def __iter__(self):\n",
        "    return self\n",
        "\n",
        "  def __next__(self):\n",
        "    if self.count >= self.stop:\n",
        "      raise StopIteration\n",
        "    atual = self.count\n",
        "    self.count += 1\n",
        "    return atual\n",
        "\n",
        "# teste\n",
        "N = 5\n",
        "msg = 'Contagens do contador de 5: '\n",
        "\n",
        "for i in Contador(N): # instância 1\n",
        "  msg += f' {i} ' # esgotamento da instância 1\n",
        "print(msg)\n",
        "\n",
        "valor_testado = 3\n",
        "c5 = Contador(N) # instância 2\n",
        "teste = valor_testado in c5\n",
        "print(f'Teste se {valor_testado} está no contador: {teste}')\n",
        "proximo_valor = next(c5) # instância 2 ainda não foi esgotada\n",
        "print(f'Valor seguinte do iterador: {proximo_valor}')"
      ]
    },
    {
      "cell_type": "markdown",
      "id": "0C2UxAqDNQen",
      "metadata": {
        "id": "0C2UxAqDNQen"
      },
      "source": [
        "No código acima, criamos um iterador, e não um iterável. Lembre-se que um iterador, diferentemente de um iterável, é inteiramente esgotado quando iteramos uma vez sobre ele, por isso devemos instanciar dois contadores diferentes no trecho de teste do código. A segunda instância, ```c5```, permite observar que o operador ```in``` já sai da iteração assim que recebe a primeira comparação verdadeira. Como testamos um valor intermediário no meio da contagem, tal instância do iterador ainda não está esgotada, e podemos invocar ```next()``` sobre ela sem levantar nenhuma exceção, obtendo o próximo valor da iteração.\n",
        "\n",
        "Para terminar, criamos abaixo um objeto que não deixa uma iteração acessar elementos a partir de um certo ponto, levantando alguma exceção arbitrária. Vemos novamente que o operador ```in``` funciona, e desta vez ele levanta a mesma exceção levantada por ```__getitem__()```."
      ]
    },
    {
      "cell_type": "code",
      "execution_count": 25,
      "id": "edLzLZ2bNR0o",
      "metadata": {
        "colab": {
          "base_uri": "https://localhost:8080/",
          "height": 315
        },
        "id": "edLzLZ2bNR0o",
        "outputId": "9dc81790-77c1-4427-c204-c19d2a0c95f2"
      },
      "outputs": [
        {
          "name": "stdout",
          "output_type": "stream",
          "text": [
            "True\n"
          ]
        },
        {
          "ename": "Exception",
          "evalue": "Tentativa de acessar valor além do bloqueio",
          "output_type": "error",
          "traceback": [
            "\u001b[1;31m---------------------------------------------------------------------------\u001b[0m",
            "\u001b[1;31mException\u001b[0m                                 Traceback (most recent call last)",
            "Cell \u001b[1;32mIn[25], line 15\u001b[0m\n\u001b[0;32m     13\u001b[0m s \u001b[38;5;241m=\u001b[39m Bloqueio(\u001b[38;5;241m5\u001b[39m)\n\u001b[0;32m     14\u001b[0m \u001b[38;5;28mprint\u001b[39m(\u001b[38;5;241m3\u001b[39m \u001b[38;5;129;01min\u001b[39;00m s)\n\u001b[1;32m---> 15\u001b[0m \u001b[38;5;28mprint\u001b[39m(\u001b[38;5;241;43m6\u001b[39;49m\u001b[43m \u001b[49m\u001b[38;5;129;43;01min\u001b[39;49;00m\u001b[43m \u001b[49m\u001b[43ms\u001b[49m)\n",
            "Cell \u001b[1;32mIn[25], line 9\u001b[0m, in \u001b[0;36mBloqueio.__getitem__\u001b[1;34m(self, keys)\u001b[0m\n\u001b[0;32m      7\u001b[0m \u001b[38;5;28;01mdef\u001b[39;00m \u001b[38;5;21m__getitem__\u001b[39m(\u001b[38;5;28mself\u001b[39m, keys):\n\u001b[0;32m      8\u001b[0m   \u001b[38;5;28;01mif\u001b[39;00m keys \u001b[38;5;241m>\u001b[39m\u001b[38;5;241m=\u001b[39m \u001b[38;5;28mself\u001b[39m\u001b[38;5;241m.\u001b[39mblock: \u001b[38;5;66;03m# exceção arbitrária\u001b[39;00m\n\u001b[1;32m----> 9\u001b[0m     \u001b[38;5;28;01mraise\u001b[39;00m \u001b[38;5;167;01mException\u001b[39;00m(\u001b[38;5;124m'\u001b[39m\u001b[38;5;124mTentativa de acessar valor além do bloqueio\u001b[39m\u001b[38;5;124m'\u001b[39m)\n\u001b[0;32m     10\u001b[0m   \u001b[38;5;28;01mreturn\u001b[39;00m \u001b[38;5;28mself\u001b[39m\u001b[38;5;241m.\u001b[39msequencia[keys]\n",
            "\u001b[1;31mException\u001b[0m: Tentativa de acessar valor além do bloqueio"
          ]
        }
      ],
      "source": [
        "# sequencia com cauda oculta\n",
        "class Bloqueio:\n",
        "  def __init__(self, ponto_de_bloqueio, N=10):\n",
        "    self.block = ponto_de_bloqueio\n",
        "    self.sequencia = list(range(N))\n",
        "\n",
        "  def __getitem__(self, keys):\n",
        "    if keys >= self.block: # exceção arbitrária\n",
        "      raise Exception('Tentativa de acessar valor além do bloqueio')\n",
        "    return self.sequencia[keys]\n",
        "\n",
        "# teste\n",
        "s = Bloqueio(5)\n",
        "print(3 in s)\n",
        "print(6 in s)"
      ]
    },
    {
      "cell_type": "markdown",
      "id": "VqqdoMMea34S",
      "metadata": {
        "id": "VqqdoMMea34S"
      },
      "source": [
        "### Avaliação preguiçosa\n"
      ]
    },
    {
      "cell_type": "markdown",
      "id": "EIQhwZx-ftnw",
      "metadata": {
        "id": "EIQhwZx-ftnw"
      },
      "source": [
        "Para iniciantes em Python, pode parecer estranho que não consigamos acessar de imediato os valores de alguns objetos. Por exemplo, quando pedimos ao Python uma sequência finita de valores, tal como em ```range()```, por que o Python simplesmente não nos mostra o que foi criado? Por que precisamos chamar a função ```list()``` para ver os valores?"
      ]
    },
    {
      "cell_type": "code",
      "execution_count": 26,
      "id": "XZLiEbjVcGdr",
      "metadata": {
        "colab": {
          "base_uri": "https://localhost:8080/"
        },
        "id": "XZLiEbjVcGdr",
        "outputId": "6296b0c6-58be-4e26-852f-5252f4a7d0a4"
      },
      "outputs": [
        {
          "name": "stdout",
          "output_type": "stream",
          "text": [
            "range(0, 5)\n",
            "[0, 1, 2, 3, 4]\n"
          ]
        }
      ],
      "source": [
        "r = range(5)\n",
        "print(r)\n",
        "print(list(r))"
      ]
    },
    {
      "cell_type": "markdown",
      "id": "bjX2oA7icG06",
      "metadata": {
        "id": "bjX2oA7icG06"
      },
      "source": [
        "A resposta está na avaliação preguiçosa (ou *lazy evaluation*). Quando criamos um objeto da classe ```range```, os valores da sequência ainda não existem. Eles são criados sob demanda durante alguma iteração sobre este objeto. Como a função ```list()``` espera um iterável, ela invoca ```iter()```, passando por todos os procedimentos que vimos anteriormente, para então calcular e criar os elementos da lista.\n",
        "\n",
        "É esta criação sob demanda que chamamos de *lazy evaluation*, e é um dos fatores que permitem a economia de memória dos iteradores comentada acima.\n",
        "\n",
        "A mesma coisa ocorre em funções como ```map()``` ou ```filter()```:"
      ]
    },
    {
      "cell_type": "code",
      "execution_count": 27,
      "id": "8kakQVFMixbX",
      "metadata": {
        "colab": {
          "base_uri": "https://localhost:8080/"
        },
        "id": "8kakQVFMixbX",
        "outputId": "ecaf0ea7-6b6a-461b-8324-909ed1408e70"
      },
      "outputs": [
        {
          "name": "stdout",
          "output_type": "stream",
          "text": [
            "<map object at 0x00000170FF011810>\n",
            "[0, 3, 10]\n"
          ]
        }
      ],
      "source": [
        "# aproveitemos a classe definida anteriormente Caminhada_iterador\n",
        "lista_iteradores = [Caminhada_iterador(), Caminhada_iterador(3), Caminhada_iterador(10)]\n",
        "m = map(next, lista_iteradores)\n",
        "print(m)\n",
        "print(list(m))"
      ]
    },
    {
      "cell_type": "code",
      "execution_count": 28,
      "id": "naIXX2XbhSmQ",
      "metadata": {
        "colab": {
          "base_uri": "https://localhost:8080/",
          "height": 228
        },
        "id": "naIXX2XbhSmQ",
        "outputId": "ae77455f-75ab-4993-b2d4-862c85a2d809"
      },
      "outputs": [
        {
          "name": "stdout",
          "output_type": "stream",
          "text": [
            "Objeto m criado com sucesso: <map object at 0x00000170FBF64790>\n",
            "Ainda não retornou erro! Expressão não foi avaliada por preguiça.\n",
            "Agora sim avaliamos a expressão:\n"
          ]
        },
        {
          "ename": "TypeError",
          "evalue": "pow() missing required argument 'exp' (pos 2)",
          "output_type": "error",
          "traceback": [
            "\u001b[1;31m---------------------------------------------------------------------------\u001b[0m",
            "\u001b[1;31mTypeError\u001b[0m                                 Traceback (most recent call last)",
            "Cell \u001b[1;32mIn[28], line 6\u001b[0m\n\u001b[0;32m      4\u001b[0m \u001b[38;5;28mprint\u001b[39m(\u001b[38;5;124m'\u001b[39m\u001b[38;5;124mAinda não retornou erro! Expressão não foi avaliada por preguiça.\u001b[39m\u001b[38;5;124m'\u001b[39m)\n\u001b[0;32m      5\u001b[0m \u001b[38;5;28mprint\u001b[39m(\u001b[38;5;124m'\u001b[39m\u001b[38;5;124mAgora sim avaliamos a expressão:\u001b[39m\u001b[38;5;124m'\u001b[39m)\n\u001b[1;32m----> 6\u001b[0m \u001b[38;5;28;43mlist\u001b[39;49m\u001b[43m(\u001b[49m\u001b[43mm\u001b[49m\u001b[43m)\u001b[49m\n",
            "\u001b[1;31mTypeError\u001b[0m: pow() missing required argument 'exp' (pos 2)"
          ]
        }
      ],
      "source": [
        "# uso errado da função map(), pois falta um argumento a pow():\n",
        "m = map(pow, [1,2,3,4])\n",
        "print(f'Objeto m criado com sucesso: {m}')\n",
        "print('Ainda não retornou erro! Expressão não foi avaliada por preguiça.')\n",
        "print('Agora sim avaliamos a expressão:')\n",
        "list(m)"
      ]
    },
    {
      "cell_type": "markdown",
      "id": "hi28WXL-ifeP",
      "metadata": {
        "id": "hi28WXL-ifeP"
      },
      "source": [
        "Toda vez que algum documento sobre alguma funcionalidade de Python te disser que expressões serão avaliadas preguiçosamente (*lazily evaluated*), pode saber que algum tipo de iteração está envolvida, implícita ou explicitamente."
      ]
    }
  ],
  "metadata": {
    "colab": {
      "collapsed_sections": [
        "09uBylqXdnKJ",
        "rMG6te43PBfU",
        "KhzikxxXEU60",
        "ICCB3p_EeKd6",
        "7_FDKuZB8th3",
        "tVwUQyNwez4Z",
        "B3WczZbie8A4",
        "f-yNB11hfUHh",
        "KY5SSFfIAmve",
        "9dKMcqJoBvU9",
        "jHRXqTjdd4ax",
        "848YWqMbTLyF",
        "NwxW7q4WYVbj",
        "hlbAjFqkSE9l",
        "5nts_TUDv1Pi",
        "0dMSrHH1r-E8",
        "FmQmYhD3palW",
        "ZGeU-zS_n9GH",
        "VqqdoMMea34S"
      ],
      "provenance": []
    },
    "kernelspec": {
      "display_name": "Python 3",
      "language": "python",
      "name": "python3"
    },
    "language_info": {
      "codemirror_mode": {
        "name": "ipython",
        "version": 3
      },
      "file_extension": ".py",
      "mimetype": "text/x-python",
      "name": "python",
      "nbconvert_exporter": "python",
      "pygments_lexer": "ipython3",
      "version": "3.12.10"
    }
  },
  "nbformat": 4,
  "nbformat_minor": 5
}
